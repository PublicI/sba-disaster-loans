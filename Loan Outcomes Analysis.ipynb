{
 "cells": [
  {
   "cell_type": "code",
   "execution_count": 2,
   "metadata": {},
   "outputs": [],
   "source": [
    "import pandas as pd\n",
    "import matplotlib.pyplot as plt\n",
    "import random\n",
    "plt.style.use(\"ggplot\")"
   ]
  },
  {
   "cell_type": "code",
   "execution_count": 3,
   "metadata": {
    "scrolled": false
   },
   "outputs": [
    {
     "name": "stderr",
     "output_type": "stream",
     "text": [
      "C:\\Users\\zach.goldstein\\AppData\\Local\\Continuum\\anaconda3\\lib\\site-packages\\IPython\\core\\interactiveshell.py:3049: DtypeWarning: Columns (1) have mixed types. Specify dtype option on import or set low_memory=False.\n",
      "  interactivity=interactivity, compiler=compiler, result=result)\n"
     ]
    },
    {
     "name": "stdout",
     "output_type": "stream",
     "text": [
      "(676779, 11)\n"
     ]
    },
    {
     "data": {
      "text/html": [
       "<div>\n",
       "<style scoped>\n",
       "    .dataframe tbody tr th:only-of-type {\n",
       "        vertical-align: middle;\n",
       "    }\n",
       "\n",
       "    .dataframe tbody tr th {\n",
       "        vertical-align: top;\n",
       "    }\n",
       "\n",
       "    .dataframe thead th {\n",
       "        text-align: right;\n",
       "    }\n",
       "</style>\n",
       "<table border=\"1\" class=\"dataframe\">\n",
       "  <thead>\n",
       "    <tr style=\"text-align: right;\">\n",
       "      <th></th>\n",
       "      <th>Fiscal year</th>\n",
       "      <th>Disaster Number</th>\n",
       "      <th>FEMA Number</th>\n",
       "      <th>Disaster Name</th>\n",
       "      <th>Loan Type</th>\n",
       "      <th>APPROVAL AMOUNT</th>\n",
       "      <th>CITY</th>\n",
       "      <th>STATE</th>\n",
       "      <th>ZIP</th>\n",
       "      <th>COUNTY</th>\n",
       "      <th>STATUS</th>\n",
       "    </tr>\n",
       "  </thead>\n",
       "  <tbody>\n",
       "    <tr>\n",
       "      <th>0</th>\n",
       "      <td>2001</td>\n",
       "      <td>292511</td>\n",
       "      <td>1155.0</td>\n",
       "      <td>CALIF.FLOODING</td>\n",
       "      <td>1</td>\n",
       "      <td>186300</td>\n",
       "      <td>OAKLAND</td>\n",
       "      <td>CA</td>\n",
       "      <td>94619</td>\n",
       "      <td>ALAMEDA</td>\n",
       "      <td>P I F</td>\n",
       "    </tr>\n",
       "    <tr>\n",
       "      <th>1</th>\n",
       "      <td>2001</td>\n",
       "      <td>305706</td>\n",
       "      <td>1203.0</td>\n",
       "      <td>CA STORMS/FLOODING</td>\n",
       "      <td>1</td>\n",
       "      <td>60300</td>\n",
       "      <td>LAGUNA NIGUEL</td>\n",
       "      <td>CA</td>\n",
       "      <td>92607</td>\n",
       "      <td>ORANGE</td>\n",
       "      <td>P I F</td>\n",
       "    </tr>\n",
       "    <tr>\n",
       "      <th>2</th>\n",
       "      <td>2001</td>\n",
       "      <td>305706</td>\n",
       "      <td>1203.0</td>\n",
       "      <td>CA STORMS/FLOODING</td>\n",
       "      <td>1</td>\n",
       "      <td>77700</td>\n",
       "      <td>GUERNEVILLE</td>\n",
       "      <td>CA</td>\n",
       "      <td>95446</td>\n",
       "      <td>SONOMA</td>\n",
       "      <td>NaN</td>\n",
       "    </tr>\n",
       "    <tr>\n",
       "      <th>3</th>\n",
       "      <td>2001</td>\n",
       "      <td>305706</td>\n",
       "      <td>1203.0</td>\n",
       "      <td>CA STORMS/FLOODING</td>\n",
       "      <td>1</td>\n",
       "      <td>200000</td>\n",
       "      <td>MCDONOUGH</td>\n",
       "      <td>GA</td>\n",
       "      <td>30252</td>\n",
       "      <td>SAN MATEO</td>\n",
       "      <td>P I F</td>\n",
       "    </tr>\n",
       "    <tr>\n",
       "      <th>4</th>\n",
       "      <td>2001</td>\n",
       "      <td>307412</td>\n",
       "      <td>1212.0</td>\n",
       "      <td>MN TORNADOES</td>\n",
       "      <td>1</td>\n",
       "      <td>22800</td>\n",
       "      <td>LA CROSSE</td>\n",
       "      <td>WI</td>\n",
       "      <td>54603</td>\n",
       "      <td>NICOLLET</td>\n",
       "      <td>NaN</td>\n",
       "    </tr>\n",
       "  </tbody>\n",
       "</table>\n",
       "</div>"
      ],
      "text/plain": [
       "   Fiscal year Disaster Number  FEMA Number       Disaster Name  Loan Type  \\\n",
       "0         2001          292511       1155.0      CALIF.FLOODING          1   \n",
       "1         2001          305706       1203.0  CA STORMS/FLOODING          1   \n",
       "2         2001          305706       1203.0  CA STORMS/FLOODING          1   \n",
       "3         2001          305706       1203.0  CA STORMS/FLOODING          1   \n",
       "4         2001          307412       1212.0        MN TORNADOES          1   \n",
       "\n",
       "   APPROVAL AMOUNT           CITY STATE    ZIP     COUNTY STATUS  \n",
       "0           186300        OAKLAND    CA  94619    ALAMEDA  P I F  \n",
       "1            60300  LAGUNA NIGUEL    CA  92607     ORANGE  P I F  \n",
       "2            77700    GUERNEVILLE    CA  95446     SONOMA    NaN  \n",
       "3           200000      MCDONOUGH    GA  30252  SAN MATEO  P I F  \n",
       "4            22800      LA CROSSE    WI  54603   NICOLLET    NaN  "
      ]
     },
     "execution_count": 3,
     "metadata": {},
     "output_type": "execute_result"
    }
   ],
   "source": [
    "df = pd.read_csv(\"FOIA Hopkins 2019 000716 Final.csv\")\n",
    "print(df.shape)\n",
    "df.head()"
   ]
  },
  {
   "cell_type": "code",
   "execution_count": 4,
   "metadata": {},
   "outputs": [
    {
     "data": {
      "text/plain": [
       "Fiscal year          int64\n",
       "Disaster Number     object\n",
       "FEMA Number        float64\n",
       "Disaster Name       object\n",
       "Loan Type            int64\n",
       "APPROVAL AMOUNT      int64\n",
       "CITY                object\n",
       "STATE               object\n",
       "ZIP                  int64\n",
       "COUNTY              object\n",
       "STATUS              object\n",
       "dtype: object"
      ]
     },
     "execution_count": 4,
     "metadata": {},
     "output_type": "execute_result"
    }
   ],
   "source": [
    "df.dtypes"
   ]
  },
  {
   "cell_type": "code",
   "execution_count": 5,
   "metadata": {
    "scrolled": true
   },
   "outputs": [
    {
     "data": {
      "text/plain": [
       "1    575854\n",
       "2    100681\n",
       "4       244\n",
       "Name: Loan Type, dtype: int64"
      ]
     },
     "execution_count": 5,
     "metadata": {},
     "output_type": "execute_result"
    }
   ],
   "source": [
    "# Should find out what this means.\n",
    "df['Loan Type'].value_counts()"
   ]
  },
  {
   "cell_type": "code",
   "execution_count": 24,
   "metadata": {},
   "outputs": [],
   "source": [
    "df.loc[df['Loan Type']==4,\"Loan Type\"] = 2"
   ]
  },
  {
   "cell_type": "code",
   "execution_count": 6,
   "metadata": {},
   "outputs": [
    {
     "data": {
      "text/plain": [
       "P I F     197921\n",
       "CHGOFF     56242\n",
       "Name: STATUS, dtype: int64"
      ]
     },
     "execution_count": 6,
     "metadata": {},
     "output_type": "execute_result"
    }
   ],
   "source": [
    "df['STATUS'].value_counts()"
   ]
  },
  {
   "cell_type": "code",
   "execution_count": 7,
   "metadata": {},
   "outputs": [
    {
     "data": {
      "text/plain": [
       "0.6244519998404205"
      ]
     },
     "execution_count": 7,
     "metadata": {},
     "output_type": "execute_result"
    }
   ],
   "source": [
    "# Status is usually missing\n",
    "len(df[df['STATUS'].isna()]) / len(df)"
   ]
  },
  {
   "cell_type": "code",
   "execution_count": 8,
   "metadata": {},
   "outputs": [],
   "source": [
    "# http://np.news-press.com/data/102\n",
    "# CHGOFF means \"charged off\" - meaning government doesn't think it'll be repaid\n",
    "# PIF I think means \"paid in full\" but should confirm"
   ]
  },
  {
   "cell_type": "code",
   "execution_count": 9,
   "metadata": {},
   "outputs": [
    {
     "data": {
      "text/html": [
       "<div>\n",
       "<style scoped>\n",
       "    .dataframe tbody tr th:only-of-type {\n",
       "        vertical-align: middle;\n",
       "    }\n",
       "\n",
       "    .dataframe tbody tr th {\n",
       "        vertical-align: top;\n",
       "    }\n",
       "\n",
       "    .dataframe thead th {\n",
       "        text-align: right;\n",
       "    }\n",
       "</style>\n",
       "<table border=\"1\" class=\"dataframe\">\n",
       "  <thead>\n",
       "    <tr style=\"text-align: right;\">\n",
       "      <th></th>\n",
       "      <th>FEMA Number</th>\n",
       "      <th>Loans</th>\n",
       "      <th>Charged Off</th>\n",
       "      <th>Charged Off Rate</th>\n",
       "    </tr>\n",
       "  </thead>\n",
       "  <tbody>\n",
       "    <tr>\n",
       "      <th>0</th>\n",
       "      <td>0.0</td>\n",
       "      <td>10310</td>\n",
       "      <td>579</td>\n",
       "      <td>0.056159</td>\n",
       "    </tr>\n",
       "    <tr>\n",
       "      <th>1</th>\n",
       "      <td>1134.0</td>\n",
       "      <td>1</td>\n",
       "      <td>0</td>\n",
       "      <td>0.000000</td>\n",
       "    </tr>\n",
       "    <tr>\n",
       "      <th>2</th>\n",
       "      <td>1155.0</td>\n",
       "      <td>1</td>\n",
       "      <td>0</td>\n",
       "      <td>0.000000</td>\n",
       "    </tr>\n",
       "    <tr>\n",
       "      <th>3</th>\n",
       "      <td>1203.0</td>\n",
       "      <td>3</td>\n",
       "      <td>0</td>\n",
       "      <td>0.000000</td>\n",
       "    </tr>\n",
       "    <tr>\n",
       "      <th>4</th>\n",
       "      <td>1212.0</td>\n",
       "      <td>2</td>\n",
       "      <td>0</td>\n",
       "      <td>0.000000</td>\n",
       "    </tr>\n",
       "  </tbody>\n",
       "</table>\n",
       "</div>"
      ],
      "text/plain": [
       "   FEMA Number  Loans  Charged Off  Charged Off Rate\n",
       "0          0.0  10310          579          0.056159\n",
       "1       1134.0      1            0          0.000000\n",
       "2       1155.0      1            0          0.000000\n",
       "3       1203.0      3            0          0.000000\n",
       "4       1212.0      2            0          0.000000"
      ]
     },
     "execution_count": 9,
     "metadata": {},
     "output_type": "execute_result"
    }
   ],
   "source": [
    "# Charged off rate\n",
    "rows = []\n",
    "for i, data in df.groupby(by = \"FEMA Number\"):\n",
    "    total = len(data)\n",
    "    chgoffs = len(data[data['STATUS']==\"CHGOFF\"])\n",
    "    rows.append([i, total, chgoffs])\n",
    "df_disaster = pd.DataFrame(rows)\n",
    "df_disaster.columns = ['FEMA Number','Loans','Charged Off']\n",
    "df_disaster['Charged Off Rate'] = df_disaster['Charged Off'] / df_disaster['Loans']\n",
    "df_disaster.head()"
   ]
  },
  {
   "cell_type": "code",
   "execution_count": 10,
   "metadata": {},
   "outputs": [
    {
     "data": {
      "text/plain": [
       "count    500.000\n",
       "mean       0.083\n",
       "std        0.105\n",
       "min        0.000\n",
       "25%        0.031\n",
       "50%        0.068\n",
       "75%        0.105\n",
       "max        1.000\n",
       "Name: Charged Off Rate, dtype: float64"
      ]
     },
     "execution_count": 10,
     "metadata": {},
     "output_type": "execute_result"
    }
   ],
   "source": [
    "round(df_disaster['Charged Off Rate'].describe(),3)"
   ]
  },
  {
   "cell_type": "code",
   "execution_count": 11,
   "metadata": {},
   "outputs": [
    {
     "data": {
      "text/plain": [
       "<matplotlib.axes._subplots.AxesSubplot at 0x19716007e10>"
      ]
     },
     "execution_count": 11,
     "metadata": {},
     "output_type": "execute_result"
    },
    {
     "data": {
      "image/png": "[encoded data removed]",
      "text/plain": [
       "<Figure size 432x288 with 1 Axes>"
      ]
     },
     "metadata": {
      "needs_background": "light"
     },
     "output_type": "display_data"
    }
   ],
   "source": [
    "df_disaster['Charged Off Rate'].hist()"
   ]
  },
  {
   "cell_type": "code",
   "execution_count": 12,
   "metadata": {},
   "outputs": [
    {
     "data": {
      "text/html": [
       "<div>\n",
       "<style scoped>\n",
       "    .dataframe tbody tr th:only-of-type {\n",
       "        vertical-align: middle;\n",
       "    }\n",
       "\n",
       "    .dataframe tbody tr th {\n",
       "        vertical-align: top;\n",
       "    }\n",
       "\n",
       "    .dataframe thead th {\n",
       "        text-align: right;\n",
       "    }\n",
       "</style>\n",
       "<table border=\"1\" class=\"dataframe\">\n",
       "  <thead>\n",
       "    <tr style=\"text-align: right;\">\n",
       "      <th></th>\n",
       "      <th>FEMA Number</th>\n",
       "      <th>Loans</th>\n",
       "      <th>Charged Off</th>\n",
       "      <th>Charged Off Rate</th>\n",
       "    </tr>\n",
       "  </thead>\n",
       "  <tbody>\n",
       "    <tr>\n",
       "      <th>9</th>\n",
       "      <td>1283.0</td>\n",
       "      <td>1</td>\n",
       "      <td>1</td>\n",
       "      <td>1.000000</td>\n",
       "    </tr>\n",
       "    <tr>\n",
       "      <th>19</th>\n",
       "      <td>1310.0</td>\n",
       "      <td>1</td>\n",
       "      <td>1</td>\n",
       "      <td>1.000000</td>\n",
       "    </tr>\n",
       "    <tr>\n",
       "      <th>16</th>\n",
       "      <td>1299.0</td>\n",
       "      <td>1</td>\n",
       "      <td>1</td>\n",
       "      <td>1.000000</td>\n",
       "    </tr>\n",
       "    <tr>\n",
       "      <th>81</th>\n",
       "      <td>1418.0</td>\n",
       "      <td>1</td>\n",
       "      <td>1</td>\n",
       "      <td>1.000000</td>\n",
       "    </tr>\n",
       "    <tr>\n",
       "      <th>89</th>\n",
       "      <td>1427.0</td>\n",
       "      <td>152</td>\n",
       "      <td>85</td>\n",
       "      <td>0.559211</td>\n",
       "    </tr>\n",
       "    <tr>\n",
       "      <th>23</th>\n",
       "      <td>1327.0</td>\n",
       "      <td>3</td>\n",
       "      <td>1</td>\n",
       "      <td>0.333333</td>\n",
       "    </tr>\n",
       "    <tr>\n",
       "      <th>13</th>\n",
       "      <td>1294.0</td>\n",
       "      <td>3</td>\n",
       "      <td>1</td>\n",
       "      <td>0.333333</td>\n",
       "    </tr>\n",
       "    <tr>\n",
       "      <th>21</th>\n",
       "      <td>1322.0</td>\n",
       "      <td>3</td>\n",
       "      <td>1</td>\n",
       "      <td>0.333333</td>\n",
       "    </tr>\n",
       "    <tr>\n",
       "      <th>162</th>\n",
       "      <td>1527.0</td>\n",
       "      <td>2343</td>\n",
       "      <td>741</td>\n",
       "      <td>0.316261</td>\n",
       "    </tr>\n",
       "    <tr>\n",
       "      <th>123</th>\n",
       "      <td>1473.0</td>\n",
       "      <td>231</td>\n",
       "      <td>71</td>\n",
       "      <td>0.307359</td>\n",
       "    </tr>\n",
       "  </tbody>\n",
       "</table>\n",
       "</div>"
      ],
      "text/plain": [
       "     FEMA Number  Loans  Charged Off  Charged Off Rate\n",
       "9         1283.0      1            1          1.000000\n",
       "19        1310.0      1            1          1.000000\n",
       "16        1299.0      1            1          1.000000\n",
       "81        1418.0      1            1          1.000000\n",
       "89        1427.0    152           85          0.559211\n",
       "23        1327.0      3            1          0.333333\n",
       "13        1294.0      3            1          0.333333\n",
       "21        1322.0      3            1          0.333333\n",
       "162       1527.0   2343          741          0.316261\n",
       "123       1473.0    231           71          0.307359"
      ]
     },
     "execution_count": 12,
     "metadata": {},
     "output_type": "execute_result"
    }
   ],
   "source": [
    "df_disaster.sort_values(by = \"Charged Off Rate\", ascending = False).head(10)"
   ]
  },
  {
   "cell_type": "code",
   "execution_count": 13,
   "metadata": {},
   "outputs": [
    {
     "data": {
      "text/plain": [
       "0.08113468824408503"
      ]
     },
     "execution_count": 13,
     "metadata": {},
     "output_type": "execute_result"
    }
   ],
   "source": [
    "rate = df_disaster['Charged Off'].sum() / df_disaster['Loans'].sum()\n",
    "rate"
   ]
  },
  {
   "cell_type": "code",
   "execution_count": 14,
   "metadata": {},
   "outputs": [
    {
     "data": {
      "text/plain": [
       "0.10502091127650609"
      ]
     },
     "execution_count": 14,
     "metadata": {},
     "output_type": "execute_result"
    }
   ],
   "source": [
    "observed_std = df_disaster['Charged Off Rate'].std()\n",
    "observed_std"
   ]
  },
  {
   "cell_type": "markdown",
   "metadata": {},
   "source": [
    "Simulation"
   ]
  },
  {
   "cell_type": "code",
   "execution_count": 15,
   "metadata": {},
   "outputs": [
    {
     "data": {
      "text/plain": [
       "0.056"
      ]
     },
     "execution_count": 15,
     "metadata": {},
     "output_type": "execute_result"
    }
   ],
   "source": [
    "random.seed(3169)\n",
    "def simulate(x, rate = rate):\n",
    "    charged_offs = 0\n",
    "    for i in range(x):\n",
    "        if random.random() < rate:\n",
    "            charged_offs += 1\n",
    "    return charged_offs / x\n",
    "\n",
    "trials = 1000\n",
    "stds = []\n",
    "for trial in range(trials):\n",
    "    simulated_charged_off_rate_std = df_disaster['Loans'].apply(lambda x: simulate(x)).std()\n",
    "    \n",
    "    stds.append(simulated_charged_off_rate_std)    \n",
    "p = len(list(filter(lambda x: x > observed_std, stds))) / trials\n",
    "p"
   ]
  },
  {
   "cell_type": "code",
   "execution_count": 16,
   "metadata": {},
   "outputs": [],
   "source": [
    "# Not statistically significant at the .05 level"
   ]
  },
  {
   "cell_type": "markdown",
   "metadata": {},
   "source": [
    "Business vs. Home loan charge off rate"
   ]
  },
  {
   "cell_type": "code",
   "execution_count": 17,
   "metadata": {},
   "outputs": [
    {
     "data": {
      "text/html": [
       "<div>\n",
       "<style scoped>\n",
       "    .dataframe tbody tr th:only-of-type {\n",
       "        vertical-align: middle;\n",
       "    }\n",
       "\n",
       "    .dataframe tbody tr th {\n",
       "        vertical-align: top;\n",
       "    }\n",
       "\n",
       "    .dataframe thead th {\n",
       "        text-align: right;\n",
       "    }\n",
       "</style>\n",
       "<table border=\"1\" class=\"dataframe\">\n",
       "  <thead>\n",
       "    <tr style=\"text-align: right;\">\n",
       "      <th></th>\n",
       "      <th>Fiscal year</th>\n",
       "      <th>Disaster Number</th>\n",
       "      <th>FEMA Number</th>\n",
       "      <th>Disaster Name</th>\n",
       "      <th>Loan Type</th>\n",
       "      <th>APPROVAL AMOUNT</th>\n",
       "      <th>CITY</th>\n",
       "      <th>STATE</th>\n",
       "      <th>ZIP</th>\n",
       "      <th>COUNTY</th>\n",
       "      <th>STATUS</th>\n",
       "    </tr>\n",
       "  </thead>\n",
       "  <tbody>\n",
       "    <tr>\n",
       "      <th>0</th>\n",
       "      <td>2001</td>\n",
       "      <td>292511</td>\n",
       "      <td>1155.0</td>\n",
       "      <td>CALIF.FLOODING</td>\n",
       "      <td>1</td>\n",
       "      <td>186300</td>\n",
       "      <td>OAKLAND</td>\n",
       "      <td>CA</td>\n",
       "      <td>94619</td>\n",
       "      <td>ALAMEDA</td>\n",
       "      <td>P I F</td>\n",
       "    </tr>\n",
       "    <tr>\n",
       "      <th>1</th>\n",
       "      <td>2001</td>\n",
       "      <td>305706</td>\n",
       "      <td>1203.0</td>\n",
       "      <td>CA STORMS/FLOODING</td>\n",
       "      <td>1</td>\n",
       "      <td>60300</td>\n",
       "      <td>LAGUNA NIGUEL</td>\n",
       "      <td>CA</td>\n",
       "      <td>92607</td>\n",
       "      <td>ORANGE</td>\n",
       "      <td>P I F</td>\n",
       "    </tr>\n",
       "    <tr>\n",
       "      <th>2</th>\n",
       "      <td>2001</td>\n",
       "      <td>305706</td>\n",
       "      <td>1203.0</td>\n",
       "      <td>CA STORMS/FLOODING</td>\n",
       "      <td>1</td>\n",
       "      <td>77700</td>\n",
       "      <td>GUERNEVILLE</td>\n",
       "      <td>CA</td>\n",
       "      <td>95446</td>\n",
       "      <td>SONOMA</td>\n",
       "      <td>NaN</td>\n",
       "    </tr>\n",
       "    <tr>\n",
       "      <th>3</th>\n",
       "      <td>2001</td>\n",
       "      <td>305706</td>\n",
       "      <td>1203.0</td>\n",
       "      <td>CA STORMS/FLOODING</td>\n",
       "      <td>1</td>\n",
       "      <td>200000</td>\n",
       "      <td>MCDONOUGH</td>\n",
       "      <td>GA</td>\n",
       "      <td>30252</td>\n",
       "      <td>SAN MATEO</td>\n",
       "      <td>P I F</td>\n",
       "    </tr>\n",
       "    <tr>\n",
       "      <th>4</th>\n",
       "      <td>2001</td>\n",
       "      <td>307412</td>\n",
       "      <td>1212.0</td>\n",
       "      <td>MN TORNADOES</td>\n",
       "      <td>1</td>\n",
       "      <td>22800</td>\n",
       "      <td>LA CROSSE</td>\n",
       "      <td>WI</td>\n",
       "      <td>54603</td>\n",
       "      <td>NICOLLET</td>\n",
       "      <td>NaN</td>\n",
       "    </tr>\n",
       "  </tbody>\n",
       "</table>\n",
       "</div>"
      ],
      "text/plain": [
       "   Fiscal year Disaster Number  FEMA Number       Disaster Name  Loan Type  \\\n",
       "0         2001          292511       1155.0      CALIF.FLOODING          1   \n",
       "1         2001          305706       1203.0  CA STORMS/FLOODING          1   \n",
       "2         2001          305706       1203.0  CA STORMS/FLOODING          1   \n",
       "3         2001          305706       1203.0  CA STORMS/FLOODING          1   \n",
       "4         2001          307412       1212.0        MN TORNADOES          1   \n",
       "\n",
       "   APPROVAL AMOUNT           CITY STATE    ZIP     COUNTY STATUS  \n",
       "0           186300        OAKLAND    CA  94619    ALAMEDA  P I F  \n",
       "1            60300  LAGUNA NIGUEL    CA  92607     ORANGE  P I F  \n",
       "2            77700    GUERNEVILLE    CA  95446     SONOMA    NaN  \n",
       "3           200000      MCDONOUGH    GA  30252  SAN MATEO  P I F  \n",
       "4            22800      LA CROSSE    WI  54603   NICOLLET    NaN  "
      ]
     },
     "execution_count": 17,
     "metadata": {},
     "output_type": "execute_result"
    }
   ],
   "source": [
    "df.head()"
   ]
  },
  {
   "cell_type": "code",
   "execution_count": 20,
   "metadata": {},
   "outputs": [
    {
     "data": {
      "text/plain": [
       "0.7829545674894806"
      ]
     },
     "execution_count": 20,
     "metadata": {},
     "output_type": "execute_result"
    }
   ],
   "source": [
    "len(df[(df['Loan Type']==1)&(df['STATUS']==\"P I F\")]) / len(df[(df['Loan Type']==1)&(df['STATUS'].isna()==False)]) "
   ]
  },
  {
   "cell_type": "code",
   "execution_count": 26,
   "metadata": {},
   "outputs": [
    {
     "data": {
      "text/plain": [
       "0.760458656195827"
      ]
     },
     "execution_count": 26,
     "metadata": {},
     "output_type": "execute_result"
    }
   ],
   "source": [
    "len(df[(df['Loan Type']==2)&(df['STATUS']==\"P I F\")]) / len(df[(df['Loan Type']==2)&(df['STATUS'].isna()==False)]) "
   ]
  },
  {
   "cell_type": "code",
   "execution_count": 30,
   "metadata": {},
   "outputs": [
    {
     "data": {
      "text/plain": [
       "2363036100"
      ]
     },
     "execution_count": 30,
     "metadata": {},
     "output_type": "execute_result"
    }
   ],
   "source": [
    "df.loc[df['STATUS']==\"CHGOFF\",\"APPROVAL AMOUNT\"].sum()"
   ]
  },
  {
   "cell_type": "code",
   "execution_count": 40,
   "metadata": {},
   "outputs": [
    {
     "data": {
      "text/plain": [
       "1603.0    38362\n",
       "1604.0    17497\n",
       "1609.0     9329\n",
       "1379.0     8571\n",
       "1539.0     7156\n",
       "Name: FEMA Number, dtype: int64"
      ]
     },
     "execution_count": 40,
     "metadata": {},
     "output_type": "execute_result"
    }
   ],
   "source": [
    "df.dropna(subset = [\"STATUS\"], axis = 0)['FEMA Number'].value_counts().head()"
   ]
  },
  {
   "cell_type": "code",
   "execution_count": null,
   "metadata": {},
   "outputs": [],
   "source": []
  }
 ],
 "metadata": {
  "kernelspec": {
   "display_name": "Python 3",
   "language": "python",
   "name": "python3"
  },
  "language_info": {
   "codemirror_mode": {
    "name": "ipython",
    "version": 3
   },
   "file_extension": ".py",
   "mimetype": "text/x-python",
   "name": "python",
   "nbconvert_exporter": "python",
   "pygments_lexer": "ipython3",
   "version": "3.7.3"
  }
 },
 "nbformat": 4,
 "nbformat_minor": 2
}
