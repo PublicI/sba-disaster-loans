{
 "cells": [
  {
   "cell_type": "code",
   "execution_count": 1,
   "metadata": {},
   "outputs": [],
   "source": [
    "import pandas as pd"
   ]
  },
  {
   "cell_type": "code",
   "execution_count": 2,
   "metadata": {},
   "outputs": [],
   "source": [
    "df_approvals = pd.read_excel(\"data/FOIA Leven Approvals  FINAL.xlsx\",\n",
    "                               quotechar=\"'\", delimiter=\"\\t\")\n",
    "print(df_approvals.shape)\n",
    "df_approvals.head()"
   ]
  },
  {
   "cell_type": "code",
   "execution_count": 3,
   "metadata": {},
   "outputs": [],
   "source": [
    "df_approvals = df_approvals.applymap(lambda x: x.strip(\"'\") if isinstance(x, str) else x)\n",
    "df_approvals.sample(5)"
   ]
  },
  {
   "cell_type": "code",
   "execution_count": 4,
   "metadata": {},
   "outputs": [],
   "source": [
    "# One sheet\n",
    "xls = pd.ExcelFile(\"data/FOIA Leven Approvals  FINAL.xlsx\")\n",
    "sheets = xls.sheet_names\n",
    "sheets"
   ]
  },
  {
   "cell_type": "code",
   "execution_count": 5,
   "metadata": {},
   "outputs": [],
   "source": [
    "# Two sheets\n",
    "withdrawals_excel = pd.ExcelFile(\"data/FOIA Leven Withdrawn Data FINAL.xlsx\")\n",
    "withdrawals_sheets = withdrawals_excel.sheet_names\n",
    "withdrawals_sheets"
   ]
  },
  {
   "cell_type": "code",
   "execution_count": 6,
   "metadata": {},
   "outputs": [],
   "source": [
    "# Two sheets\n",
    "declines_excel = pd.ExcelFile(\"data/FOIA LEven Decline Data FINAL.xlsx\")\n",
    "declines_sheets = declines_excel.sheet_names\n",
    "declines_sheets"
   ]
  },
  {
   "cell_type": "code",
   "execution_count": 7,
   "metadata": {},
   "outputs": [],
   "source": [
    "# Probably the same as the codes in the declines spreadsheet\n",
    "w_d_codes = pd.read_excel(\"data/FOIA Leven Withdrawn Data FINAL.xlsx\", sheet_name = \"W and D Codes\")\n",
    "print(w_d_codes.shape)\n",
    "w_d_codes.head()"
   ]
  },
  {
   "cell_type": "code",
   "execution_count": 8,
   "metadata": {},
   "outputs": [],
   "source": [
    "df_withdrawals = pd.read_excel(\"data/FOIA Leven Withdrawn Data FINAL.xlsx\", sheet_name = \"WITHDRAWN\",\n",
    "                               quotechar=\"'\", delimiter=\"\\t\")\n",
    "print(df_withdrawals.shape)\n",
    "df_withdrawals.head()"
   ]
  },
  {
   "cell_type": "code",
   "execution_count": 9,
   "metadata": {},
   "outputs": [],
   "source": [
    "df_withdrawals = df_withdrawals.applymap(lambda x: x.strip(\"'\") if isinstance(x, str) else x)\n",
    "df_withdrawals.sample(5)"
   ]
  },
  {
   "cell_type": "code",
   "execution_count": 10,
   "metadata": {},
   "outputs": [],
   "source": [
    "df_declines = pd.read_excel(\"data/FOIA LEven Decline Data FINAL.xlsx\", sheet_name = 1)\n",
    "print(df_declines.shape)\n",
    "df_declines.head()"
   ]
  },
  {
   "cell_type": "code",
   "execution_count": 11,
   "metadata": {},
   "outputs": [],
   "source": [
    "df_declines = df_declines.applymap(lambda x: x.strip(\"'\") if isinstance(x, str) else x)\n",
    "df_declines.sample(5)"
   ]
  },
  {
   "cell_type": "markdown",
   "metadata": {},
   "source": [
    "Convert excel files to csvs so I can load them faster in the future"
   ]
  },
  {
   "cell_type": "code",
   "execution_count": 12,
   "metadata": {},
   "outputs": [],
   "source": [
    "df_approvals.to_csv(\"data/sba_disaster_loan_approvals.csv\", index = False)\n",
    "df_withdrawals.to_csv(\"data/sba_disaster_loan_withdrawals.csv\", index = False)\n",
    "df_declines.to_csv(\"data/sba_disaster_loan_declines.csv\", index = False)\n",
    "w_d_codes.to_csv(\"data/sba_disaster_loan_codes.csv\", index = False)"
   ]
  }
 ],
 "metadata": {
  "kernelspec": {
   "display_name": "Python 3",
   "language": "python",
   "name": "python3"
  },
  "language_info": {
   "codemirror_mode": {
    "name": "ipython",
    "version": 3
   },
   "file_extension": ".py",
   "mimetype": "text/x-python",
   "name": "python",
   "nbconvert_exporter": "python",
   "pygments_lexer": "ipython3",
   "version": "3.7.3"
  }
 },
 "nbformat": 4,
 "nbformat_minor": 4
}
