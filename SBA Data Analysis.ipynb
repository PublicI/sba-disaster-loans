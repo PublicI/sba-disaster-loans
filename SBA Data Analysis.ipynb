{
 "cells": [
  {
   "cell_type": "markdown",
   "metadata": {},
   "source": [
    "# Data Analysis for August 2019 story on SBA disaster loans"
   ]
  },
  {
   "cell_type": "markdown",
   "metadata": {},
   "source": [
    "Link to download data: https://drive.google.com/drive/folders/1EZeJ-4Jlvteo0AiAmL-3X_otM-AD294i?usp=sharing\n",
    "\n",
    "Data obtained via FOIA request from the United States Small Businses Administration. "
   ]
  },
  {
   "cell_type": "markdown",
   "metadata": {},
   "source": [
    "## Import libraries"
   ]
  },
  {
   "cell_type": "code",
   "execution_count": 1,
   "metadata": {},
   "outputs": [],
   "source": [
    "import pandas as pd\n",
    "import os\n",
    "import matplotlib.pyplot as plt\n",
    "import us\n",
    "plt.style.use(\"ggplot\")"
   ]
  },
  {
   "cell_type": "markdown",
   "metadata": {},
   "source": [
    "## Read in data"
   ]
  },
  {
   "cell_type": "code",
   "execution_count": 2,
   "metadata": {},
   "outputs": [
    {
     "name": "stderr",
     "output_type": "stream",
     "text": [
      "/Users/chriszs/.local/share/virtualenvs/sba-disaster-loans-Vh0_YBhL/lib/python3.7/site-packages/IPython/core/interactiveshell.py:3058: DtypeWarning: Columns (1,2,3,7,10) have mixed types. Specify dtype option on import or set low_memory=False.\n",
      "  interactivity=interactivity, compiler=compiler, result=result)\n"
     ]
    },
    {
     "name": "stdout",
     "output_type": "stream",
     "text": [
      "(609273, 11)\n"
     ]
    },
    {
     "data": {
      "text/html": [
       "<div>\n",
       "<style scoped>\n",
       "    .dataframe tbody tr th:only-of-type {\n",
       "        vertical-align: middle;\n",
       "    }\n",
       "\n",
       "    .dataframe tbody tr th {\n",
       "        vertical-align: top;\n",
       "    }\n",
       "\n",
       "    .dataframe thead th {\n",
       "        text-align: right;\n",
       "    }\n",
       "</style>\n",
       "<table border=\"1\" class=\"dataframe\">\n",
       "  <thead>\n",
       "    <tr style=\"text-align: right;\">\n",
       "      <th></th>\n",
       "      <th>FY</th>\n",
       "      <th>SBA_PHYS_NBR</th>\n",
       "      <th>SBA_EIDL_NBR</th>\n",
       "      <th>FEMA_DECL</th>\n",
       "      <th>SBA_DECL</th>\n",
       "      <th>CITY</th>\n",
       "      <th>STATE</th>\n",
       "      <th>ZIP</th>\n",
       "      <th>COUNTY</th>\n",
       "      <th>LOAN_TYPE</th>\n",
       "      <th>ORIGINAL_APPROVAL_AMOUNT</th>\n",
       "    </tr>\n",
       "  </thead>\n",
       "  <tbody>\n",
       "    <tr>\n",
       "      <th>0</th>\n",
       "      <td>2004</td>\n",
       "      <td></td>\n",
       "      <td>R304</td>\n",
       "      <td></td>\n",
       "      <td>R304</td>\n",
       "      <td>BEAUMONT</td>\n",
       "      <td>TX</td>\n",
       "      <td>77707</td>\n",
       "      <td>NaN</td>\n",
       "      <td>B</td>\n",
       "      <td>88000</td>\n",
       "    </tr>\n",
       "    <tr>\n",
       "      <th>1</th>\n",
       "      <td>2004</td>\n",
       "      <td></td>\n",
       "      <td>R304</td>\n",
       "      <td></td>\n",
       "      <td>R304</td>\n",
       "      <td>BLUE SPRINGS</td>\n",
       "      <td>MO</td>\n",
       "      <td>64014</td>\n",
       "      <td>NaN</td>\n",
       "      <td>B</td>\n",
       "      <td>40000</td>\n",
       "    </tr>\n",
       "    <tr>\n",
       "      <th>2</th>\n",
       "      <td>2004</td>\n",
       "      <td></td>\n",
       "      <td>R304</td>\n",
       "      <td></td>\n",
       "      <td>R304</td>\n",
       "      <td>BOULDER</td>\n",
       "      <td>CO</td>\n",
       "      <td>80304</td>\n",
       "      <td>NaN</td>\n",
       "      <td>B</td>\n",
       "      <td>54500</td>\n",
       "    </tr>\n",
       "    <tr>\n",
       "      <th>3</th>\n",
       "      <td>2003</td>\n",
       "      <td></td>\n",
       "      <td>R203</td>\n",
       "      <td></td>\n",
       "      <td>R203</td>\n",
       "      <td>PALM BAY</td>\n",
       "      <td>FL</td>\n",
       "      <td>32907</td>\n",
       "      <td>NaN</td>\n",
       "      <td>B</td>\n",
       "      <td>79400</td>\n",
       "    </tr>\n",
       "    <tr>\n",
       "      <th>4</th>\n",
       "      <td>2003</td>\n",
       "      <td></td>\n",
       "      <td>R203</td>\n",
       "      <td></td>\n",
       "      <td>R203</td>\n",
       "      <td>FRANKLIN</td>\n",
       "      <td>OH</td>\n",
       "      <td>45005</td>\n",
       "      <td>NaN</td>\n",
       "      <td>B</td>\n",
       "      <td>249600</td>\n",
       "    </tr>\n",
       "  </tbody>\n",
       "</table>\n",
       "</div>"
      ],
      "text/plain": [
       "     FY SBA_PHYS_NBR SBA_EIDL_NBR FEMA_DECL SBA_DECL             CITY STATE  \\\n",
       "0  2004                      R304               R304  BEAUMONT           TX   \n",
       "1  2004                      R304               R304  BLUE SPRINGS       MO   \n",
       "2  2004                      R304               R304  BOULDER            CO   \n",
       "3  2003                      R203               R203  PALM BAY           FL   \n",
       "4  2003                      R203               R203  FRANKLIN           OH   \n",
       "\n",
       "     ZIP COUNTY LOAN_TYPE ORIGINAL_APPROVAL_AMOUNT  \n",
       "0  77707    NaN         B                    88000  \n",
       "1  64014    NaN         B                    40000  \n",
       "2  80304    NaN         B                    54500  \n",
       "3  32907    NaN         B                    79400  \n",
       "4  45005    NaN         B                   249600  "
      ]
     },
     "execution_count": 2,
     "metadata": {},
     "output_type": "execute_result"
    }
   ],
   "source": [
    "# Approved loans\n",
    "df_approvals = pd.read_csv(\"sba_disaster_loan_approvals.csv\")\n",
    "print(df_approvals.shape)\n",
    "df_approvals.head()"
   ]
  },
  {
   "cell_type": "code",
   "execution_count": 3,
   "metadata": {},
   "outputs": [
    {
     "name": "stderr",
     "output_type": "stream",
     "text": [
      "/Users/chriszs/.local/share/virtualenvs/sba-disaster-loans-Vh0_YBhL/lib/python3.7/site-packages/IPython/core/interactiveshell.py:3058: DtypeWarning: Columns (1,2,3,7,10,13,14,15) have mixed types. Specify dtype option on import or set low_memory=False.\n",
      "  interactivity=interactivity, compiler=compiler, result=result)\n"
     ]
    },
    {
     "name": "stdout",
     "output_type": "stream",
     "text": [
      "(283457, 16)\n"
     ]
    },
    {
     "data": {
      "text/html": [
       "<div>\n",
       "<style scoped>\n",
       "    .dataframe tbody tr th:only-of-type {\n",
       "        vertical-align: middle;\n",
       "    }\n",
       "\n",
       "    .dataframe tbody tr th {\n",
       "        vertical-align: top;\n",
       "    }\n",
       "\n",
       "    .dataframe thead th {\n",
       "        text-align: right;\n",
       "    }\n",
       "</style>\n",
       "<table border=\"1\" class=\"dataframe\">\n",
       "  <thead>\n",
       "    <tr style=\"text-align: right;\">\n",
       "      <th></th>\n",
       "      <th>FY</th>\n",
       "      <th>SBA_PHYS_NBR</th>\n",
       "      <th>SBA_EIDL_NBR</th>\n",
       "      <th>FEMA_DECL</th>\n",
       "      <th>SBA_DECL</th>\n",
       "      <th>CITY</th>\n",
       "      <th>STATE</th>\n",
       "      <th>ZIP</th>\n",
       "      <th>COUNTY</th>\n",
       "      <th>LOAN_TYPE</th>\n",
       "      <th>TOT_ORIG_VER_LOSS</th>\n",
       "      <th>TOT_ORIG_VER_LOSS_RE</th>\n",
       "      <th>TOT_ORIG_VER_LOSS_CONTENT</th>\n",
       "      <th>WD_CODES</th>\n",
       "      <th>WD_CODES2</th>\n",
       "      <th>Unnamed: 15</th>\n",
       "    </tr>\n",
       "  </thead>\n",
       "  <tbody>\n",
       "    <tr>\n",
       "      <th>0</th>\n",
       "      <td>2001</td>\n",
       "      <td></td>\n",
       "      <td>9K98</td>\n",
       "      <td></td>\n",
       "      <td>9K98</td>\n",
       "      <td>CHARLESTON</td>\n",
       "      <td>SC</td>\n",
       "      <td>29412</td>\n",
       "      <td>CHARLESTON</td>\n",
       "      <td>EIDL</td>\n",
       "      <td>0</td>\n",
       "      <td>0.0</td>\n",
       "      <td>0.0</td>\n",
       "      <td>51</td>\n",
       "      <td>NaN</td>\n",
       "      <td>NaN</td>\n",
       "    </tr>\n",
       "    <tr>\n",
       "      <th>1</th>\n",
       "      <td>2001</td>\n",
       "      <td></td>\n",
       "      <td>9K98</td>\n",
       "      <td></td>\n",
       "      <td>9K98</td>\n",
       "      <td>EDISTO BEACH</td>\n",
       "      <td>SC</td>\n",
       "      <td>29438</td>\n",
       "      <td>COLLETON</td>\n",
       "      <td>EIDL</td>\n",
       "      <td>0</td>\n",
       "      <td>0.0</td>\n",
       "      <td>0.0</td>\n",
       "      <td>56</td>\n",
       "      <td>NaN</td>\n",
       "      <td>NaN</td>\n",
       "    </tr>\n",
       "    <tr>\n",
       "      <th>2</th>\n",
       "      <td>2003</td>\n",
       "      <td></td>\n",
       "      <td>9R32</td>\n",
       "      <td></td>\n",
       "      <td>9R32</td>\n",
       "      <td>KERNVILLE</td>\n",
       "      <td>CA</td>\n",
       "      <td>93238</td>\n",
       "      <td>TULARE</td>\n",
       "      <td>EIDL</td>\n",
       "      <td>0</td>\n",
       "      <td>0.0</td>\n",
       "      <td>0.0</td>\n",
       "      <td>59</td>\n",
       "      <td>NaN</td>\n",
       "      <td>NaN</td>\n",
       "    </tr>\n",
       "    <tr>\n",
       "      <th>3</th>\n",
       "      <td>2003</td>\n",
       "      <td></td>\n",
       "      <td>9R57</td>\n",
       "      <td></td>\n",
       "      <td>9R57</td>\n",
       "      <td>JEAN LA FITTE</td>\n",
       "      <td>LA</td>\n",
       "      <td>70067</td>\n",
       "      <td>JEFFERSON</td>\n",
       "      <td>EIDL</td>\n",
       "      <td>0</td>\n",
       "      <td>0.0</td>\n",
       "      <td>0.0</td>\n",
       "      <td>60</td>\n",
       "      <td>NaN</td>\n",
       "      <td>NaN</td>\n",
       "    </tr>\n",
       "    <tr>\n",
       "      <th>4</th>\n",
       "      <td>2003</td>\n",
       "      <td></td>\n",
       "      <td>9R57</td>\n",
       "      <td></td>\n",
       "      <td>9R57</td>\n",
       "      <td>THERIOT</td>\n",
       "      <td>LA</td>\n",
       "      <td>70397</td>\n",
       "      <td>TERREBONNE</td>\n",
       "      <td>EIDL</td>\n",
       "      <td>0</td>\n",
       "      <td>0.0</td>\n",
       "      <td>0.0</td>\n",
       "      <td>59</td>\n",
       "      <td>NaN</td>\n",
       "      <td>NaN</td>\n",
       "    </tr>\n",
       "  </tbody>\n",
       "</table>\n",
       "</div>"
      ],
      "text/plain": [
       "     FY SBA_PHYS_NBR SBA_EIDL_NBR FEMA_DECL SBA_DECL             CITY STATE  \\\n",
       "0  2001                      9K98               9K98  CHARLESTON         SC   \n",
       "1  2001                      9K98               9K98  EDISTO BEACH       SC   \n",
       "2  2003                      9R32               9R32  KERNVILLE          CA   \n",
       "3  2003                      9R57               9R57  JEAN LA FITTE      LA   \n",
       "4  2003                      9R57               9R57  THERIOT            LA   \n",
       "\n",
       "     ZIP                COUNTY LOAN_TYPE TOT_ORIG_VER_LOSS  \\\n",
       "0  29412  CHARLESTON                EIDL                 0   \n",
       "1  29438  COLLETON                  EIDL                 0   \n",
       "2  93238  TULARE                    EIDL                 0   \n",
       "3  70067  JEFFERSON                 EIDL                 0   \n",
       "4  70397  TERREBONNE                EIDL                 0   \n",
       "\n",
       "   TOT_ORIG_VER_LOSS_RE  TOT_ORIG_VER_LOSS_CONTENT WD_CODES WD_CODES2  \\\n",
       "0                   0.0                        0.0       51       NaN   \n",
       "1                   0.0                        0.0       56       NaN   \n",
       "2                   0.0                        0.0       59       NaN   \n",
       "3                   0.0                        0.0       60       NaN   \n",
       "4                   0.0                        0.0       59       NaN   \n",
       "\n",
       "  Unnamed: 15  \n",
       "0         NaN  \n",
       "1         NaN  \n",
       "2         NaN  \n",
       "3         NaN  \n",
       "4         NaN  "
      ]
     },
     "execution_count": 3,
     "metadata": {},
     "output_type": "execute_result"
    }
   ],
   "source": [
    "# Withdrawan loans\n",
    "df_withdrawals = pd.read_csv(\"sba_disaster_loan_withdrawals.csv\")\n",
    "print(df_withdrawals.shape)\n",
    "df_withdrawals.head()"
   ]
  },
  {
   "cell_type": "code",
   "execution_count": 4,
   "metadata": {},
   "outputs": [
    {
     "name": "stderr",
     "output_type": "stream",
     "text": [
      "/Users/chriszs/.local/share/virtualenvs/sba-disaster-loans-Vh0_YBhL/lib/python3.7/site-packages/IPython/core/interactiveshell.py:3058: DtypeWarning: Columns (1,2,3,7,10,13,14,15,16) have mixed types. Specify dtype option on import or set low_memory=False.\n",
      "  interactivity=interactivity, compiler=compiler, result=result)\n"
     ]
    },
    {
     "name": "stdout",
     "output_type": "stream",
     "text": [
      "(859760, 17)\n"
     ]
    },
    {
     "data": {
      "text/html": [
       "<div>\n",
       "<style scoped>\n",
       "    .dataframe tbody tr th:only-of-type {\n",
       "        vertical-align: middle;\n",
       "    }\n",
       "\n",
       "    .dataframe tbody tr th {\n",
       "        vertical-align: top;\n",
       "    }\n",
       "\n",
       "    .dataframe thead th {\n",
       "        text-align: right;\n",
       "    }\n",
       "</style>\n",
       "<table border=\"1\" class=\"dataframe\">\n",
       "  <thead>\n",
       "    <tr style=\"text-align: right;\">\n",
       "      <th></th>\n",
       "      <th>FY</th>\n",
       "      <th>SBA_PHYS_NBR</th>\n",
       "      <th>SBA_EIDL_NBR</th>\n",
       "      <th>FEMA_DECL</th>\n",
       "      <th>SBA_DECL</th>\n",
       "      <th>CITY</th>\n",
       "      <th>STATE</th>\n",
       "      <th>ZIP</th>\n",
       "      <th>COUNTY</th>\n",
       "      <th>LOAN_TYPE</th>\n",
       "      <th>TOT_ORIG_VER_LOSS</th>\n",
       "      <th>TOT_ORIG_VER_LOSS_RE</th>\n",
       "      <th>TOT_ORIG_VER_LOSS_CONTENT</th>\n",
       "      <th>DECL_CODES</th>\n",
       "      <th>DECL_CODES2</th>\n",
       "      <th>DECL_CODES3</th>\n",
       "      <th>DECL_CODES4</th>\n",
       "    </tr>\n",
       "  </thead>\n",
       "  <tbody>\n",
       "    <tr>\n",
       "      <th>0</th>\n",
       "      <td>2004</td>\n",
       "      <td></td>\n",
       "      <td>R303</td>\n",
       "      <td></td>\n",
       "      <td>R303</td>\n",
       "      <td>AUGUSTA</td>\n",
       "      <td>KS</td>\n",
       "      <td>67010</td>\n",
       "      <td>NaN</td>\n",
       "      <td>B</td>\n",
       "      <td>0</td>\n",
       "      <td>0.0</td>\n",
       "      <td>0.0</td>\n",
       "      <td>31</td>\n",
       "      <td>27</td>\n",
       "      <td>NaN</td>\n",
       "      <td>NaN</td>\n",
       "    </tr>\n",
       "    <tr>\n",
       "      <th>1</th>\n",
       "      <td>2002</td>\n",
       "      <td></td>\n",
       "      <td>T401</td>\n",
       "      <td></td>\n",
       "      <td>T401</td>\n",
       "      <td>KIRKLAND</td>\n",
       "      <td>WA</td>\n",
       "      <td>98034</td>\n",
       "      <td>NaN</td>\n",
       "      <td>B</td>\n",
       "      <td>0</td>\n",
       "      <td>0.0</td>\n",
       "      <td>0.0</td>\n",
       "      <td>43</td>\n",
       "      <td>NaN</td>\n",
       "      <td>NaN</td>\n",
       "      <td>NaN</td>\n",
       "    </tr>\n",
       "    <tr>\n",
       "      <th>2</th>\n",
       "      <td>2004</td>\n",
       "      <td></td>\n",
       "      <td>R104</td>\n",
       "      <td></td>\n",
       "      <td>R104</td>\n",
       "      <td>SARATOGA</td>\n",
       "      <td>NY</td>\n",
       "      <td>12866</td>\n",
       "      <td>NaN</td>\n",
       "      <td>B</td>\n",
       "      <td>0</td>\n",
       "      <td>0.0</td>\n",
       "      <td>0.0</td>\n",
       "      <td>42</td>\n",
       "      <td>NaN</td>\n",
       "      <td>NaN</td>\n",
       "      <td>NaN</td>\n",
       "    </tr>\n",
       "    <tr>\n",
       "      <th>3</th>\n",
       "      <td>2004</td>\n",
       "      <td></td>\n",
       "      <td>R104</td>\n",
       "      <td></td>\n",
       "      <td>R104</td>\n",
       "      <td>SPENCER</td>\n",
       "      <td>WV</td>\n",
       "      <td>25276</td>\n",
       "      <td>NaN</td>\n",
       "      <td>B</td>\n",
       "      <td>0</td>\n",
       "      <td>0.0</td>\n",
       "      <td>0.0</td>\n",
       "      <td>28</td>\n",
       "      <td>27</td>\n",
       "      <td>NaN</td>\n",
       "      <td>NaN</td>\n",
       "    </tr>\n",
       "    <tr>\n",
       "      <th>4</th>\n",
       "      <td>2004</td>\n",
       "      <td></td>\n",
       "      <td>R104</td>\n",
       "      <td></td>\n",
       "      <td>R104</td>\n",
       "      <td>COEYMANS HOLLOW</td>\n",
       "      <td>NY</td>\n",
       "      <td>12046</td>\n",
       "      <td>NaN</td>\n",
       "      <td>B</td>\n",
       "      <td>0</td>\n",
       "      <td>0.0</td>\n",
       "      <td>0.0</td>\n",
       "      <td>28</td>\n",
       "      <td>27</td>\n",
       "      <td>25</td>\n",
       "      <td>NaN</td>\n",
       "    </tr>\n",
       "  </tbody>\n",
       "</table>\n",
       "</div>"
      ],
      "text/plain": [
       "     FY SBA_PHYS_NBR SBA_EIDL_NBR FEMA_DECL SBA_DECL             CITY STATE  \\\n",
       "0  2004                      R303               R303  AUGUSTA            KS   \n",
       "1  2002                      T401               T401  KIRKLAND           WA   \n",
       "2  2004                      R104               R104  SARATOGA           NY   \n",
       "3  2004                      R104               R104  SPENCER            WV   \n",
       "4  2004                      R104               R104  COEYMANS HOLLOW    NY   \n",
       "\n",
       "     ZIP COUNTY LOAN_TYPE TOT_ORIG_VER_LOSS  TOT_ORIG_VER_LOSS_RE  \\\n",
       "0  67010    NaN         B                 0                   0.0   \n",
       "1  98034    NaN         B                 0                   0.0   \n",
       "2  12866    NaN         B                 0                   0.0   \n",
       "3  25276    NaN         B                 0                   0.0   \n",
       "4  12046    NaN         B                 0                   0.0   \n",
       "\n",
       "   TOT_ORIG_VER_LOSS_CONTENT DECL_CODES DECL_CODES2 DECL_CODES3 DECL_CODES4  \n",
       "0                        0.0         31          27         NaN         NaN  \n",
       "1                        0.0         43         NaN         NaN         NaN  \n",
       "2                        0.0         42         NaN         NaN         NaN  \n",
       "3                        0.0         28          27         NaN         NaN  \n",
       "4                        0.0         28          27          25         NaN  "
      ]
     },
     "execution_count": 4,
     "metadata": {},
     "output_type": "execute_result"
    }
   ],
   "source": [
    "# Declined loans\n",
    "df_declines = pd.read_csv(\"sba_disaster_loan_declines.csv\")\n",
    "print(df_declines.shape)\n",
    "df_declines.head()"
   ]
  },
  {
   "cell_type": "code",
   "execution_count": 5,
   "metadata": {},
   "outputs": [
    {
     "name": "stdout",
     "output_type": "stream",
     "text": [
      "Index(['FY', 'SBA_PHYS_NBR', 'SBA_EIDL_NBR', 'FEMA_DECL', 'SBA_DECL', 'CITY',\n",
      "       'STATE', 'ZIP', 'COUNTY', 'LOAN_TYPE', 'ORIGINAL_APPROVAL_AMOUNT'],\n",
      "      dtype='object')\n",
      "Index(['FY', 'SBA_PHYS_NBR', 'SBA_EIDL_NBR', 'FEMA_DECL', 'SBA_DECL', 'CITY',\n",
      "       'STATE', 'ZIP', 'COUNTY', 'LOAN_TYPE', 'TOT_ORIG_VER_LOSS',\n",
      "       'TOT_ORIG_VER_LOSS_RE', 'TOT_ORIG_VER_LOSS_CONTENT', 'WD_CODES',\n",
      "       'WD_CODES2', 'Unnamed: 15'],\n",
      "      dtype='object')\n",
      "Index(['FY', 'SBA_PHYS_NBR', 'SBA_EIDL_NBR', 'FEMA_DECL', 'SBA_DECL', 'CITY',\n",
      "       'STATE', 'ZIP', 'COUNTY', 'LOAN_TYPE', 'TOT_ORIG_VER_LOSS',\n",
      "       'TOT_ORIG_VER_LOSS_RE', 'TOT_ORIG_VER_LOSS_CONTENT', 'DECL_CODES',\n",
      "       'DECL_CODES2', 'DECL_CODES3', 'DECL_CODES4'],\n",
      "      dtype='object')\n"
     ]
    }
   ],
   "source": [
    "# Checking all column names\n",
    "print(df_approvals.columns)\n",
    "print(df_withdrawals.columns)\n",
    "print(df_declines.columns)"
   ]
  },
  {
   "cell_type": "markdown",
   "metadata": {},
   "source": [
    "## Data cleaning"
   ]
  },
  {
   "cell_type": "code",
   "execution_count": 6,
   "metadata": {},
   "outputs": [],
   "source": [
    "# Fix decline/withdrawal codes and disaster numbers where x.0 is different than x but should be the same\n",
    "for col in ['DECL_CODES','DECL_CODES2','DECL_CODES3','DECL_CODES4','FEMA_DECL']:\n",
    "    df_declines[col] = df_declines[col].apply(str)\n",
    "    df_declines[col] = df_declines[col].apply(lambda s: s.replace(\".0\",\"\").replace(\" \",\"\") if isinstance(s,str) else str(s))\n",
    "    \n",
    "for col in ['WD_CODES','WD_CODES2']:\n",
    "    df_withdrawals[col] = df_withdrawals[col].apply(str)\n",
    "    df_withdrawals[col] = df_withdrawals[col].apply(lambda s:\n",
    "                        s.replace(\".0\",\"\") if isinstance(s,str) else str(s))\n",
    "    \n",
    "df_approvals['FEMA_DECL'] = df_approvals['FEMA_DECL'].apply(str)\n",
    "df_approvals['FEMA_DECL'] = df_approvals['FEMA_DECL'].apply(lambda s:\n",
    "                        s.replace(\".0\",\"\") if isinstance(s,str) else str(s))"
   ]
  },
  {
   "cell_type": "code",
   "execution_count": 7,
   "metadata": {},
   "outputs": [],
   "source": [
    "# Remove whitespace from ends of state codes\n",
    "df_approvals['STATE'] = df_approvals['STATE'].apply(lambda s: s.strip() if isinstance(s,str) else s)\n",
    "df_withdrawals['STATE'] = df_withdrawals['STATE'].apply(lambda s: s.strip() if isinstance(s,str) else s)\n",
    "df_declines['STATE'] = df_declines['STATE'].apply(lambda s: s.strip() if isinstance(s,str) else s)"
   ]
  },
  {
   "cell_type": "code",
   "execution_count": 8,
   "metadata": {},
   "outputs": [],
   "source": [
    "# Store zip codes as strings\n",
    "df_approvals['ZIP'] = df_approvals['ZIP'].apply(str)\n",
    "\n",
    "# Fix zip codes with .0 because they were stored as floats\n",
    "df_approvals['ZIP'] = df_approvals['ZIP'].apply(lambda s: s.replace(\".0\",\"\"))\n",
    "\n",
    "# Fix zip codes that lost zeros because they were stored as integers\n",
    "df_approvals['ZIP'] = df_approvals['ZIP'].apply(lambda s: \"0\"*(5-len(s)) + s if len(s)<=4 else s)"
   ]
  },
  {
   "cell_type": "code",
   "execution_count": 9,
   "metadata": {},
   "outputs": [],
   "source": [
    "# Data cleaning where data was shifted\n",
    "df_approvals.loc[df_approvals['ORIGINAL_APPROVAL_AMOUNT']==\"H\",\"ZIP\"] = df_approvals.loc[df_approvals['ORIGINAL_APPROVAL_AMOUNT']==\"H\",\"COUNTY\"]\n",
    "df_approvals.loc[df_approvals['ORIGINAL_APPROVAL_AMOUNT']==\"H\",\"COUNTY\"] = df_approvals.loc[df_approvals['ORIGINAL_APPROVAL_AMOUNT']==\"H\",\"LOAN_TYPE\"]\n",
    "df_approvals.loc[df_approvals['ORIGINAL_APPROVAL_AMOUNT']==\"H\",\"LOAN_TYPE\"] = df_approvals.loc[df_approvals['ORIGINAL_APPROVAL_AMOUNT']==\"H\",\"ORIGINAL_APPROVAL_AMOUNT\"]\n",
    "\n",
    "df_approvals.loc[df_approvals['ORIGINAL_APPROVAL_AMOUNT']==\"B\",\"ZIP\"] = df_approvals.loc[df_approvals['ORIGINAL_APPROVAL_AMOUNT']==\"B\",\"COUNTY\"]\n",
    "df_approvals.loc[df_approvals['ORIGINAL_APPROVAL_AMOUNT']==\"B\",\"COUNTY\"] = df_approvals.loc[df_approvals['ORIGINAL_APPROVAL_AMOUNT']==\"B\",\"LOAN_TYPE\"]\n",
    "df_approvals.loc[df_approvals['ORIGINAL_APPROVAL_AMOUNT']==\"B\",\"LOAN_TYPE\"] = df_approvals.loc[df_approvals['ORIGINAL_APPROVAL_AMOUNT']==\"B\",\"ORIGINAL_APPROVAL_AMOUNT\"]\n",
    "\n",
    "#df_approvals.loc[(df_approvals['ORIGINAL_APPROVAL_AMOUNT']==\"B\")|(df_approvals['ORIGINAL_APPROVAL_AMOUNT']==\"H\")]"
   ]
  },
  {
   "cell_type": "markdown",
   "metadata": {},
   "source": [
    "## Exploring interesting reasons for withdrawals/declines"
   ]
  },
  {
   "cell_type": "code",
   "execution_count": 10,
   "metadata": {},
   "outputs": [],
   "source": [
    "# Returns a subset of \"df\" where any of the code columns are equal to value \"code\"\n",
    "def filter_any_code_col(code, df):\n",
    "    return df[(df['DECL_CODES']==code)|(df['DECL_CODES2']==code)|(df['DECL_CODES3']==code)|\n",
    "             (df['DECL_CODES4']==code)].copy()"
   ]
  },
  {
   "cell_type": "markdown",
   "metadata": {},
   "source": [
    "### Character reasons"
   ]
  },
  {
   "cell_type": "code",
   "execution_count": 11,
   "metadata": {},
   "outputs": [
    {
     "name": "stdout",
     "output_type": "stream",
     "text": [
      "911\n"
     ]
    },
    {
     "data": {
      "text/plain": [
       "2001     15\n",
       "2002     31\n",
       "2003     34\n",
       "2004     24\n",
       "2005     49\n",
       "2006    194\n",
       "2007    179\n",
       "2008     16\n",
       "2009     43\n",
       "2010     16\n",
       "2011     20\n",
       "2012     24\n",
       "2013     58\n",
       "2014     35\n",
       "2015     25\n",
       "2016     21\n",
       "2017     33\n",
       "2018     94\n",
       "Name: FY, dtype: int64"
      ]
     },
     "execution_count": 11,
     "metadata": {},
     "output_type": "execute_result"
    }
   ],
   "source": [
    "df_declines_char = filter_any_code_col(\"43\",df_declines)\n",
    "print(len(df_declines_char))\n",
    "df_declines_char['FY'].value_counts().sort_index()"
   ]
  },
  {
   "cell_type": "code",
   "execution_count": 12,
   "metadata": {},
   "outputs": [
    {
     "name": "stdout",
     "output_type": "stream",
     "text": [
      "(3756, 17)\n",
      "(911, 17)\n"
     ]
    }
   ],
   "source": [
    "df_60D = filter_any_code_col(\"60D\", df_declines)\n",
    "print(df_60D.shape)\n",
    "df_43 = filter_any_code_col(\"43\", df_declines)\n",
    "print(df_43.shape)"
   ]
  },
  {
   "cell_type": "markdown",
   "metadata": {},
   "source": [
    "### Immigrants / Non-citizens"
   ]
  },
  {
   "cell_type": "code",
   "execution_count": 13,
   "metadata": {},
   "outputs": [
    {
     "name": "stdout",
     "output_type": "stream",
     "text": [
      "37 96 1258\n",
      "47A\n",
      "2018    22\n",
      "2016     8\n",
      "2017     6\n",
      "2015     1\n",
      "Name: FY, dtype: int64\n",
      "47B\n",
      "2018    43\n",
      "2016    35\n",
      "2017    11\n",
      "2015     7\n",
      "Name: FY, dtype: int64\n",
      "47C\n",
      "2018    1016\n",
      "2017     104\n",
      "2016      93\n",
      "2015      45\n",
      "Name: FY, dtype: int64\n"
     ]
    }
   ],
   "source": [
    "df_declines_47a = filter_any_code_col(\"47A\", df_declines)\n",
    "df_declines_47b = filter_any_code_col(\"47B\", df_declines)\n",
    "df_declines_47c = filter_any_code_col(\"47C\", df_declines)\n",
    "print(len(df_declines_47a), len(df_declines_47b), len(df_declines_47c))\n",
    "print(\"47A\")\n",
    "print(df_declines_47a['FY'].value_counts())\n",
    "print(\"47B\")\n",
    "print(df_declines_47b['FY'].value_counts())\n",
    "print(\"47C\")\n",
    "print(df_declines_47c['FY'].value_counts())"
   ]
  },
  {
   "cell_type": "markdown",
   "metadata": {},
   "source": [
    "Lots of these are Harvey and Irma"
   ]
  },
  {
   "cell_type": "code",
   "execution_count": 14,
   "metadata": {},
   "outputs": [
    {
     "data": {
      "text/plain": [
       "TX-00487    443\n",
       "FL-00130    256\n",
       "AS-00007    183\n",
       "PR-00031     59\n",
       "VI-00011     27\n",
       "VI-00009     27\n",
       "CA-00279     10\n",
       "HI-00049      3\n",
       "TX-00500      2\n",
       "AL-00087      1\n",
       "CA-00282      1\n",
       "LA-00065      1\n",
       "FL-00138      1\n",
       "LA-00079      1\n",
       "FL-00132      1\n",
       "Name: SBA_DECL, dtype: int64"
      ]
     },
     "execution_count": 14,
     "metadata": {},
     "output_type": "execute_result"
    }
   ],
   "source": [
    "df_declines_47c[df_declines_47c['FY']==2018]['SBA_DECL'].value_counts()"
   ]
  },
  {
   "cell_type": "code",
   "execution_count": 15,
   "metadata": {},
   "outputs": [
    {
     "data": {
      "text/html": [
       "<div>\n",
       "<style scoped>\n",
       "    .dataframe tbody tr th:only-of-type {\n",
       "        vertical-align: middle;\n",
       "    }\n",
       "\n",
       "    .dataframe tbody tr th {\n",
       "        vertical-align: top;\n",
       "    }\n",
       "\n",
       "    .dataframe thead th {\n",
       "        text-align: right;\n",
       "    }\n",
       "</style>\n",
       "<table border=\"1\" class=\"dataframe\">\n",
       "  <thead>\n",
       "    <tr style=\"text-align: right;\">\n",
       "      <th></th>\n",
       "      <th>47A</th>\n",
       "      <th>47B</th>\n",
       "      <th>47C</th>\n",
       "      <th>47</th>\n",
       "    </tr>\n",
       "  </thead>\n",
       "  <tbody>\n",
       "    <tr>\n",
       "      <th>TX-00487</th>\n",
       "      <td>11.0</td>\n",
       "      <td>28.0</td>\n",
       "      <td>510</td>\n",
       "      <td>549.0</td>\n",
       "    </tr>\n",
       "    <tr>\n",
       "      <th>FL-00130</th>\n",
       "      <td>8.0</td>\n",
       "      <td>14.0</td>\n",
       "      <td>257</td>\n",
       "      <td>279.0</td>\n",
       "    </tr>\n",
       "    <tr>\n",
       "      <th>AS-00007</th>\n",
       "      <td>2.0</td>\n",
       "      <td>1.0</td>\n",
       "      <td>183</td>\n",
       "      <td>186.0</td>\n",
       "    </tr>\n",
       "    <tr>\n",
       "      <th>MP-00005</th>\n",
       "      <td>3.0</td>\n",
       "      <td>36.0</td>\n",
       "      <td>83</td>\n",
       "      <td>122.0</td>\n",
       "    </tr>\n",
       "    <tr>\n",
       "      <th>PR-00031</th>\n",
       "      <td>1.0</td>\n",
       "      <td>3.0</td>\n",
       "      <td>59</td>\n",
       "      <td>63.0</td>\n",
       "    </tr>\n",
       "  </tbody>\n",
       "</table>\n",
       "</div>"
      ],
      "text/plain": [
       "           47A   47B  47C     47\n",
       "TX-00487  11.0  28.0  510  549.0\n",
       "FL-00130   8.0  14.0  257  279.0\n",
       "AS-00007   2.0   1.0  183  186.0\n",
       "MP-00005   3.0  36.0   83  122.0\n",
       "PR-00031   1.0   3.0   59   63.0"
      ]
     },
     "execution_count": 15,
     "metadata": {},
     "output_type": "execute_result"
    }
   ],
   "source": [
    "# Total (combining sub-codes) by disaster\n",
    "df_47_disaster = pd.merge(pd.merge(df_declines_47a['SBA_DECL'].value_counts(),df_declines_47b['SBA_DECL'].value_counts(),\n",
    "                 left_index = True, right_index = True, suffixes = [\"_a\",\"_b\"], how = \"outer\"),\n",
    "         df_declines_47c['SBA_DECL'].value_counts(), \n",
    "                left_index = True, right_index = True, how = \"outer\")\n",
    "df_47_disaster['47'] = df_47_disaster.sum(axis = 1)\n",
    "df_47_disaster.sort_values(by = \"47\", inplace = True, ascending = False)\n",
    "df_47_disaster.columns = ['47A','47B','47C','47']\n",
    "df_47_disaster.head(5)"
   ]
  },
  {
   "cell_type": "code",
   "execution_count": 16,
   "metadata": {},
   "outputs": [
    {
     "data": {
      "text/plain": [
       "828"
      ]
     },
     "execution_count": 16,
     "metadata": {},
     "output_type": "execute_result"
    }
   ],
   "source": [
    "# Combining Harvey + Irma\n",
    "549 + 279"
   ]
  },
  {
   "cell_type": "code",
   "execution_count": 17,
   "metadata": {},
   "outputs": [
    {
     "data": {
      "text/plain": [
       "MP-00005    36\n",
       "TX-00487    28\n",
       "FL-00130    14\n",
       "LA-00065     4\n",
       "PR-00031     3\n",
       "TX-00468     2\n",
       "SC-00031     2\n",
       "VI-00009     1\n",
       "NC-00081     1\n",
       "AS-00007     1\n",
       "TN-00099     1\n",
       "TX-00461     1\n",
       "FL-00121     1\n",
       "VI-00011     1\n",
       "Name: SBA_DECL, dtype: int64"
      ]
     },
     "execution_count": 17,
     "metadata": {},
     "output_type": "execute_result"
    }
   ],
   "source": [
    "df_declines_47b['SBA_DECL'].value_counts()"
   ]
  },
  {
   "cell_type": "code",
   "execution_count": 18,
   "metadata": {},
   "outputs": [
    {
     "data": {
      "text/plain": [
       "TX-00487    510\n",
       "FL-00130    257\n",
       "AS-00007    183\n",
       "MP-00005     83\n",
       "PR-00031     59\n",
       "VI-00009     27\n",
       "VI-00011     27\n",
       "LA-00065     21\n",
       "TX-00468     20\n",
       "CA-00279     10\n",
       "TX-00461      7\n",
       "TX-00472      7\n",
       "TX-00447      5\n",
       "SC-00031      5\n",
       "NC-00081      4\n",
       "SC-00040      3\n",
       "HI-00049      3\n",
       "LA-00062      3\n",
       "TX-00500      2\n",
       "FL-00121      2\n",
       "CA-00257      2\n",
       "TN-00099      2\n",
       "MD-00028      1\n",
       "FL-00132      1\n",
       "LA-00078      1\n",
       "OK-00117      1\n",
       "MO-00081      1\n",
       "AR-00094      1\n",
       "FL-00138      1\n",
       "VA-00065      1\n",
       "LA-00079      1\n",
       "CT-00037      1\n",
       "MI-00058      1\n",
       "TX-00482      1\n",
       "CA-00238      1\n",
       "CA-00282      1\n",
       "AL-00087      1\n",
       "NY-00175      1\n",
       "Name: SBA_DECL, dtype: int64"
      ]
     },
     "execution_count": 18,
     "metadata": {},
     "output_type": "execute_result"
    }
   ],
   "source": [
    "df_declines_47c['SBA_DECL'].value_counts()"
   ]
  },
  {
   "cell_type": "markdown",
   "metadata": {},
   "source": [
    "## Approval rate analysis"
   ]
  },
  {
   "cell_type": "code",
   "execution_count": 19,
   "metadata": {},
   "outputs": [
    {
     "data": {
      "text/plain": [
       "0.41474425693636563"
      ]
     },
     "execution_count": 19,
     "metadata": {},
     "output_type": "execute_result"
    }
   ],
   "source": [
    "# Overall approval rate\n",
    "len(df_approvals) / (len(df_approvals) + len(df_declines))"
   ]
  },
  {
   "cell_type": "code",
   "execution_count": 20,
   "metadata": {},
   "outputs": [],
   "source": [
    "# Calculate approval rate by each value of variable \"col_name\" and output results as either a series or line plot\n",
    "def approval_rate_by_var(col_name, output = \"Series\"):\n",
    "    approval_rates = dict()\n",
    "    df_approvals_local = df_approvals.copy()\n",
    "    df_declines_local = df_declines.copy()\n",
    "    \n",
    "    # Remove rows where column of interst is NaN \n",
    "    df_approvals_local.dropna(subset = [col_name], inplace = True)\n",
    "    df_declines_local.dropna(subset = [col_name], inplace = True)\n",
    "    \n",
    "    # Loop through possible values of variable across approvals and declines datasets \n",
    "    for x in list(set(df_declines_local[col_name].unique()).union(\n",
    "                                set(df_approvals_local[col_name].unique()))):\n",
    "        if x == \"nan\": continue # avoid cases where nan stored as string\n",
    "            \n",
    "        # Calculate approval rate\n",
    "        df_approvals_x = df_approvals_local[df_approvals_local[col_name]==x].copy()\n",
    "        df_declines_x = df_declines_local[df_declines_local[col_name]==x].copy()\n",
    "        approval_rate = len(df_approvals_x) / (len(df_approvals_x) + len(df_declines_x))\n",
    "        approval_rates[x] = approval_rate\n",
    "    approval_rates = pd.Series(approval_rates)\n",
    "    if output == \"Series\": return(approval_rates)\n",
    "    elif output == \"Line Plot\":\n",
    "        return approval_rates.plot(kind = \"line\")\n",
    "        "
   ]
  },
  {
   "cell_type": "markdown",
   "metadata": {},
   "source": [
    "### Over time"
   ]
  },
  {
   "cell_type": "code",
   "execution_count": 21,
   "metadata": {},
   "outputs": [
    {
     "data": {
      "text/plain": [
       "2001    119882\n",
       "2002     48741\n",
       "2003     68808\n",
       "2004     82324\n",
       "2005    200715\n",
       "2006    377524\n",
       "2007     31375\n",
       "2008     46713\n",
       "2009     91268\n",
       "2010     35994\n",
       "2011     40126\n",
       "2012     42664\n",
       "2013    106586\n",
       "2014     13468\n",
       "2015     29014\n",
       "2016     56012\n",
       "2017     84931\n",
       "2018    276345\n",
       "Name: FY, dtype: int64"
      ]
     },
     "execution_count": 21,
     "metadata": {},
     "output_type": "execute_result"
    }
   ],
   "source": [
    "df_approvals['FY'].value_counts().sort_index() + df_declines['FY'].value_counts().sort_index() + df_withdrawals['FY'].value_counts().sort_index()"
   ]
  },
  {
   "cell_type": "code",
   "execution_count": 22,
   "metadata": {},
   "outputs": [
    {
     "data": {
      "image/png": "[encoded data removed]",
      "text/plain": [
       "<Figure size 432x288 with 1 Axes>"
      ]
     },
     "metadata": {
      "needs_background": "light"
     },
     "output_type": "display_data"
    }
   ],
   "source": [
    "approval_rate_by_var(\"FY\", output = \"Line Plot\")\n",
    "plt.title(\"SBA Disaster Loan Approval Rate by Year\")\n",
    "plt.ylim([0,1])\n",
    "plt.xlabel(\"Fiscal Year\")\n",
    "plt.ylabel(\"Approval rate\")\n",
    "plt.show()"
   ]
  },
  {
   "cell_type": "markdown",
   "metadata": {},
   "source": [
    "### By State"
   ]
  },
  {
   "cell_type": "code",
   "execution_count": 23,
   "metadata": {},
   "outputs": [
    {
     "data": {
      "text/plain": [
       "['AL', 'AK', 'AZ', 'AR', 'CA', 'CO', 'CT', 'DE', 'DC', 'FL']"
      ]
     },
     "execution_count": 23,
     "metadata": {},
     "output_type": "execute_result"
    }
   ],
   "source": [
    "states = [x.abbr for x in us.states.STATES]\n",
    "states[:10]"
   ]
  },
  {
   "cell_type": "code",
   "execution_count": 24,
   "metadata": {},
   "outputs": [
    {
     "name": "stdout",
     "output_type": "stream",
     "text": [
      "51\n"
     ]
    },
    {
     "data": {
      "text/plain": [
       "ID    0.268041\n",
       "IL    0.294574\n",
       "LA    0.343724\n",
       "AL    0.355930\n",
       "WI    0.373085\n",
       "TX    0.381543\n",
       "NC    0.386099\n",
       "AR    0.386452\n",
       "MS    0.394303\n",
       "MI    0.398376\n",
       "dtype: float64"
      ]
     },
     "execution_count": 24,
     "metadata": {},
     "output_type": "execute_result"
    }
   ],
   "source": [
    "state_approval_rates = approval_rate_by_var(\"STATE\")\n",
    "state_approval_rates = state_approval_rates[states]\n",
    "print(len(state_approval_rates))\n",
    "state_approval_rates.sort_values(ascending = True).head(10) "
   ]
  },
  {
   "cell_type": "code",
   "execution_count": 25,
   "metadata": {
    "scrolled": true
   },
   "outputs": [
    {
     "data": {
      "text/plain": [
       "ND    0.664230\n",
       "NH    0.639451\n",
       "MN    0.638875\n",
       "DE    0.627010\n",
       "MA    0.608063\n",
       "WA    0.593269\n",
       "HI    0.583824\n",
       "WY    0.582996\n",
       "CO    0.582815\n",
       "UT    0.579439\n",
       "dtype: float64"
      ]
     },
     "execution_count": 25,
     "metadata": {},
     "output_type": "execute_result"
    }
   ],
   "source": [
    "state_approval_rates.sort_values(ascending = False).head(10)"
   ]
  },
  {
   "cell_type": "code",
   "execution_count": 26,
   "metadata": {},
   "outputs": [],
   "source": [
    "#state_approval_rates.to_csv(\"state_approval_rates.csv\")"
   ]
  },
  {
   "cell_type": "markdown",
   "metadata": {},
   "source": [
    "### By disaster"
   ]
  },
  {
   "cell_type": "markdown",
   "metadata": {},
   "source": [
    "First, confrim that SBA DECL has no nulls and no blanks, so is better to use than FEMA Declaration"
   ]
  },
  {
   "cell_type": "code",
   "execution_count": 27,
   "metadata": {},
   "outputs": [
    {
     "data": {
      "text/plain": [
       "True"
      ]
     },
     "execution_count": 27,
     "metadata": {},
     "output_type": "execute_result"
    }
   ],
   "source": [
    "len(df_approvals) == df_approvals['SBA_DECL'].notnull().sum()"
   ]
  },
  {
   "cell_type": "code",
   "execution_count": 28,
   "metadata": {},
   "outputs": [
    {
     "name": "stdout",
     "output_type": "stream",
     "text": [
      "9926\n",
      "0\n"
     ]
    }
   ],
   "source": [
    "print(len(df_approvals[df_approvals['FEMA_DECL'].str.isspace()]))\n",
    "print(len(df_approvals[df_approvals['SBA_DECL'].str.isspace()]))"
   ]
  },
  {
   "cell_type": "code",
   "execution_count": 29,
   "metadata": {
    "scrolled": true
   },
   "outputs": [
    {
     "data": {
      "text/plain": [
       "LA-00002    51252\n",
       "TX-00487    38652\n",
       "PR-00031    34562\n",
       "FL-00130    33636\n",
       "MS-00005    24695\n",
       "Name: SBA_DECL, dtype: int64"
      ]
     },
     "execution_count": 29,
     "metadata": {},
     "output_type": "execute_result"
    }
   ],
   "source": [
    "df_approvals['SBA_DECL'].value_counts().head(5)"
   ]
  },
  {
   "cell_type": "code",
   "execution_count": 30,
   "metadata": {},
   "outputs": [
    {
     "data": {
      "text/plain": [
       "1603    51252\n",
       "4332    38657\n",
       "4339    34566\n",
       "4337    33660\n",
       "1604    24695\n",
       "Name: FEMA_DECL, dtype: int64"
      ]
     },
     "execution_count": 30,
     "metadata": {},
     "output_type": "execute_result"
    }
   ],
   "source": [
    "df_approvals['FEMA_DECL'].value_counts().head(5)"
   ]
  },
  {
   "cell_type": "code",
   "execution_count": 31,
   "metadata": {},
   "outputs": [],
   "source": [
    "major_disasters = df_approvals['SBA_DECL'].value_counts().head(20).index"
   ]
  },
  {
   "cell_type": "code",
   "execution_count": 32,
   "metadata": {},
   "outputs": [
    {
     "data": {
      "text/plain": [
       "TX-00308    0.200907\n",
       "TX-00066    0.301435\n",
       "LA-00002    0.332479\n",
       "LA-00004    0.369144\n",
       "3620        0.370632\n",
       "FL-00130    0.375435\n",
       "3635        0.379244\n",
       "MS-00005    0.390342\n",
       "TX-00487    0.428681\n",
       "FL-00011    0.458835\n",
       "NJ-00033    0.468418\n",
       "LA-00065    0.476162\n",
       "3615        0.477639\n",
       "3304        0.484260\n",
       "3347        0.491466\n",
       "NY-00130    0.497523\n",
       "PR-00031    0.519956\n",
       "3627        0.542028\n",
       "9M49        0.556643\n",
       "3320        0.654742\n",
       "dtype: float64"
      ]
     },
     "execution_count": 32,
     "metadata": {},
     "output_type": "execute_result"
    }
   ],
   "source": [
    "major_disaster_rates = {}\n",
    "for disaster in major_disasters:\n",
    "    approvals = df_approvals[df_approvals['SBA_DECL']==disaster]\n",
    "    declines = df_declines[df_declines['SBA_DECL']==disaster]\n",
    "    major_disaster_rates[disaster] = len(approvals) / (len(approvals) + len(declines))\n",
    "pd.Series(major_disaster_rates).sort_values()"
   ]
  },
  {
   "cell_type": "markdown",
   "metadata": {},
   "source": [
    "By type of loan"
   ]
  },
  {
   "cell_type": "code",
   "execution_count": 33,
   "metadata": {},
   "outputs": [
    {
     "data": {
      "text/plain": [
       "H    0.407479\n",
       "B    0.454428\n",
       "dtype: float64"
      ]
     },
     "execution_count": 33,
     "metadata": {},
     "output_type": "execute_result"
    }
   ],
   "source": [
    "approval_rate_by_var(\"LOAN_TYPE\")[['H','B']]"
   ]
  },
  {
   "cell_type": "markdown",
   "metadata": {},
   "source": [
    "## Withdrawals analysis"
   ]
  },
  {
   "cell_type": "code",
   "execution_count": 34,
   "metadata": {},
   "outputs": [
    {
     "data": {
      "text/plain": [
       "52    57687\n",
       "59    53571\n",
       "51    34591\n",
       "56    27301\n",
       "53    26696\n",
       "Name: WD_CODES, dtype: int64"
      ]
     },
     "execution_count": 34,
     "metadata": {},
     "output_type": "execute_result"
    }
   ],
   "source": [
    "df_withdrawals['WD_CODES'].value_counts().head()"
   ]
  },
  {
   "cell_type": "code",
   "execution_count": 35,
   "metadata": {},
   "outputs": [
    {
     "data": {
      "text/plain": [
       "nan     246962\n",
       "         32897\n",
       " 60W      1216\n",
       " 59        725\n",
       " 60A       231\n",
       "Name: WD_CODES2, dtype: int64"
      ]
     },
     "execution_count": 35,
     "metadata": {},
     "output_type": "execute_result"
    }
   ],
   "source": [
    "df_withdrawals['WD_CODES2'].value_counts().head()"
   ]
  },
  {
   "cell_type": "code",
   "execution_count": 36,
   "metadata": {},
   "outputs": [
    {
     "name": "stdout",
     "output_type": "stream",
     "text": [
      "(34750, 16)\n"
     ]
    },
    {
     "data": {
      "text/html": [
       "<div>\n",
       "<style scoped>\n",
       "    .dataframe tbody tr th:only-of-type {\n",
       "        vertical-align: middle;\n",
       "    }\n",
       "\n",
       "    .dataframe tbody tr th {\n",
       "        vertical-align: top;\n",
       "    }\n",
       "\n",
       "    .dataframe thead th {\n",
       "        text-align: right;\n",
       "    }\n",
       "</style>\n",
       "<table border=\"1\" class=\"dataframe\">\n",
       "  <thead>\n",
       "    <tr style=\"text-align: right;\">\n",
       "      <th></th>\n",
       "      <th>FY</th>\n",
       "      <th>SBA_PHYS_NBR</th>\n",
       "      <th>SBA_EIDL_NBR</th>\n",
       "      <th>FEMA_DECL</th>\n",
       "      <th>SBA_DECL</th>\n",
       "      <th>CITY</th>\n",
       "      <th>STATE</th>\n",
       "      <th>ZIP</th>\n",
       "      <th>COUNTY</th>\n",
       "      <th>LOAN_TYPE</th>\n",
       "      <th>TOT_ORIG_VER_LOSS</th>\n",
       "      <th>TOT_ORIG_VER_LOSS_RE</th>\n",
       "      <th>TOT_ORIG_VER_LOSS_CONTENT</th>\n",
       "      <th>WD_CODES</th>\n",
       "      <th>WD_CODES2</th>\n",
       "      <th>Unnamed: 15</th>\n",
       "    </tr>\n",
       "  </thead>\n",
       "  <tbody>\n",
       "    <tr>\n",
       "      <th>0</th>\n",
       "      <td>2001</td>\n",
       "      <td></td>\n",
       "      <td>9K98</td>\n",
       "      <td></td>\n",
       "      <td>9K98</td>\n",
       "      <td>CHARLESTON</td>\n",
       "      <td>SC</td>\n",
       "      <td>29412</td>\n",
       "      <td>CHARLESTON</td>\n",
       "      <td>EIDL</td>\n",
       "      <td>0</td>\n",
       "      <td>0.0</td>\n",
       "      <td>0.0</td>\n",
       "      <td>51</td>\n",
       "      <td>nan</td>\n",
       "      <td>NaN</td>\n",
       "    </tr>\n",
       "    <tr>\n",
       "      <th>12</th>\n",
       "      <td>2003</td>\n",
       "      <td></td>\n",
       "      <td>9R57</td>\n",
       "      <td></td>\n",
       "      <td>9R57</td>\n",
       "      <td>DES ALLEMANDS</td>\n",
       "      <td>LA</td>\n",
       "      <td>70030</td>\n",
       "      <td>ST. CHARLES</td>\n",
       "      <td>EIDL</td>\n",
       "      <td>0</td>\n",
       "      <td>0.0</td>\n",
       "      <td>0.0</td>\n",
       "      <td>51</td>\n",
       "      <td>nan</td>\n",
       "      <td>NaN</td>\n",
       "    </tr>\n",
       "    <tr>\n",
       "      <th>21</th>\n",
       "      <td>2003</td>\n",
       "      <td></td>\n",
       "      <td>9R57</td>\n",
       "      <td></td>\n",
       "      <td>9R57</td>\n",
       "      <td>MONTEGUT</td>\n",
       "      <td>LA</td>\n",
       "      <td>70377</td>\n",
       "      <td>LAFOURCHE</td>\n",
       "      <td>EIDL</td>\n",
       "      <td>0</td>\n",
       "      <td>0.0</td>\n",
       "      <td>0.0</td>\n",
       "      <td>51</td>\n",
       "      <td>nan</td>\n",
       "      <td>NaN</td>\n",
       "    </tr>\n",
       "    <tr>\n",
       "      <th>25</th>\n",
       "      <td>2003</td>\n",
       "      <td></td>\n",
       "      <td>9R57</td>\n",
       "      <td></td>\n",
       "      <td>9R57</td>\n",
       "      <td>RACELAND</td>\n",
       "      <td>LA</td>\n",
       "      <td>70394</td>\n",
       "      <td>LAFOURCHE</td>\n",
       "      <td>EIDL</td>\n",
       "      <td>0</td>\n",
       "      <td>0.0</td>\n",
       "      <td>0.0</td>\n",
       "      <td>51</td>\n",
       "      <td>nan</td>\n",
       "      <td>NaN</td>\n",
       "    </tr>\n",
       "    <tr>\n",
       "      <th>33</th>\n",
       "      <td>2003</td>\n",
       "      <td></td>\n",
       "      <td>9R57</td>\n",
       "      <td></td>\n",
       "      <td>9R57</td>\n",
       "      <td>DULAC</td>\n",
       "      <td>LA</td>\n",
       "      <td>70353</td>\n",
       "      <td>TERREBONNE</td>\n",
       "      <td>EIDL</td>\n",
       "      <td>0</td>\n",
       "      <td>0.0</td>\n",
       "      <td>0.0</td>\n",
       "      <td>51</td>\n",
       "      <td>nan</td>\n",
       "      <td>NaN</td>\n",
       "    </tr>\n",
       "  </tbody>\n",
       "</table>\n",
       "</div>"
      ],
      "text/plain": [
       "      FY SBA_PHYS_NBR SBA_EIDL_NBR FEMA_DECL SBA_DECL             CITY STATE  \\\n",
       "0   2001                      9K98               9K98  CHARLESTON         SC   \n",
       "12  2003                      9R57               9R57  DES ALLEMANDS      LA   \n",
       "21  2003                      9R57               9R57  MONTEGUT           LA   \n",
       "25  2003                      9R57               9R57  RACELAND           LA   \n",
       "33  2003                      9R57               9R57  DULAC              LA   \n",
       "\n",
       "      ZIP                COUNTY LOAN_TYPE TOT_ORIG_VER_LOSS  \\\n",
       "0   29412  CHARLESTON                EIDL                 0   \n",
       "12  70030  ST. CHARLES               EIDL                 0   \n",
       "21  70377  LAFOURCHE                 EIDL                 0   \n",
       "25  70394  LAFOURCHE                 EIDL                 0   \n",
       "33  70353  TERREBONNE                EIDL                 0   \n",
       "\n",
       "    TOT_ORIG_VER_LOSS_RE  TOT_ORIG_VER_LOSS_CONTENT WD_CODES WD_CODES2  \\\n",
       "0                    0.0                        0.0       51       nan   \n",
       "12                   0.0                        0.0       51       nan   \n",
       "21                   0.0                        0.0       51       nan   \n",
       "25                   0.0                        0.0       51       nan   \n",
       "33                   0.0                        0.0       51       nan   \n",
       "\n",
       "   Unnamed: 15  \n",
       "0          NaN  \n",
       "12         NaN  \n",
       "21         NaN  \n",
       "25         NaN  \n",
       "33         NaN  "
      ]
     },
     "execution_count": 36,
     "metadata": {},
     "output_type": "execute_result"
    }
   ],
   "source": [
    "df_withdrawals_51 = df_withdrawals[(df_withdrawals['WD_CODES']==\"51\")|(df_withdrawals['WD_CODES2']==\"51\")].copy()\n",
    "print(df_withdrawals_51.shape)\n",
    "df_withdrawals_51.head()"
   ]
  },
  {
   "cell_type": "code",
   "execution_count": 37,
   "metadata": {},
   "outputs": [
    {
     "data": {
      "text/plain": [
       "<matplotlib.axes._subplots.AxesSubplot at 0x135ded128>"
      ]
     },
     "execution_count": 37,
     "metadata": {},
     "output_type": "execute_result"
    },
    {
     "data": {
      "image/png": "[encoded data removed]",
      "text/plain": [
       "<Figure size 432x288 with 1 Axes>"
      ]
     },
     "metadata": {
      "needs_background": "light"
     },
     "output_type": "display_data"
    }
   ],
   "source": [
    "df_withdrawals_51['FY'].value_counts().sort_index().plot()"
   ]
  },
  {
   "cell_type": "code",
   "execution_count": 38,
   "metadata": {},
   "outputs": [],
   "source": [
    "plt.style.use(\"fivethirtyeight\")"
   ]
  },
  {
   "cell_type": "code",
   "execution_count": 39,
   "metadata": {},
   "outputs": [
    {
     "data": {
      "image/png": "[encoded data removed]",
      "text/plain": [
       "<Figure size 432x288 with 1 Axes>"
      ]
     },
     "metadata": {},
     "output_type": "display_data"
    }
   ],
   "source": [
    "#df_withdrawals['FY'].value_counts().sort_index().plot()\n",
    "plt.plot(df_withdrawals_51['FY'].value_counts().sort_index(), marker=\"o\")\n",
    "plt.xlim([2000.5,2018.5])\n",
    "plt.title(\"Applications Withdrawan due to Code 51\")\n",
    "plt.xlabel(\"Fiscal Year\")\n",
    "plt.show()"
   ]
  },
  {
   "cell_type": "code",
   "execution_count": 40,
   "metadata": {},
   "outputs": [
    {
     "data": {
      "text/plain": [
       "2001    1786\n",
       "2002    1105\n",
       "2003    1159\n",
       "2004    1096\n",
       "2005    3961\n",
       "2006    6379\n",
       "2007     543\n",
       "2008     585\n",
       "2009    1462\n",
       "2010     606\n",
       "2011     722\n",
       "2012     673\n",
       "2013    3401\n",
       "2014     396\n",
       "2015     572\n",
       "2016    1346\n",
       "2017    1119\n",
       "2018    7839\n",
       "Name: FY, dtype: int64"
      ]
     },
     "execution_count": 40,
     "metadata": {},
     "output_type": "execute_result"
    }
   ],
   "source": [
    "df_withdrawals_51['FY'].value_counts().sort_index()"
   ]
  },
  {
   "cell_type": "code",
   "execution_count": 41,
   "metadata": {},
   "outputs": [],
   "source": [
    "apps_by_year = df_withdrawals['FY'].value_counts().sort_index() + df_approvals['FY'].value_counts().sort_index() + df_declines['FY'].value_counts().sort_index()"
   ]
  },
  {
   "cell_type": "code",
   "execution_count": 42,
   "metadata": {},
   "outputs": [
    {
     "data": {
      "text/plain": [
       "<matplotlib.axes._subplots.AxesSubplot at 0x12ffc36a0>"
      ]
     },
     "execution_count": 42,
     "metadata": {},
     "output_type": "execute_result"
    },
    {
     "data": {
      "image/png": "[encoded data removed]",
      "text/plain": [
       "<Figure size 432x288 with 1 Axes>"
      ]
     },
     "metadata": {},
     "output_type": "display_data"
    }
   ],
   "source": [
    "withdraw_51_rates_by_year = df_withdrawals_51['FY'].value_counts().sort_index() / apps_by_year\n",
    "plt.style.use(\"ggplot\")\n",
    "withdraw_51_rates_by_year.plot(kind = \"line\")"
   ]
  },
  {
   "cell_type": "code",
   "execution_count": 43,
   "metadata": {},
   "outputs": [
    {
     "data": {
      "text/plain": [
       "LA-00002    3541\n",
       "PR-00031    2903\n",
       "FL-00130    2422\n",
       "TX-00487    1957\n",
       "NY-00130    1902\n",
       "Name: SBA_DECL, dtype: int64"
      ]
     },
     "execution_count": 43,
     "metadata": {},
     "output_type": "execute_result"
    }
   ],
   "source": [
    "df_withdrawals_51['SBA_DECL'].value_counts().head()"
   ]
  },
  {
   "cell_type": "code",
   "execution_count": 44,
   "metadata": {},
   "outputs": [
    {
     "data": {
      "text/plain": [
       "LA-00002    51252\n",
       "TX-00487    38652\n",
       "PR-00031    34562\n",
       "FL-00130    33636\n",
       "MS-00005    24695\n",
       "Name: SBA_DECL, dtype: int64"
      ]
     },
     "execution_count": 44,
     "metadata": {},
     "output_type": "execute_result"
    }
   ],
   "source": [
    "df_approvals['SBA_DECL'].value_counts().head()"
   ]
  },
  {
   "cell_type": "markdown",
   "metadata": {},
   "source": [
    "Home vs. business "
   ]
  },
  {
   "cell_type": "code",
   "execution_count": 45,
   "metadata": {},
   "outputs": [
    {
     "data": {
      "text/plain": [
       "H    505971\n",
       "B    103302\n",
       "Name: LOAN_TYPE, dtype: int64"
      ]
     },
     "execution_count": 45,
     "metadata": {},
     "output_type": "execute_result"
    }
   ],
   "source": [
    "df_approvals['LOAN_TYPE'].value_counts()"
   ]
  },
  {
   "cell_type": "code",
   "execution_count": 46,
   "metadata": {},
   "outputs": [
    {
     "data": {
      "text/plain": [
       "0.8304503892343826"
      ]
     },
     "execution_count": 46,
     "metadata": {},
     "output_type": "execute_result"
    }
   ],
   "source": [
    "# Proportion of approvals which are home loans\n",
    "len(df_approvals[df_approvals['LOAN_TYPE']==\"H\"]) / len(df_approvals)"
   ]
  },
  {
   "cell_type": "markdown",
   "metadata": {},
   "source": [
    "## Most common decline / withdrawal reasons"
   ]
  },
  {
   "cell_type": "code",
   "execution_count": 47,
   "metadata": {},
   "outputs": [
    {
     "data": {
      "text/html": [
       "<div>\n",
       "<style scoped>\n",
       "    .dataframe tbody tr th:only-of-type {\n",
       "        vertical-align: middle;\n",
       "    }\n",
       "\n",
       "    .dataframe tbody tr th {\n",
       "        vertical-align: top;\n",
       "    }\n",
       "\n",
       "    .dataframe thead th {\n",
       "        text-align: right;\n",
       "    }\n",
       "</style>\n",
       "<table border=\"1\" class=\"dataframe\">\n",
       "  <thead>\n",
       "    <tr style=\"text-align: right;\">\n",
       "      <th></th>\n",
       "      <th>DECL_CODES</th>\n",
       "      <th>DECL_CODES2</th>\n",
       "      <th>DECL_CODES3</th>\n",
       "      <th>DECL_CODES4</th>\n",
       "      <th>Total</th>\n",
       "    </tr>\n",
       "  </thead>\n",
       "  <tbody>\n",
       "    <tr>\n",
       "      <th>28</th>\n",
       "      <td>428320.0</td>\n",
       "      <td>138893.0</td>\n",
       "      <td>5854.0</td>\n",
       "      <td>95.0</td>\n",
       "      <td>573162.0</td>\n",
       "    </tr>\n",
       "    <tr>\n",
       "      <th>21</th>\n",
       "      <td>294858.0</td>\n",
       "      <td>33637.0</td>\n",
       "      <td>4976.0</td>\n",
       "      <td>0.0</td>\n",
       "      <td>333471.0</td>\n",
       "    </tr>\n",
       "    <tr>\n",
       "      <th>27</th>\n",
       "      <td>30064.0</td>\n",
       "      <td>16375.0</td>\n",
       "      <td>1039.0</td>\n",
       "      <td>1.0</td>\n",
       "      <td>47479.0</td>\n",
       "    </tr>\n",
       "    <tr>\n",
       "      <th>20</th>\n",
       "      <td>28764.0</td>\n",
       "      <td>1.0</td>\n",
       "      <td>0.0</td>\n",
       "      <td>0.0</td>\n",
       "      <td>28765.0</td>\n",
       "    </tr>\n",
       "    <tr>\n",
       "      <th>36</th>\n",
       "      <td>15909.0</td>\n",
       "      <td>2939.0</td>\n",
       "      <td>581.0</td>\n",
       "      <td>66.0</td>\n",
       "      <td>19495.0</td>\n",
       "    </tr>\n",
       "    <tr>\n",
       "      <th>42</th>\n",
       "      <td>9893.0</td>\n",
       "      <td>2445.0</td>\n",
       "      <td>642.0</td>\n",
       "      <td>58.0</td>\n",
       "      <td>13038.0</td>\n",
       "    </tr>\n",
       "    <tr>\n",
       "      <th>26</th>\n",
       "      <td>6328.0</td>\n",
       "      <td>3416.0</td>\n",
       "      <td>243.0</td>\n",
       "      <td>0.0</td>\n",
       "      <td>9987.0</td>\n",
       "    </tr>\n",
       "    <tr>\n",
       "      <th>38</th>\n",
       "      <td>6705.0</td>\n",
       "      <td>409.0</td>\n",
       "      <td>81.0</td>\n",
       "      <td>4.0</td>\n",
       "      <td>7199.0</td>\n",
       "    </tr>\n",
       "    <tr>\n",
       "      <th>44R</th>\n",
       "      <td>5234.0</td>\n",
       "      <td>1360.0</td>\n",
       "      <td>163.0</td>\n",
       "      <td>16.0</td>\n",
       "      <td>6773.0</td>\n",
       "    </tr>\n",
       "    <tr>\n",
       "      <th>30</th>\n",
       "      <td>6020.0</td>\n",
       "      <td>498.0</td>\n",
       "      <td>139.0</td>\n",
       "      <td>14.0</td>\n",
       "      <td>6671.0</td>\n",
       "    </tr>\n",
       "  </tbody>\n",
       "</table>\n",
       "</div>"
      ],
      "text/plain": [
       "     DECL_CODES  DECL_CODES2  DECL_CODES3  DECL_CODES4     Total\n",
       "28     428320.0     138893.0       5854.0         95.0  573162.0\n",
       "21     294858.0      33637.0       4976.0          0.0  333471.0\n",
       "27      30064.0      16375.0       1039.0          1.0   47479.0\n",
       "20      28764.0          1.0          0.0          0.0   28765.0\n",
       "36      15909.0       2939.0        581.0         66.0   19495.0\n",
       "42       9893.0       2445.0        642.0         58.0   13038.0\n",
       "26       6328.0       3416.0        243.0          0.0    9987.0\n",
       "38       6705.0        409.0         81.0          4.0    7199.0\n",
       "44R      5234.0       1360.0        163.0         16.0    6773.0\n",
       "30       6020.0        498.0        139.0         14.0    6671.0"
      ]
     },
     "execution_count": 47,
     "metadata": {},
     "output_type": "execute_result"
    }
   ],
   "source": [
    "# Combine the value counts of the decline code columns into a new dataframe to calculate totals\n",
    "df_decline_codes_1_2 = pd.merge(df_declines['DECL_CODES'].value_counts(),df_declines['DECL_CODES2'].value_counts(),\n",
    "                                left_index = True, right_index = True, how = \"outer\")\n",
    "df_decline_codes_1_2_3 = pd.merge(df_decline_codes_1_2, df_declines['DECL_CODES3'].value_counts(),\n",
    "                                  left_index = True, right_index = True, how = \"outer\")\n",
    "df_decline_codes = pd.merge(df_decline_codes_1_2_3, df_declines['DECL_CODES4'].value_counts(), left_index = True,\n",
    "                            right_index = True, how = \"outer\")\n",
    "df_decline_codes.fillna(value = 0, inplace = True)\n",
    "df_decline_codes['Total'] = df_decline_codes.sum(axis = 1)\n",
    "df_decline_codes.sort_values(by = \"Total\", ascending = False, inplace = True)\n",
    "df_decline_codes.drop([\"nan\",\"\"], inplace = True, axis = 0) # remove missing values\n",
    "df_decline_codes.head(10)"
   ]
  },
  {
   "cell_type": "code",
   "execution_count": 48,
   "metadata": {},
   "outputs": [
    {
     "name": "stdout",
     "output_type": "stream",
     "text": [
      "86243\n",
      "773517\n",
      "0.8996894482181074\n"
     ]
    }
   ],
   "source": [
    "# how many declines had neither of the two most common reasons listed.\n",
    "neither_of_two_top_reasons = len(df_declines[(df_declines['DECL_CODES'].isin([\"28\",\"21\"])==False)&\n",
    "            (df_declines['DECL_CODES2'].isin([\"28\",\"21\"])==False)&\n",
    "            (df_declines['DECL_CODES3'].isin([\"28\",\"21\"])==False)&\n",
    "            (df_declines['DECL_CODES4'].isin([\"28\",\"21\"])==False)])\n",
    "print(neither_of_two_top_reasons)\n",
    "print(len(df_declines) - neither_of_two_top_reasons)\n",
    "print(1 - neither_of_two_top_reasons / len(df_declines))"
   ]
  },
  {
   "cell_type": "code",
   "execution_count": 49,
   "metadata": {},
   "outputs": [
    {
     "data": {
      "text/html": [
       "<div>\n",
       "<style scoped>\n",
       "    .dataframe tbody tr th:only-of-type {\n",
       "        vertical-align: middle;\n",
       "    }\n",
       "\n",
       "    .dataframe tbody tr th {\n",
       "        vertical-align: top;\n",
       "    }\n",
       "\n",
       "    .dataframe thead th {\n",
       "        text-align: right;\n",
       "    }\n",
       "</style>\n",
       "<table border=\"1\" class=\"dataframe\">\n",
       "  <thead>\n",
       "    <tr style=\"text-align: right;\">\n",
       "      <th></th>\n",
       "      <th>WD_CODES</th>\n",
       "      <th>WD_CODES2</th>\n",
       "      <th>Total</th>\n",
       "    </tr>\n",
       "  </thead>\n",
       "  <tbody>\n",
       "    <tr>\n",
       "      <th>52</th>\n",
       "      <td>57687.0</td>\n",
       "      <td>15.0</td>\n",
       "      <td>57702.0</td>\n",
       "    </tr>\n",
       "    <tr>\n",
       "      <th>59</th>\n",
       "      <td>53571.0</td>\n",
       "      <td>148.0</td>\n",
       "      <td>53719.0</td>\n",
       "    </tr>\n",
       "    <tr>\n",
       "      <th>51</th>\n",
       "      <td>34591.0</td>\n",
       "      <td>159.0</td>\n",
       "      <td>34750.0</td>\n",
       "    </tr>\n",
       "    <tr>\n",
       "      <th>56</th>\n",
       "      <td>27301.0</td>\n",
       "      <td>90.0</td>\n",
       "      <td>27391.0</td>\n",
       "    </tr>\n",
       "    <tr>\n",
       "      <th>53</th>\n",
       "      <td>26696.0</td>\n",
       "      <td>11.0</td>\n",
       "      <td>26707.0</td>\n",
       "    </tr>\n",
       "    <tr>\n",
       "      <th>54</th>\n",
       "      <td>23745.0</td>\n",
       "      <td>6.0</td>\n",
       "      <td>23751.0</td>\n",
       "    </tr>\n",
       "    <tr>\n",
       "      <th>56A</th>\n",
       "      <td>19497.0</td>\n",
       "      <td>2.0</td>\n",
       "      <td>19499.0</td>\n",
       "    </tr>\n",
       "    <tr>\n",
       "      <th>55</th>\n",
       "      <td>14665.0</td>\n",
       "      <td>4.0</td>\n",
       "      <td>14669.0</td>\n",
       "    </tr>\n",
       "    <tr>\n",
       "      <th>56B</th>\n",
       "      <td>12013.0</td>\n",
       "      <td>1.0</td>\n",
       "      <td>12014.0</td>\n",
       "    </tr>\n",
       "    <tr>\n",
       "      <th>57</th>\n",
       "      <td>4760.0</td>\n",
       "      <td>2.0</td>\n",
       "      <td>4762.0</td>\n",
       "    </tr>\n",
       "  </tbody>\n",
       "</table>\n",
       "</div>"
      ],
      "text/plain": [
       "     WD_CODES  WD_CODES2    Total\n",
       "52    57687.0       15.0  57702.0\n",
       "59    53571.0      148.0  53719.0\n",
       "51    34591.0      159.0  34750.0\n",
       "56    27301.0       90.0  27391.0\n",
       "53    26696.0       11.0  26707.0\n",
       "54    23745.0        6.0  23751.0\n",
       "56A   19497.0        2.0  19499.0\n",
       "55    14665.0        4.0  14669.0\n",
       "56B   12013.0        1.0  12014.0\n",
       "57     4760.0        2.0   4762.0"
      ]
     },
     "execution_count": 49,
     "metadata": {},
     "output_type": "execute_result"
    }
   ],
   "source": [
    "df_withdrawal_codes = pd.merge(df_withdrawals['WD_CODES'].value_counts(), df_withdrawals['WD_CODES2'].value_counts(),\n",
    "                                left_index = True, right_index = True, how = \"outer\")\n",
    "df_withdrawal_codes['Total'] = df_withdrawal_codes.sum(axis = 1)\n",
    "df_withdrawal_codes.sort_values(by = \"Total\", ascending = False, inplace = True)\n",
    "df_withdrawal_codes.drop(['nan','  '], inplace = True, axis = 0) # remove missing values\n",
    "df_withdrawal_codes.head(10)"
   ]
  },
  {
   "cell_type": "code",
   "execution_count": 50,
   "metadata": {},
   "outputs": [
    {
     "data": {
      "text/plain": [
       "2001     50636\n",
       "2002     22880\n",
       "2003     27062\n",
       "2004     30067\n",
       "2005     66415\n",
       "2006    116966\n",
       "2007     12442\n",
       "2008     13503\n",
       "2009     19518\n",
       "2010     12896\n",
       "2011     12131\n",
       "2012     14397\n",
       "2013     39452\n",
       "2014      5671\n",
       "2015      9396\n",
       "2016     21646\n",
       "2017     24639\n",
       "2018    109556\n",
       "Name: FY, dtype: int64"
      ]
     },
     "execution_count": 50,
     "metadata": {},
     "output_type": "execute_result"
    }
   ],
   "source": [
    "df_approvals['FY'].value_counts().sort_index()"
   ]
  },
  {
   "cell_type": "code",
   "execution_count": 51,
   "metadata": {},
   "outputs": [
    {
     "data": {
      "text/plain": [
       "2001     50351\n",
       "2002     17756\n",
       "2003     28871\n",
       "2004     38772\n",
       "2005     97975\n",
       "2006    191599\n",
       "2007     14386\n",
       "2008     28683\n",
       "2009     63534\n",
       "2010     19039\n",
       "2011     23490\n",
       "2012     22966\n",
       "2013     47133\n",
       "2014      5241\n",
       "2015     15690\n",
       "2016     26557\n",
       "2017     50978\n",
       "2018    116739\n",
       "Name: FY, dtype: int64"
      ]
     },
     "execution_count": 51,
     "metadata": {},
     "output_type": "execute_result"
    }
   ],
   "source": [
    "df_declines['FY'].value_counts().sort_index()"
   ]
  },
  {
   "cell_type": "markdown",
   "metadata": {},
   "source": [
    "## Total approved amount"
   ]
  },
  {
   "cell_type": "code",
   "execution_count": 52,
   "metadata": {},
   "outputs": [
    {
     "data": {
      "text/plain": [
       "30483525880"
      ]
     },
     "execution_count": 52,
     "metadata": {},
     "output_type": "execute_result"
    }
   ],
   "source": [
    "df_approvals_amounts = df_approvals.dropna(subset = ['ORIGINAL_APPROVAL_AMOUNT'])\n",
    "df_approvals_amounts['ORIGINAL_APPROVAL_AMOUNT'] = df_approvals_amounts['ORIGINAL_APPROVAL_AMOUNT'].apply(str)\n",
    "df_approvals_amounts = df_approvals_amounts[df_approvals_amounts['ORIGINAL_APPROVAL_AMOUNT'].str.isnumeric()]\n",
    "df_approvals_amounts['ORIGINAL_APPROVAL_AMOUNT'] = df_approvals_amounts['ORIGINAL_APPROVAL_AMOUNT'].apply(int)\n",
    "df_approvals_amounts['ORIGINAL_APPROVAL_AMOUNT'].apply(int).sum()"
   ]
  },
  {
   "cell_type": "code",
   "execution_count": 53,
   "metadata": {},
   "outputs": [
    {
     "data": {
      "text/plain": [
       "FY\n",
       "2001     946035600\n",
       "2002    1306076800\n",
       "2003     817835000\n",
       "2004     862540800\n",
       "2005    2247332100\n",
       "2006    8252253080\n",
       "2007     723995300\n",
       "2008     723269700\n",
       "2009    1035887200\n",
       "2010     481624900\n",
       "2011     671524400\n",
       "2012     655727400\n",
       "2013    2460026100\n",
       "2014     308048600\n",
       "2015     313943700\n",
       "2016    1219808100\n",
       "2017    1532572700\n",
       "2018    5925024400\n",
       "Name: ORIGINAL_APPROVAL_AMOUNT, dtype: int64"
      ]
     },
     "execution_count": 53,
     "metadata": {},
     "output_type": "execute_result"
    }
   ],
   "source": [
    "df_approvals_amounts.groupby(by = \"FY\")['ORIGINAL_APPROVAL_AMOUNT'].sum()"
   ]
  },
  {
   "cell_type": "markdown",
   "metadata": {},
   "source": [
    "Make a line plot of the frequency of the top 5 decline reasons over time"
   ]
  },
  {
   "cell_type": "code",
   "execution_count": 54,
   "metadata": {},
   "outputs": [
    {
     "data": {
      "image/png": "[encoded data removed]",
      "text/plain": [
       "<Figure size 432x288 with 1 Axes>"
      ]
     },
     "metadata": {},
     "output_type": "display_data"
    }
   ],
   "source": [
    "# Top 5 decline codes\n",
    "common_decline_codes = df_decline_codes.index[:5]\n",
    "\n",
    "# Loop through decline codes\n",
    "for code in common_decline_codes:\n",
    "    # Create a series containing data on how many declines there were each year for the code\n",
    "    declines_by_year_for_code = pd.Series(list(map(lambda x:\n",
    "            len(filter_any_code_col(code, df_declines[df_declines['FY']==x])), apps_by_year.index)),\n",
    "                                        index = apps_by_year.index)\n",
    "    decline_rate_by_year_for_code = declines_by_year_for_code / apps_by_year\n",
    "    \n",
    "    # Name the series by the decline code\n",
    "    decline_rate_by_year_for_code.name = code\n",
    "    decline_rate_by_year_for_code.plot()\n",
    "\n",
    "# Configure plot\n",
    "plt.title(\"Decline rates by year for Top 5 decline reasons\")\n",
    "plt.legend()\n",
    "plt.ylabel(\"Decline rate due to specific reason\")\n",
    "plt.xlabel(\"Fiscal Year\")\n",
    "\n",
    "# Display plot\n",
    "plt.show()"
   ]
  },
  {
   "cell_type": "code",
   "execution_count": 55,
   "metadata": {},
   "outputs": [
    {
     "data": {
      "text/html": [
       "<div>\n",
       "<style scoped>\n",
       "    .dataframe tbody tr th:only-of-type {\n",
       "        vertical-align: middle;\n",
       "    }\n",
       "\n",
       "    .dataframe tbody tr th {\n",
       "        vertical-align: top;\n",
       "    }\n",
       "\n",
       "    .dataframe thead th {\n",
       "        text-align: right;\n",
       "    }\n",
       "</style>\n",
       "<table border=\"1\" class=\"dataframe\">\n",
       "  <thead>\n",
       "    <tr style=\"text-align: right;\">\n",
       "      <th></th>\n",
       "      <th>DECL_CODES</th>\n",
       "      <th>DECL_CODES2</th>\n",
       "      <th>DECL_CODES3</th>\n",
       "      <th>DECL_CODES4</th>\n",
       "      <th>Total</th>\n",
       "    </tr>\n",
       "  </thead>\n",
       "  <tbody>\n",
       "    <tr>\n",
       "      <th>28</th>\n",
       "      <td>428320.0</td>\n",
       "      <td>138893.0</td>\n",
       "      <td>5854.0</td>\n",
       "      <td>95.0</td>\n",
       "      <td>573162.0</td>\n",
       "    </tr>\n",
       "    <tr>\n",
       "      <th>21</th>\n",
       "      <td>294858.0</td>\n",
       "      <td>33637.0</td>\n",
       "      <td>4976.0</td>\n",
       "      <td>0.0</td>\n",
       "      <td>333471.0</td>\n",
       "    </tr>\n",
       "    <tr>\n",
       "      <th>27</th>\n",
       "      <td>30064.0</td>\n",
       "      <td>16375.0</td>\n",
       "      <td>1039.0</td>\n",
       "      <td>1.0</td>\n",
       "      <td>47479.0</td>\n",
       "    </tr>\n",
       "    <tr>\n",
       "      <th>20</th>\n",
       "      <td>28764.0</td>\n",
       "      <td>1.0</td>\n",
       "      <td>0.0</td>\n",
       "      <td>0.0</td>\n",
       "      <td>28765.0</td>\n",
       "    </tr>\n",
       "    <tr>\n",
       "      <th>36</th>\n",
       "      <td>15909.0</td>\n",
       "      <td>2939.0</td>\n",
       "      <td>581.0</td>\n",
       "      <td>66.0</td>\n",
       "      <td>19495.0</td>\n",
       "    </tr>\n",
       "  </tbody>\n",
       "</table>\n",
       "</div>"
      ],
      "text/plain": [
       "    DECL_CODES  DECL_CODES2  DECL_CODES3  DECL_CODES4     Total\n",
       "28    428320.0     138893.0       5854.0         95.0  573162.0\n",
       "21    294858.0      33637.0       4976.0          0.0  333471.0\n",
       "27     30064.0      16375.0       1039.0          1.0   47479.0\n",
       "20     28764.0          1.0          0.0          0.0   28765.0\n",
       "36     15909.0       2939.0        581.0         66.0   19495.0"
      ]
     },
     "execution_count": 55,
     "metadata": {},
     "output_type": "execute_result"
    }
   ],
   "source": [
    "df_decline_codes.head()"
   ]
  }
 ],
 "metadata": {
  "kernelspec": {
   "display_name": "Python 3",
   "language": "python",
   "name": "python3"
  },
  "language_info": {
   "codemirror_mode": {
    "name": "ipython",
    "version": 3
   },
   "file_extension": ".py",
   "mimetype": "text/x-python",
   "name": "python",
   "nbconvert_exporter": "python",
   "pygments_lexer": "ipython3",
   "version": "3.7.3"
  }
 },
 "nbformat": 4,
 "nbformat_minor": 4
}
