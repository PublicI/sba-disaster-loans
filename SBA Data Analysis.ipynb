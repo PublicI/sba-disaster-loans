{
 "cells": [
  {
   "cell_type": "code",
   "execution_count": 1,
   "metadata": {},
   "outputs": [],
   "source": [
    "import pandas as pd\n",
    "import os\n",
    "import matplotlib.pyplot as plt\n",
    "import numpy as np\n",
    "import us\n",
    "import requests\n",
    "plt.style.use(\"ggplot\")"
   ]
  },
  {
   "cell_type": "code",
   "execution_count": 2,
   "metadata": {},
   "outputs": [],
   "source": [
    "# df_approvals = pd.read_excel(\"FOIA Leven Approvals  FINAL.xlsx\",\n",
    "#                                quotechar=\"'\", delimiter=\"\\t\")\n",
    "# print(df_approvals.shape)\n",
    "# df_approvals.head()"
   ]
  },
  {
   "cell_type": "code",
   "execution_count": 3,
   "metadata": {},
   "outputs": [],
   "source": [
    "# df_approvals = df_approvals.applymap(lambda x: x.strip(\"'\") if isinstance(x, str) else x)\n",
    "# df_approvals.sample(5)"
   ]
  },
  {
   "cell_type": "code",
   "execution_count": 4,
   "metadata": {},
   "outputs": [],
   "source": [
    "# # One sheet\n",
    "# xls = pd.ExcelFile(\"FOIA Leven Approvals  FINAL.xlsx\")\n",
    "# sheets = xls.sheet_names\n",
    "# sheets"
   ]
  },
  {
   "cell_type": "code",
   "execution_count": 5,
   "metadata": {},
   "outputs": [],
   "source": [
    "# # Two sheets\n",
    "# withdrawals_excel = pd.ExcelFile(\"FOIA Leven Withdrawn Data FINAL.xlsx\")\n",
    "# withdrawals_sheets = withdrawals_excel.sheet_names\n",
    "# withdrawals_sheets"
   ]
  },
  {
   "cell_type": "code",
   "execution_count": 6,
   "metadata": {},
   "outputs": [],
   "source": [
    "# # Two sheets\n",
    "# declines_excel = pd.ExcelFile(\"FOIA LEven Decline Data FINAL.xlsx\")\n",
    "# declines_sheets = declines_excel.sheet_names\n",
    "# declines_sheets"
   ]
  },
  {
   "cell_type": "code",
   "execution_count": 7,
   "metadata": {},
   "outputs": [],
   "source": [
    "# # Probably the same as the codes in the declines spreadsheet\n",
    "# w_d_codes = pd.read_excel(\"FOIA Leven Withdrawn Data FINAL.xlsx\", sheet_name = \"W and D Codes\")\n",
    "# print(w_d_codes.shape)\n",
    "# w_d_codes.head()"
   ]
  },
  {
   "cell_type": "code",
   "execution_count": 8,
   "metadata": {},
   "outputs": [],
   "source": [
    "# df_withdrawals = pd.read_excel(\"FOIA Leven Withdrawn Data FINAL.xlsx\", sheet_name = \"WITHDRAWN\",\n",
    "#                                quotechar=\"'\", delimiter=\"\\t\")\n",
    "# print(df_withdrawals.shape)\n",
    "# df_withdrawals.head()"
   ]
  },
  {
   "cell_type": "code",
   "execution_count": 9,
   "metadata": {},
   "outputs": [],
   "source": [
    "# df_withdrawals = df_withdrawals.applymap(lambda x: x.strip(\"'\") if isinstance(x, str) else x)\n",
    "# df_withdrawals.sample(5)"
   ]
  },
  {
   "cell_type": "code",
   "execution_count": 10,
   "metadata": {},
   "outputs": [],
   "source": [
    "# df_declines = pd.read_excel(\"FOIA LEven Decline Data FINAL.xlsx\", sheet_name = 1)\n",
    "# print(df_declines.shape)\n",
    "# df_declines.head()"
   ]
  },
  {
   "cell_type": "code",
   "execution_count": 11,
   "metadata": {},
   "outputs": [],
   "source": [
    "# df_declines = df_declines.applymap(lambda x: x.strip(\"'\") if isinstance(x, str) else x)\n",
    "# df_declines.sample(5)"
   ]
  },
  {
   "cell_type": "markdown",
   "metadata": {},
   "source": [
    "Convert excel files to csvs so I can load them faster in the future"
   ]
  },
  {
   "cell_type": "code",
   "execution_count": 12,
   "metadata": {},
   "outputs": [],
   "source": [
    "# df_approvals.to_csv(\"sba_disaster_loan_approvals.csv\", index = False)\n",
    "# df_withdrawals.to_csv(\"sba_disaster_loan_withdrawals.csv\", index = False)\n",
    "# df_declines.to_csv(\"sba_disaster_loan_declines.csv\", index = False)\n",
    "# w_d_codes.to_csv(\"sba_disaster_loan_codes.csv\", index = False)"
   ]
  },
  {
   "cell_type": "markdown",
   "metadata": {},
   "source": [
    "# CSV code starts here"
   ]
  },
  {
   "cell_type": "code",
   "execution_count": 13,
   "metadata": {},
   "outputs": [
    {
     "name": "stdout",
     "output_type": "stream",
     "text": [
      "(609273, 11)\n"
     ]
    },
    {
     "name": "stderr",
     "output_type": "stream",
     "text": [
      "C:\\Users\\zach.goldstein\\AppData\\Local\\Continuum\\anaconda3\\lib\\site-packages\\IPython\\core\\interactiveshell.py:3049: DtypeWarning: Columns (1,2,3,7,10) have mixed types. Specify dtype option on import or set low_memory=False.\n",
      "  interactivity=interactivity, compiler=compiler, result=result)\n"
     ]
    },
    {
     "data": {
      "text/html": [
       "<div>\n",
       "<style scoped>\n",
       "    .dataframe tbody tr th:only-of-type {\n",
       "        vertical-align: middle;\n",
       "    }\n",
       "\n",
       "    .dataframe tbody tr th {\n",
       "        vertical-align: top;\n",
       "    }\n",
       "\n",
       "    .dataframe thead th {\n",
       "        text-align: right;\n",
       "    }\n",
       "</style>\n",
       "<table border=\"1\" class=\"dataframe\">\n",
       "  <thead>\n",
       "    <tr style=\"text-align: right;\">\n",
       "      <th></th>\n",
       "      <th>FY</th>\n",
       "      <th>SBA_PHYS_NBR</th>\n",
       "      <th>SBA_EIDL_NBR</th>\n",
       "      <th>FEMA_DECL</th>\n",
       "      <th>SBA_DECL</th>\n",
       "      <th>CITY</th>\n",
       "      <th>STATE</th>\n",
       "      <th>ZIP</th>\n",
       "      <th>COUNTY</th>\n",
       "      <th>LOAN_TYPE</th>\n",
       "      <th>ORIGINAL_APPROVAL_AMOUNT</th>\n",
       "    </tr>\n",
       "  </thead>\n",
       "  <tbody>\n",
       "    <tr>\n",
       "      <th>0</th>\n",
       "      <td>2004</td>\n",
       "      <td></td>\n",
       "      <td>R304</td>\n",
       "      <td></td>\n",
       "      <td>R304</td>\n",
       "      <td>BEAUMONT</td>\n",
       "      <td>TX</td>\n",
       "      <td>77707</td>\n",
       "      <td>NaN</td>\n",
       "      <td>B</td>\n",
       "      <td>88000</td>\n",
       "    </tr>\n",
       "    <tr>\n",
       "      <th>1</th>\n",
       "      <td>2004</td>\n",
       "      <td></td>\n",
       "      <td>R304</td>\n",
       "      <td></td>\n",
       "      <td>R304</td>\n",
       "      <td>BLUE SPRINGS</td>\n",
       "      <td>MO</td>\n",
       "      <td>64014</td>\n",
       "      <td>NaN</td>\n",
       "      <td>B</td>\n",
       "      <td>40000</td>\n",
       "    </tr>\n",
       "    <tr>\n",
       "      <th>2</th>\n",
       "      <td>2004</td>\n",
       "      <td></td>\n",
       "      <td>R304</td>\n",
       "      <td></td>\n",
       "      <td>R304</td>\n",
       "      <td>BOULDER</td>\n",
       "      <td>CO</td>\n",
       "      <td>80304</td>\n",
       "      <td>NaN</td>\n",
       "      <td>B</td>\n",
       "      <td>54500</td>\n",
       "    </tr>\n",
       "    <tr>\n",
       "      <th>3</th>\n",
       "      <td>2003</td>\n",
       "      <td></td>\n",
       "      <td>R203</td>\n",
       "      <td></td>\n",
       "      <td>R203</td>\n",
       "      <td>PALM BAY</td>\n",
       "      <td>FL</td>\n",
       "      <td>32907</td>\n",
       "      <td>NaN</td>\n",
       "      <td>B</td>\n",
       "      <td>79400</td>\n",
       "    </tr>\n",
       "    <tr>\n",
       "      <th>4</th>\n",
       "      <td>2003</td>\n",
       "      <td></td>\n",
       "      <td>R203</td>\n",
       "      <td></td>\n",
       "      <td>R203</td>\n",
       "      <td>FRANKLIN</td>\n",
       "      <td>OH</td>\n",
       "      <td>45005</td>\n",
       "      <td>NaN</td>\n",
       "      <td>B</td>\n",
       "      <td>249600</td>\n",
       "    </tr>\n",
       "  </tbody>\n",
       "</table>\n",
       "</div>"
      ],
      "text/plain": [
       "     FY SBA_PHYS_NBR SBA_EIDL_NBR FEMA_DECL SBA_DECL             CITY STATE  \\\n",
       "0  2004                      R304               R304  BEAUMONT           TX   \n",
       "1  2004                      R304               R304  BLUE SPRINGS       MO   \n",
       "2  2004                      R304               R304  BOULDER            CO   \n",
       "3  2003                      R203               R203  PALM BAY           FL   \n",
       "4  2003                      R203               R203  FRANKLIN           OH   \n",
       "\n",
       "     ZIP COUNTY LOAN_TYPE ORIGINAL_APPROVAL_AMOUNT  \n",
       "0  77707    NaN         B                    88000  \n",
       "1  64014    NaN         B                    40000  \n",
       "2  80304    NaN         B                    54500  \n",
       "3  32907    NaN         B                    79400  \n",
       "4  45005    NaN         B                   249600  "
      ]
     },
     "execution_count": 13,
     "metadata": {},
     "output_type": "execute_result"
    }
   ],
   "source": [
    "df_approvals = pd.read_csv(\"sba_disaster_loan_approvals.csv\")\n",
    "print(df_approvals.shape)\n",
    "df_approvals.head()"
   ]
  },
  {
   "cell_type": "code",
   "execution_count": 14,
   "metadata": {},
   "outputs": [
    {
     "name": "stdout",
     "output_type": "stream",
     "text": [
      "(283457, 16)\n"
     ]
    },
    {
     "name": "stderr",
     "output_type": "stream",
     "text": [
      "C:\\Users\\zach.goldstein\\AppData\\Local\\Continuum\\anaconda3\\lib\\site-packages\\IPython\\core\\interactiveshell.py:3049: DtypeWarning: Columns (1,2,3,7,10,13,14,15) have mixed types. Specify dtype option on import or set low_memory=False.\n",
      "  interactivity=interactivity, compiler=compiler, result=result)\n"
     ]
    },
    {
     "data": {
      "text/html": [
       "<div>\n",
       "<style scoped>\n",
       "    .dataframe tbody tr th:only-of-type {\n",
       "        vertical-align: middle;\n",
       "    }\n",
       "\n",
       "    .dataframe tbody tr th {\n",
       "        vertical-align: top;\n",
       "    }\n",
       "\n",
       "    .dataframe thead th {\n",
       "        text-align: right;\n",
       "    }\n",
       "</style>\n",
       "<table border=\"1\" class=\"dataframe\">\n",
       "  <thead>\n",
       "    <tr style=\"text-align: right;\">\n",
       "      <th></th>\n",
       "      <th>FY</th>\n",
       "      <th>SBA_PHYS_NBR</th>\n",
       "      <th>SBA_EIDL_NBR</th>\n",
       "      <th>FEMA_DECL</th>\n",
       "      <th>SBA_DECL</th>\n",
       "      <th>CITY</th>\n",
       "      <th>STATE</th>\n",
       "      <th>ZIP</th>\n",
       "      <th>COUNTY</th>\n",
       "      <th>LOAN_TYPE</th>\n",
       "      <th>TOT_ORIG_VER_LOSS</th>\n",
       "      <th>TOT_ORIG_VER_LOSS_RE</th>\n",
       "      <th>TOT_ORIG_VER_LOSS_CONTENT</th>\n",
       "      <th>WD_CODES</th>\n",
       "      <th>WD_CODES2</th>\n",
       "      <th>Unnamed: 15</th>\n",
       "    </tr>\n",
       "  </thead>\n",
       "  <tbody>\n",
       "    <tr>\n",
       "      <th>0</th>\n",
       "      <td>2001</td>\n",
       "      <td></td>\n",
       "      <td>9K98</td>\n",
       "      <td></td>\n",
       "      <td>9K98</td>\n",
       "      <td>CHARLESTON</td>\n",
       "      <td>SC</td>\n",
       "      <td>29412</td>\n",
       "      <td>CHARLESTON</td>\n",
       "      <td>EIDL</td>\n",
       "      <td>0</td>\n",
       "      <td>0.0</td>\n",
       "      <td>0.0</td>\n",
       "      <td>51</td>\n",
       "      <td>NaN</td>\n",
       "      <td>NaN</td>\n",
       "    </tr>\n",
       "    <tr>\n",
       "      <th>1</th>\n",
       "      <td>2001</td>\n",
       "      <td></td>\n",
       "      <td>9K98</td>\n",
       "      <td></td>\n",
       "      <td>9K98</td>\n",
       "      <td>EDISTO BEACH</td>\n",
       "      <td>SC</td>\n",
       "      <td>29438</td>\n",
       "      <td>COLLETON</td>\n",
       "      <td>EIDL</td>\n",
       "      <td>0</td>\n",
       "      <td>0.0</td>\n",
       "      <td>0.0</td>\n",
       "      <td>56</td>\n",
       "      <td>NaN</td>\n",
       "      <td>NaN</td>\n",
       "    </tr>\n",
       "    <tr>\n",
       "      <th>2</th>\n",
       "      <td>2003</td>\n",
       "      <td></td>\n",
       "      <td>9R32</td>\n",
       "      <td></td>\n",
       "      <td>9R32</td>\n",
       "      <td>KERNVILLE</td>\n",
       "      <td>CA</td>\n",
       "      <td>93238</td>\n",
       "      <td>TULARE</td>\n",
       "      <td>EIDL</td>\n",
       "      <td>0</td>\n",
       "      <td>0.0</td>\n",
       "      <td>0.0</td>\n",
       "      <td>59</td>\n",
       "      <td>NaN</td>\n",
       "      <td>NaN</td>\n",
       "    </tr>\n",
       "    <tr>\n",
       "      <th>3</th>\n",
       "      <td>2003</td>\n",
       "      <td></td>\n",
       "      <td>9R57</td>\n",
       "      <td></td>\n",
       "      <td>9R57</td>\n",
       "      <td>JEAN LA FITTE</td>\n",
       "      <td>LA</td>\n",
       "      <td>70067</td>\n",
       "      <td>JEFFERSON</td>\n",
       "      <td>EIDL</td>\n",
       "      <td>0</td>\n",
       "      <td>0.0</td>\n",
       "      <td>0.0</td>\n",
       "      <td>60</td>\n",
       "      <td>NaN</td>\n",
       "      <td>NaN</td>\n",
       "    </tr>\n",
       "    <tr>\n",
       "      <th>4</th>\n",
       "      <td>2003</td>\n",
       "      <td></td>\n",
       "      <td>9R57</td>\n",
       "      <td></td>\n",
       "      <td>9R57</td>\n",
       "      <td>THERIOT</td>\n",
       "      <td>LA</td>\n",
       "      <td>70397</td>\n",
       "      <td>TERREBONNE</td>\n",
       "      <td>EIDL</td>\n",
       "      <td>0</td>\n",
       "      <td>0.0</td>\n",
       "      <td>0.0</td>\n",
       "      <td>59</td>\n",
       "      <td>NaN</td>\n",
       "      <td>NaN</td>\n",
       "    </tr>\n",
       "  </tbody>\n",
       "</table>\n",
       "</div>"
      ],
      "text/plain": [
       "     FY SBA_PHYS_NBR SBA_EIDL_NBR FEMA_DECL SBA_DECL             CITY STATE  \\\n",
       "0  2001                      9K98               9K98  CHARLESTON         SC   \n",
       "1  2001                      9K98               9K98  EDISTO BEACH       SC   \n",
       "2  2003                      9R32               9R32  KERNVILLE          CA   \n",
       "3  2003                      9R57               9R57  JEAN LA FITTE      LA   \n",
       "4  2003                      9R57               9R57  THERIOT            LA   \n",
       "\n",
       "     ZIP                COUNTY LOAN_TYPE TOT_ORIG_VER_LOSS  \\\n",
       "0  29412  CHARLESTON                EIDL                 0   \n",
       "1  29438  COLLETON                  EIDL                 0   \n",
       "2  93238  TULARE                    EIDL                 0   \n",
       "3  70067  JEFFERSON                 EIDL                 0   \n",
       "4  70397  TERREBONNE                EIDL                 0   \n",
       "\n",
       "   TOT_ORIG_VER_LOSS_RE  TOT_ORIG_VER_LOSS_CONTENT WD_CODES WD_CODES2  \\\n",
       "0                   0.0                        0.0       51       NaN   \n",
       "1                   0.0                        0.0       56       NaN   \n",
       "2                   0.0                        0.0       59       NaN   \n",
       "3                   0.0                        0.0       60       NaN   \n",
       "4                   0.0                        0.0       59       NaN   \n",
       "\n",
       "  Unnamed: 15  \n",
       "0         NaN  \n",
       "1         NaN  \n",
       "2         NaN  \n",
       "3         NaN  \n",
       "4         NaN  "
      ]
     },
     "execution_count": 14,
     "metadata": {},
     "output_type": "execute_result"
    }
   ],
   "source": [
    "df_withdrawals = pd.read_csv(\"sba_disaster_loan_withdrawals.csv\")\n",
    "print(df_withdrawals.shape)\n",
    "df_withdrawals.head()"
   ]
  },
  {
   "cell_type": "code",
   "execution_count": 15,
   "metadata": {},
   "outputs": [
    {
     "name": "stderr",
     "output_type": "stream",
     "text": [
      "C:\\Users\\zach.goldstein\\AppData\\Local\\Continuum\\anaconda3\\lib\\site-packages\\IPython\\core\\interactiveshell.py:3049: DtypeWarning: Columns (1,2,3,7,10,13,14,15,16) have mixed types. Specify dtype option on import or set low_memory=False.\n",
      "  interactivity=interactivity, compiler=compiler, result=result)\n"
     ]
    },
    {
     "name": "stdout",
     "output_type": "stream",
     "text": [
      "(859760, 17)\n"
     ]
    },
    {
     "data": {
      "text/html": [
       "<div>\n",
       "<style scoped>\n",
       "    .dataframe tbody tr th:only-of-type {\n",
       "        vertical-align: middle;\n",
       "    }\n",
       "\n",
       "    .dataframe tbody tr th {\n",
       "        vertical-align: top;\n",
       "    }\n",
       "\n",
       "    .dataframe thead th {\n",
       "        text-align: right;\n",
       "    }\n",
       "</style>\n",
       "<table border=\"1\" class=\"dataframe\">\n",
       "  <thead>\n",
       "    <tr style=\"text-align: right;\">\n",
       "      <th></th>\n",
       "      <th>FY</th>\n",
       "      <th>SBA_PHYS_NBR</th>\n",
       "      <th>SBA_EIDL_NBR</th>\n",
       "      <th>FEMA_DECL</th>\n",
       "      <th>SBA_DECL</th>\n",
       "      <th>CITY</th>\n",
       "      <th>STATE</th>\n",
       "      <th>ZIP</th>\n",
       "      <th>COUNTY</th>\n",
       "      <th>LOAN_TYPE</th>\n",
       "      <th>TOT_ORIG_VER_LOSS</th>\n",
       "      <th>TOT_ORIG_VER_LOSS_RE</th>\n",
       "      <th>TOT_ORIG_VER_LOSS_CONTENT</th>\n",
       "      <th>DECL_CODES</th>\n",
       "      <th>DECL_CODES2</th>\n",
       "      <th>DECL_CODES3</th>\n",
       "      <th>DECL_CODES4</th>\n",
       "    </tr>\n",
       "  </thead>\n",
       "  <tbody>\n",
       "    <tr>\n",
       "      <th>0</th>\n",
       "      <td>2004</td>\n",
       "      <td></td>\n",
       "      <td>R303</td>\n",
       "      <td></td>\n",
       "      <td>R303</td>\n",
       "      <td>AUGUSTA</td>\n",
       "      <td>KS</td>\n",
       "      <td>67010</td>\n",
       "      <td>NaN</td>\n",
       "      <td>B</td>\n",
       "      <td>0</td>\n",
       "      <td>0.0</td>\n",
       "      <td>0.0</td>\n",
       "      <td>31</td>\n",
       "      <td>27</td>\n",
       "      <td>NaN</td>\n",
       "      <td>NaN</td>\n",
       "    </tr>\n",
       "    <tr>\n",
       "      <th>1</th>\n",
       "      <td>2002</td>\n",
       "      <td></td>\n",
       "      <td>T401</td>\n",
       "      <td></td>\n",
       "      <td>T401</td>\n",
       "      <td>KIRKLAND</td>\n",
       "      <td>WA</td>\n",
       "      <td>98034</td>\n",
       "      <td>NaN</td>\n",
       "      <td>B</td>\n",
       "      <td>0</td>\n",
       "      <td>0.0</td>\n",
       "      <td>0.0</td>\n",
       "      <td>43</td>\n",
       "      <td>NaN</td>\n",
       "      <td>NaN</td>\n",
       "      <td>NaN</td>\n",
       "    </tr>\n",
       "    <tr>\n",
       "      <th>2</th>\n",
       "      <td>2004</td>\n",
       "      <td></td>\n",
       "      <td>R104</td>\n",
       "      <td></td>\n",
       "      <td>R104</td>\n",
       "      <td>SARATOGA</td>\n",
       "      <td>NY</td>\n",
       "      <td>12866</td>\n",
       "      <td>NaN</td>\n",
       "      <td>B</td>\n",
       "      <td>0</td>\n",
       "      <td>0.0</td>\n",
       "      <td>0.0</td>\n",
       "      <td>42</td>\n",
       "      <td>NaN</td>\n",
       "      <td>NaN</td>\n",
       "      <td>NaN</td>\n",
       "    </tr>\n",
       "    <tr>\n",
       "      <th>3</th>\n",
       "      <td>2004</td>\n",
       "      <td></td>\n",
       "      <td>R104</td>\n",
       "      <td></td>\n",
       "      <td>R104</td>\n",
       "      <td>SPENCER</td>\n",
       "      <td>WV</td>\n",
       "      <td>25276</td>\n",
       "      <td>NaN</td>\n",
       "      <td>B</td>\n",
       "      <td>0</td>\n",
       "      <td>0.0</td>\n",
       "      <td>0.0</td>\n",
       "      <td>28</td>\n",
       "      <td>27</td>\n",
       "      <td>NaN</td>\n",
       "      <td>NaN</td>\n",
       "    </tr>\n",
       "    <tr>\n",
       "      <th>4</th>\n",
       "      <td>2004</td>\n",
       "      <td></td>\n",
       "      <td>R104</td>\n",
       "      <td></td>\n",
       "      <td>R104</td>\n",
       "      <td>COEYMANS HOLLOW</td>\n",
       "      <td>NY</td>\n",
       "      <td>12046</td>\n",
       "      <td>NaN</td>\n",
       "      <td>B</td>\n",
       "      <td>0</td>\n",
       "      <td>0.0</td>\n",
       "      <td>0.0</td>\n",
       "      <td>28</td>\n",
       "      <td>27</td>\n",
       "      <td>25</td>\n",
       "      <td>NaN</td>\n",
       "    </tr>\n",
       "  </tbody>\n",
       "</table>\n",
       "</div>"
      ],
      "text/plain": [
       "     FY SBA_PHYS_NBR SBA_EIDL_NBR FEMA_DECL SBA_DECL             CITY STATE  \\\n",
       "0  2004                      R303               R303  AUGUSTA            KS   \n",
       "1  2002                      T401               T401  KIRKLAND           WA   \n",
       "2  2004                      R104               R104  SARATOGA           NY   \n",
       "3  2004                      R104               R104  SPENCER            WV   \n",
       "4  2004                      R104               R104  COEYMANS HOLLOW    NY   \n",
       "\n",
       "     ZIP COUNTY LOAN_TYPE TOT_ORIG_VER_LOSS  TOT_ORIG_VER_LOSS_RE  \\\n",
       "0  67010    NaN         B                 0                   0.0   \n",
       "1  98034    NaN         B                 0                   0.0   \n",
       "2  12866    NaN         B                 0                   0.0   \n",
       "3  25276    NaN         B                 0                   0.0   \n",
       "4  12046    NaN         B                 0                   0.0   \n",
       "\n",
       "   TOT_ORIG_VER_LOSS_CONTENT DECL_CODES DECL_CODES2 DECL_CODES3 DECL_CODES4  \n",
       "0                        0.0         31          27         NaN         NaN  \n",
       "1                        0.0         43         NaN         NaN         NaN  \n",
       "2                        0.0         42         NaN         NaN         NaN  \n",
       "3                        0.0         28          27         NaN         NaN  \n",
       "4                        0.0         28          27          25         NaN  "
      ]
     },
     "execution_count": 15,
     "metadata": {},
     "output_type": "execute_result"
    }
   ],
   "source": [
    "df_declines = pd.read_csv(\"sba_disaster_loan_declines.csv\")\n",
    "print(df_declines.shape)\n",
    "df_declines.head()"
   ]
  },
  {
   "cell_type": "code",
   "execution_count": 16,
   "metadata": {},
   "outputs": [
    {
     "name": "stdout",
     "output_type": "stream",
     "text": [
      "(52, 3)\n"
     ]
    },
    {
     "data": {
      "text/html": [
       "<div>\n",
       "<style scoped>\n",
       "    .dataframe tbody tr th:only-of-type {\n",
       "        vertical-align: middle;\n",
       "    }\n",
       "\n",
       "    .dataframe tbody tr th {\n",
       "        vertical-align: top;\n",
       "    }\n",
       "\n",
       "    .dataframe thead th {\n",
       "        text-align: right;\n",
       "    }\n",
       "</style>\n",
       "<table border=\"1\" class=\"dataframe\">\n",
       "  <thead>\n",
       "    <tr style=\"text-align: right;\">\n",
       "      <th></th>\n",
       "      <th>D/W</th>\n",
       "      <th>Code</th>\n",
       "      <th>Description</th>\n",
       "    </tr>\n",
       "  </thead>\n",
       "  <tbody>\n",
       "    <tr>\n",
       "      <th>0</th>\n",
       "      <td>D</td>\n",
       "      <td>20</td>\n",
       "      <td>Lack of repayment ability - Applicant's income...</td>\n",
       "    </tr>\n",
       "    <tr>\n",
       "      <th>1</th>\n",
       "      <td>D</td>\n",
       "      <td>21</td>\n",
       "      <td>Lack of repayment ability</td>\n",
       "    </tr>\n",
       "    <tr>\n",
       "      <th>2</th>\n",
       "      <td>D</td>\n",
       "      <td>22</td>\n",
       "      <td>Lack of ability to repay a loan within a maxim...</td>\n",
       "    </tr>\n",
       "    <tr>\n",
       "      <th>3</th>\n",
       "      <td>D</td>\n",
       "      <td>23</td>\n",
       "      <td>Inadequate cash flow to repay disaster loan an...</td>\n",
       "    </tr>\n",
       "    <tr>\n",
       "      <th>4</th>\n",
       "      <td>D</td>\n",
       "      <td>24</td>\n",
       "      <td>Excessive amount of debt relative to net worth</td>\n",
       "    </tr>\n",
       "  </tbody>\n",
       "</table>\n",
       "</div>"
      ],
      "text/plain": [
       "  D/W Code                                        Description\n",
       "0  D    20  Lack of repayment ability - Applicant's income...\n",
       "1   D   21                          Lack of repayment ability\n",
       "2   D   22  Lack of ability to repay a loan within a maxim...\n",
       "3   D   23  Inadequate cash flow to repay disaster loan an...\n",
       "4   D   24     Excessive amount of debt relative to net worth"
      ]
     },
     "execution_count": 16,
     "metadata": {},
     "output_type": "execute_result"
    }
   ],
   "source": [
    "w_d_codes = pd.read_csv(\"sba_disaster_loan_codes.csv\")\n",
    "print(w_d_codes.shape)\n",
    "w_d_codes.head()"
   ]
  },
  {
   "cell_type": "code",
   "execution_count": 17,
   "metadata": {},
   "outputs": [
    {
     "data": {
      "text/plain": [
       "array([\"Lack of repayment ability - Applicant's income below minimum income level for the family size\",\n",
       "       'Lack of repayment ability',\n",
       "       'Lack of ability to repay a loan within a maximum seven year term',\n",
       "       'Inadequate cash flow to repay disaster loan and meet other obligations',\n",
       "       'Excessive amount of debt relative to net worth',\n",
       "       'Inadequate working capital even if SBA could approve a loan',\n",
       "       'Unsatisfactory history on an existing or previous SBA loan',\n",
       "       'Unsatisfactory history on a Federal obligation',\n",
       "       'Unsatisfactory credit history',\n",
       "       'Unsatisfactory debt payment history',\n",
       "       'No disaster-related damage',\n",
       "       'Economic injury is not substantiated ? No Needs',\n",
       "       'Economic injury is not substantiated ? Disaster Gross Margin Exceeds Normal',\n",
       "       'Economic injury is not substantiated ? Custom Text',\n",
       "       'Business activity is not eligible',\n",
       "       'Not eligible because the applicant is not a small business',\n",
       "       'Credit is available elsewhere',\n",
       "       'Not located in the declared disaster area ? Physical',\n",
       "       'Not located in the declared disaster area',\n",
       "       'Ineligible real property', 'Ineligible personal property',\n",
       "       'Not eligible due to recoveries from other sources',\n",
       "       'Not eligible due to failure to maintain flood insurance coverage on an existing SBA loan',\n",
       "       'Not eligible due to failure to maintain required flood insurance as directed by the Federal Emergency Management Agency (FEMA)',\n",
       "       'Not a qualified business ? Business',\n",
       "       'Not a qualified business ? Rental',\n",
       "       'Refusal to pledge available collateral',\n",
       "       'Not eligible due to delinquent child support payments',\n",
       "       'Not eligible due to character reasons',\n",
       "       \"Lack of repayment ability ? Below minimum income level for the family size based upon the applicant's income alone\",\n",
       "       \"Lack of ability to repay a disaster loan based upon the applicant's income alone\",\n",
       "       'Not eligible due to an outstanding judgment lien for a Federal debt',\n",
       "       'Members of a fishing crew do not qualify as an eligible small business concern',\n",
       "       'Not eligible due to property being located in a Coastal Barrier Resource Area',\n",
       "       'Other',\n",
       "       'Not eligible due to policy (NOT a qualified alien, Minor applicant)',\n",
       "       'Not eligible due to policy (NOT a qualified alien, adult applicant using minor?s SSN)',\n",
       "       'Not eligible due to policy (non-citizen, NOT a qualified alien)',\n",
       "       'Requested information was not furnished',\n",
       "       'Applicant?s Request ? A change in plans',\n",
       "       'Applicant?s Request ? Due to availability of insurance or other recovery',\n",
       "       'Applicant?s Request ? State basis for request',\n",
       "       'Unable to verify property', 'Other',\n",
       "       'Consolidation of multiple applications',\n",
       "       'Consolidation of related applications', 'IRS has no record',\n",
       "       'Character Eligibility Determination ? Withdrawal of an otherwise approvable application',\n",
       "       'Character Eligibility Determination - Decline',\n",
       "       'Character Eligibility Determination ? Withdrawal',\n",
       "       'Applicant?s Request Due to market rate',\n",
       "       'Military Reserve EIDL ? Official Call-Up Orders'], dtype=object)"
      ]
     },
     "execution_count": 17,
     "metadata": {},
     "output_type": "execute_result"
    }
   ],
   "source": [
    "w_d_codes['Description'].values"
   ]
  },
  {
   "cell_type": "markdown",
   "metadata": {},
   "source": [
    "Need to figure out what all the columns mean (see data dictionary)"
   ]
  },
  {
   "cell_type": "code",
   "execution_count": 18,
   "metadata": {},
   "outputs": [
    {
     "data": {
      "text/plain": [
       "Index(['FY', 'SBA_PHYS_NBR', 'SBA_EIDL_NBR', 'FEMA_DECL', 'SBA_DECL', 'CITY',\n",
       "       'STATE', 'ZIP', 'COUNTY', 'LOAN_TYPE', 'ORIGINAL_APPROVAL_AMOUNT'],\n",
       "      dtype='object')"
      ]
     },
     "execution_count": 18,
     "metadata": {},
     "output_type": "execute_result"
    }
   ],
   "source": [
    "df_approvals.columns"
   ]
  },
  {
   "cell_type": "code",
   "execution_count": 19,
   "metadata": {},
   "outputs": [
    {
     "data": {
      "text/plain": [
       "Index(['FY', 'SBA_PHYS_NBR', 'SBA_EIDL_NBR', 'FEMA_DECL', 'SBA_DECL', 'CITY',\n",
       "       'STATE', 'ZIP', 'COUNTY', 'LOAN_TYPE', 'TOT_ORIG_VER_LOSS',\n",
       "       'TOT_ORIG_VER_LOSS_RE', 'TOT_ORIG_VER_LOSS_CONTENT', 'WD_CODES',\n",
       "       'WD_CODES2', 'Unnamed: 15'],\n",
       "      dtype='object')"
      ]
     },
     "execution_count": 19,
     "metadata": {},
     "output_type": "execute_result"
    }
   ],
   "source": [
    "df_withdrawals.columns"
   ]
  },
  {
   "cell_type": "code",
   "execution_count": 20,
   "metadata": {},
   "outputs": [
    {
     "data": {
      "text/plain": [
       "Index(['FY', 'SBA_PHYS_NBR', 'SBA_EIDL_NBR', 'FEMA_DECL', 'SBA_DECL', 'CITY',\n",
       "       'STATE', 'ZIP', 'COUNTY', 'LOAN_TYPE', 'TOT_ORIG_VER_LOSS',\n",
       "       'TOT_ORIG_VER_LOSS_RE', 'TOT_ORIG_VER_LOSS_CONTENT', 'DECL_CODES',\n",
       "       'DECL_CODES2', 'DECL_CODES3', 'DECL_CODES4'],\n",
       "      dtype='object')"
      ]
     },
     "execution_count": 20,
     "metadata": {},
     "output_type": "execute_result"
    }
   ],
   "source": [
    "df_declines.columns"
   ]
  },
  {
   "cell_type": "code",
   "execution_count": 21,
   "metadata": {},
   "outputs": [
    {
     "data": {
      "text/plain": [
       "2001     50351\n",
       "2002     17756\n",
       "2003     28871\n",
       "2004     38772\n",
       "2005     97975\n",
       "2006    191599\n",
       "2007     14386\n",
       "2008     28683\n",
       "2009     63534\n",
       "2010     19039\n",
       "2011     23490\n",
       "2012     22966\n",
       "2013     47133\n",
       "2014      5241\n",
       "2015     15690\n",
       "2016     26557\n",
       "2017     50978\n",
       "2018    116739\n",
       "Name: FY, dtype: int64"
      ]
     },
     "execution_count": 21,
     "metadata": {},
     "output_type": "execute_result"
    }
   ],
   "source": [
    "df_declines['FY'].value_counts().sort_index()"
   ]
  },
  {
   "cell_type": "markdown",
   "metadata": {},
   "source": [
    "Data cleaning"
   ]
  },
  {
   "cell_type": "code",
   "execution_count": 22,
   "metadata": {},
   "outputs": [
    {
     "data": {
      "text/plain": [
       "28    428320\n",
       "21    294858\n",
       "27     30064\n",
       "20     28764\n",
       "36     15909\n",
       "Name: DECL_CODES, dtype: int64"
      ]
     },
     "execution_count": 22,
     "metadata": {},
     "output_type": "execute_result"
    }
   ],
   "source": [
    "for col in ['DECL_CODES','DECL_CODES2','DECL_CODES3','DECL_CODES4','FEMA_DECL']:\n",
    "    df_declines[col] = df_declines[col].apply(str)\n",
    "    df_declines[col] = df_declines[col].apply(lambda s: s.replace(\".0\",\"\").replace(\" \",\"\") if isinstance(s,str) else str(s))\n",
    "df_declines['DECL_CODES'].value_counts().head()"
   ]
  },
  {
   "cell_type": "code",
   "execution_count": 23,
   "metadata": {},
   "outputs": [
    {
     "data": {
      "text/plain": [
       "52    57687\n",
       "59    53571\n",
       "51    34591\n",
       "56    27301\n",
       "53    26696\n",
       "Name: WD_CODES, dtype: int64"
      ]
     },
     "execution_count": 23,
     "metadata": {},
     "output_type": "execute_result"
    }
   ],
   "source": [
    "for col in ['WD_CODES','WD_CODES2']:\n",
    "    df_withdrawals[col] = df_withdrawals[col].apply(str)\n",
    "    df_withdrawals[col] = df_withdrawals[col].apply(lambda s:\n",
    "                        s.replace(\".0\",\"\") if isinstance(s,str) else str(s))\n",
    "df_withdrawals['WD_CODES'].value_counts().head()"
   ]
  },
  {
   "cell_type": "code",
   "execution_count": 24,
   "metadata": {},
   "outputs": [
    {
     "data": {
      "text/plain": [
       "1603    51252\n",
       "4332    38657\n",
       "4339    34566\n",
       "4337    33660\n",
       "1604    24695\n",
       "Name: FEMA_DECL, dtype: int64"
      ]
     },
     "execution_count": 24,
     "metadata": {},
     "output_type": "execute_result"
    }
   ],
   "source": [
    "df_approvals['FEMA_DECL'] = df_approvals['FEMA_DECL'].apply(str)\n",
    "df_approvals['FEMA_DECL'] = df_approvals['FEMA_DECL'].apply(lambda s:\n",
    "                        s.replace(\".0\",\"\") if isinstance(s,str) else str(s))\n",
    "df_approvals['FEMA_DECL'].value_counts().head()"
   ]
  },
  {
   "cell_type": "code",
   "execution_count": 25,
   "metadata": {},
   "outputs": [],
   "source": [
    "df_approvals['STATE'] = df_approvals['STATE'].apply(lambda s: s.strip() if isinstance(s,str) else s)\n",
    "df_withdrawals['STATE'] = df_withdrawals['STATE'].apply(lambda s: s.strip() if isinstance(s,str) else s)\n",
    "df_declines['STATE'] = df_declines['STATE'].apply(lambda s: s.strip() if isinstance(s,str) else s)"
   ]
  },
  {
   "cell_type": "code",
   "execution_count": 26,
   "metadata": {},
   "outputs": [
    {
     "data": {
      "text/plain": [
       "['00007',\n",
       " '000LA',\n",
       " '000NJ',\n",
       " '000NY',\n",
       " '000TX',\n",
       " '00601',\n",
       " '00602',\n",
       " '00603',\n",
       " '00604',\n",
       " '00605']"
      ]
     },
     "execution_count": 26,
     "metadata": {},
     "output_type": "execute_result"
    }
   ],
   "source": [
    "df_approvals['ZIP'] = df_approvals['ZIP'].apply(str)\n",
    "df_approvals['ZIP'] = df_approvals['ZIP'].apply(lambda s: s.replace(\".0\",\"\"))\n",
    "df_approvals['ZIP'] = df_approvals['ZIP'].apply(lambda s: \"0\"*(5-len(s)) + s if len(s)<=4 else s)\n",
    "sorted(df_approvals['ZIP'].unique())[:10]"
   ]
  },
  {
   "cell_type": "code",
   "execution_count": 27,
   "metadata": {},
   "outputs": [],
   "source": [
    "# Data cleaning where data was shifted\n",
    "df_approvals.loc[df_approvals['ORIGINAL_APPROVAL_AMOUNT']==\"H\",\"ZIP\"] = df_approvals.loc[df_approvals['ORIGINAL_APPROVAL_AMOUNT']==\"H\",\"COUNTY\"]\n",
    "df_approvals.loc[df_approvals['ORIGINAL_APPROVAL_AMOUNT']==\"H\",\"COUNTY\"] = df_approvals.loc[df_approvals['ORIGINAL_APPROVAL_AMOUNT']==\"H\",\"LOAN_TYPE\"]\n",
    "df_approvals.loc[df_approvals['ORIGINAL_APPROVAL_AMOUNT']==\"H\",\"LOAN_TYPE\"] = df_approvals.loc[df_approvals['ORIGINAL_APPROVAL_AMOUNT']==\"H\",\"ORIGINAL_APPROVAL_AMOUNT\"]\n",
    "\n",
    "df_approvals.loc[df_approvals['ORIGINAL_APPROVAL_AMOUNT']==\"B\",\"ZIP\"] = df_approvals.loc[df_approvals['ORIGINAL_APPROVAL_AMOUNT']==\"B\",\"COUNTY\"]\n",
    "df_approvals.loc[df_approvals['ORIGINAL_APPROVAL_AMOUNT']==\"B\",\"COUNTY\"] = df_approvals.loc[df_approvals['ORIGINAL_APPROVAL_AMOUNT']==\"B\",\"LOAN_TYPE\"]\n",
    "df_approvals.loc[df_approvals['ORIGINAL_APPROVAL_AMOUNT']==\"B\",\"LOAN_TYPE\"] = df_approvals.loc[df_approvals['ORIGINAL_APPROVAL_AMOUNT']==\"B\",\"ORIGINAL_APPROVAL_AMOUNT\"]"
   ]
  },
  {
   "cell_type": "code",
   "execution_count": 28,
   "metadata": {},
   "outputs": [
    {
     "data": {
      "text/html": [
       "<div>\n",
       "<style scoped>\n",
       "    .dataframe tbody tr th:only-of-type {\n",
       "        vertical-align: middle;\n",
       "    }\n",
       "\n",
       "    .dataframe tbody tr th {\n",
       "        vertical-align: top;\n",
       "    }\n",
       "\n",
       "    .dataframe thead th {\n",
       "        text-align: right;\n",
       "    }\n",
       "</style>\n",
       "<table border=\"1\" class=\"dataframe\">\n",
       "  <thead>\n",
       "    <tr style=\"text-align: right;\">\n",
       "      <th></th>\n",
       "      <th>FY</th>\n",
       "      <th>SBA_PHYS_NBR</th>\n",
       "      <th>SBA_EIDL_NBR</th>\n",
       "      <th>FEMA_DECL</th>\n",
       "      <th>SBA_DECL</th>\n",
       "      <th>CITY</th>\n",
       "      <th>STATE</th>\n",
       "      <th>ZIP</th>\n",
       "      <th>COUNTY</th>\n",
       "      <th>LOAN_TYPE</th>\n",
       "      <th>ORIGINAL_APPROVAL_AMOUNT</th>\n",
       "    </tr>\n",
       "  </thead>\n",
       "  <tbody>\n",
       "    <tr>\n",
       "      <th>78223</th>\n",
       "      <td>2003</td>\n",
       "      <td>3449</td>\n",
       "      <td>9R85</td>\n",
       "      <td>1435DR</td>\n",
       "      <td>3449</td>\n",
       "      <td>ST</td>\n",
       "      <td>BERNARD</td>\n",
       "      <td>70085</td>\n",
       "      <td>ST. BERNARD</td>\n",
       "      <td>H</td>\n",
       "      <td>H</td>\n",
       "    </tr>\n",
       "    <tr>\n",
       "      <th>221930</th>\n",
       "      <td>2013</td>\n",
       "      <td>13365</td>\n",
       "      <td>13366</td>\n",
       "      <td>4085</td>\n",
       "      <td>NY-00130</td>\n",
       "      <td>SEAVIEW</td>\n",
       "      <td>FIRE ISLAND</td>\n",
       "      <td>11770</td>\n",
       "      <td>SUFFOLK</td>\n",
       "      <td>B</td>\n",
       "      <td>B</td>\n",
       "    </tr>\n",
       "    <tr>\n",
       "      <th>262070</th>\n",
       "      <td>2013</td>\n",
       "      <td>13365</td>\n",
       "      <td>13366</td>\n",
       "      <td>4085</td>\n",
       "      <td>NY-00130</td>\n",
       "      <td>BROOKLYN</td>\n",
       "      <td>NY</td>\n",
       "      <td>11236</td>\n",
       "      <td>KINGS</td>\n",
       "      <td>H</td>\n",
       "      <td>H</td>\n",
       "    </tr>\n",
       "    <tr>\n",
       "      <th>322955</th>\n",
       "      <td>2013</td>\n",
       "      <td>13367</td>\n",
       "      <td>13368</td>\n",
       "      <td>4086</td>\n",
       "      <td>NJ-00033</td>\n",
       "      <td>UNION BEACH</td>\n",
       "      <td>NJ</td>\n",
       "      <td>07735</td>\n",
       "      <td>MONMOUTH</td>\n",
       "      <td>H</td>\n",
       "      <td>H</td>\n",
       "    </tr>\n",
       "    <tr>\n",
       "      <th>370666</th>\n",
       "      <td>2009</td>\n",
       "      <td>11430</td>\n",
       "      <td>11431</td>\n",
       "      <td>1791</td>\n",
       "      <td>TX-00308</td>\n",
       "      <td>GALVESTON</td>\n",
       "      <td>NaN</td>\n",
       "      <td>77554</td>\n",
       "      <td>GALVESTON</td>\n",
       "      <td>H</td>\n",
       "      <td>H</td>\n",
       "    </tr>\n",
       "    <tr>\n",
       "      <th>536941</th>\n",
       "      <td>2013</td>\n",
       "      <td>13365</td>\n",
       "      <td>13366</td>\n",
       "      <td>4085</td>\n",
       "      <td>NY-00130</td>\n",
       "      <td>STATEN ISLAND</td>\n",
       "      <td>NY</td>\n",
       "      <td>10306</td>\n",
       "      <td>RICHMOND</td>\n",
       "      <td>H</td>\n",
       "      <td>H</td>\n",
       "    </tr>\n",
       "  </tbody>\n",
       "</table>\n",
       "</div>"
      ],
      "text/plain": [
       "          FY SBA_PHYS_NBR SBA_EIDL_NBR FEMA_DECL  SBA_DECL           CITY  \\\n",
       "78223   2003         3449         9R85    1435DR      3449             ST   \n",
       "221930  2013        13365        13366      4085  NY-00130        SEAVIEW   \n",
       "262070  2013        13365        13366      4085  NY-00130       BROOKLYN   \n",
       "322955  2013        13367        13368      4086  NJ-00033    UNION BEACH   \n",
       "370666  2009        11430        11431      1791  TX-00308      GALVESTON   \n",
       "536941  2013        13365        13366      4085  NY-00130  STATEN ISLAND   \n",
       "\n",
       "              STATE    ZIP                COUNTY LOAN_TYPE  \\\n",
       "78223       BERNARD  70085  ST. BERNARD                  H   \n",
       "221930  FIRE ISLAND  11770               SUFFOLK         B   \n",
       "262070           NY  11236                 KINGS         H   \n",
       "322955           NJ  07735              MONMOUTH         H   \n",
       "370666          NaN  77554             GALVESTON         H   \n",
       "536941           NY  10306              RICHMOND         H   \n",
       "\n",
       "       ORIGINAL_APPROVAL_AMOUNT  \n",
       "78223                         H  \n",
       "221930                        B  \n",
       "262070                        H  \n",
       "322955                        H  \n",
       "370666                        H  \n",
       "536941                        H  "
      ]
     },
     "execution_count": 28,
     "metadata": {},
     "output_type": "execute_result"
    }
   ],
   "source": [
    "df_approvals.loc[(df_approvals['ORIGINAL_APPROVAL_AMOUNT']==\"B\")|(df_approvals['ORIGINAL_APPROVAL_AMOUNT']==\"H\")]"
   ]
  },
  {
   "cell_type": "markdown",
   "metadata": {},
   "source": [
    "## Exploring interesting reasons for withdrawals/declines"
   ]
  },
  {
   "cell_type": "markdown",
   "metadata": {},
   "source": [
    "### Character reasons"
   ]
  },
  {
   "cell_type": "code",
   "execution_count": 29,
   "metadata": {},
   "outputs": [
    {
     "name": "stdout",
     "output_type": "stream",
     "text": [
      "472\n",
      "259\n",
      "159\n",
      "21\n"
     ]
    }
   ],
   "source": [
    "print(len(df_declines[df_declines['DECL_CODES']==\"43\"]))\n",
    "print(len(df_declines[df_declines['DECL_CODES2']==\"43\"]))\n",
    "print(len(df_declines[df_declines['DECL_CODES3']==\"43\"]))\n",
    "print(len(df_declines[df_declines['DECL_CODES4']==\"43\"]))"
   ]
  },
  {
   "cell_type": "code",
   "execution_count": 30,
   "metadata": {},
   "outputs": [
    {
     "data": {
      "text/plain": [
       "2001     15\n",
       "2002     31\n",
       "2003     34\n",
       "2004     24\n",
       "2005     49\n",
       "2006    194\n",
       "2007    179\n",
       "2008     16\n",
       "2009     43\n",
       "2010     16\n",
       "2011     20\n",
       "2012     24\n",
       "2013     58\n",
       "2014     35\n",
       "2015     25\n",
       "2016     21\n",
       "2017     33\n",
       "2018     94\n",
       "Name: FY, dtype: int64"
      ]
     },
     "execution_count": 30,
     "metadata": {},
     "output_type": "execute_result"
    }
   ],
   "source": [
    "df_declines_char = df_declines[(df_declines['DECL_CODES']==\"43\")|(df_declines['DECL_CODES2']==\"43\")|\n",
    "                               (df_declines['DECL_CODES3']==\"43\")|(df_declines['DECL_CODES4']==\"43\")].copy()\n",
    "df_declines_char['FY'].value_counts().sort_index()"
   ]
  },
  {
   "cell_type": "code",
   "execution_count": 31,
   "metadata": {},
   "outputs": [
    {
     "data": {
      "text/plain": [
       "LA    338\n",
       "TX    140\n",
       "FL     90\n",
       "MS     69\n",
       "NY     55\n",
       "Name: STATE, dtype: int64"
      ]
     },
     "execution_count": 31,
     "metadata": {},
     "output_type": "execute_result"
    }
   ],
   "source": [
    "df_declines_char['STATE'].value_counts().head()"
   ]
  },
  {
   "cell_type": "code",
   "execution_count": 32,
   "metadata": {},
   "outputs": [
    {
     "data": {
      "text/plain": [
       "H    636\n",
       "B    275\n",
       "Name: LOAN_TYPE, dtype: int64"
      ]
     },
     "execution_count": 32,
     "metadata": {},
     "output_type": "execute_result"
    }
   ],
   "source": [
    "df_declines_char['LOAN_TYPE'].value_counts()"
   ]
  },
  {
   "cell_type": "code",
   "execution_count": 33,
   "metadata": {},
   "outputs": [
    {
     "data": {
      "text/plain": [
       "1603    249\n",
       "1604     62\n",
       "4332     51\n",
       "4085     37\n",
       "nan      29\n",
       "Name: FEMA_DECL, dtype: int64"
      ]
     },
     "execution_count": 33,
     "metadata": {},
     "output_type": "execute_result"
    }
   ],
   "source": [
    "df_declines_char['FEMA_DECL'].value_counts().head()"
   ]
  },
  {
   "cell_type": "markdown",
   "metadata": {},
   "source": [
    "### Immigrants / Non-citizens"
   ]
  },
  {
   "cell_type": "code",
   "execution_count": 34,
   "metadata": {},
   "outputs": [],
   "source": [
    "def filter_any_code_col(code, df):\n",
    "    return df[(df['DECL_CODES']==code)|(df['DECL_CODES2']==code)|(df['DECL_CODES3']==code)|\n",
    "             (df['DECL_CODES4']==code)].copy()"
   ]
  },
  {
   "cell_type": "code",
   "execution_count": 35,
   "metadata": {},
   "outputs": [
    {
     "name": "stdout",
     "output_type": "stream",
     "text": [
      "[2016 2018 2017]\n",
      "[2016 2015 2017 2018]\n",
      "[2018 2015 2016 2017]\n"
     ]
    }
   ],
   "source": [
    "# Seems like these violations are new\n",
    "# Trump administration? Even 2015 could be if there was delay betweeen disaster and loan processing.\n",
    "print(df_declines[df_declines['DECL_CODES']==\"47A\"]['FY'].unique())\n",
    "print(df_declines[df_declines['DECL_CODES']==\"47B\"]['FY'].unique())\n",
    "print(df_declines[df_declines['DECL_CODES']==\"47C\"]['FY'].unique())"
   ]
  },
  {
   "cell_type": "code",
   "execution_count": 36,
   "metadata": {
    "scrolled": false
   },
   "outputs": [
    {
     "name": "stdout",
     "output_type": "stream",
     "text": [
      "37 96 1258\n",
      "47A\n",
      "2018    22\n",
      "2016     8\n",
      "2017     6\n",
      "2015     1\n",
      "Name: FY, dtype: int64\n",
      "47B\n",
      "2018    43\n",
      "2016    35\n",
      "2017    11\n",
      "2015     7\n",
      "Name: FY, dtype: int64\n",
      "47C\n",
      "2018    1016\n",
      "2017     104\n",
      "2016      93\n",
      "2015      45\n",
      "Name: FY, dtype: int64\n"
     ]
    }
   ],
   "source": [
    "df_declines_47a = filter_any_code_col(\"47A\", df_declines)\n",
    "df_declines_47b = filter_any_code_col(\"47B\", df_declines)\n",
    "df_declines_47c = filter_any_code_col(\"47C\", df_declines)\n",
    "print(len(df_declines_47a), len(df_declines_47b), len(df_declines_47c))\n",
    "print(\"47A\")\n",
    "print(df_declines_47a['FY'].value_counts())\n",
    "print(\"47B\")\n",
    "print(df_declines_47b['FY'].value_counts())\n",
    "print(\"47C\")\n",
    "print(df_declines_47c['FY'].value_counts())"
   ]
  },
  {
   "cell_type": "code",
   "execution_count": 37,
   "metadata": {},
   "outputs": [
    {
     "data": {
      "text/plain": [
       "H    36\n",
       "B     1\n",
       "Name: LOAN_TYPE, dtype: int64"
      ]
     },
     "execution_count": 37,
     "metadata": {},
     "output_type": "execute_result"
    }
   ],
   "source": [
    "df_declines_47a['LOAN_TYPE'].value_counts()"
   ]
  },
  {
   "cell_type": "code",
   "execution_count": 38,
   "metadata": {},
   "outputs": [
    {
     "data": {
      "text/plain": [
       "H    89\n",
       "B     7\n",
       "Name: LOAN_TYPE, dtype: int64"
      ]
     },
     "execution_count": 38,
     "metadata": {},
     "output_type": "execute_result"
    }
   ],
   "source": [
    "df_declines_47b['LOAN_TYPE'].value_counts()"
   ]
  },
  {
   "cell_type": "code",
   "execution_count": 39,
   "metadata": {},
   "outputs": [
    {
     "data": {
      "text/plain": [
       "H    1040\n",
       "B     218\n",
       "Name: LOAN_TYPE, dtype: int64"
      ]
     },
     "execution_count": 39,
     "metadata": {},
     "output_type": "execute_result"
    }
   ],
   "source": [
    "df_declines_47c['LOAN_TYPE'].value_counts()"
   ]
  },
  {
   "cell_type": "code",
   "execution_count": 40,
   "metadata": {},
   "outputs": [
    {
     "data": {
      "text/plain": [
       "TX    17\n",
       "FL     8\n",
       "LA     3\n",
       "MP     3\n",
       "AS     2\n",
       "VI     2\n",
       "PR     1\n",
       "NC     1\n",
       "Name: STATE, dtype: int64"
      ]
     },
     "execution_count": 40,
     "metadata": {},
     "output_type": "execute_result"
    }
   ],
   "source": [
    "df_declines_47a['STATE'].value_counts()"
   ]
  },
  {
   "cell_type": "code",
   "execution_count": 41,
   "metadata": {},
   "outputs": [
    {
     "data": {
      "text/plain": [
       "MP    36\n",
       "TX    31\n",
       "FL    15\n",
       "LA     4\n",
       "PR     3\n",
       "SC     2\n",
       "VI     2\n",
       "TN     1\n",
       "AS     1\n",
       "NC     1\n",
       "Name: STATE, dtype: int64"
      ]
     },
     "execution_count": 41,
     "metadata": {},
     "output_type": "execute_result"
    }
   ],
   "source": [
    "df_declines_47b['STATE'].value_counts()"
   ]
  },
  {
   "cell_type": "code",
   "execution_count": 42,
   "metadata": {},
   "outputs": [
    {
     "data": {
      "text/plain": [
       "TX    553\n",
       "FL    261\n",
       "AS    183\n",
       "MP     83\n",
       "PR     59\n",
       "VI     54\n",
       "LA     25\n",
       "CA     14\n",
       "SC      8\n",
       "NC      4\n",
       "HI      3\n",
       "TN      2\n",
       "MD      1\n",
       "MI      1\n",
       "NY      1\n",
       "VA      1\n",
       "OK      1\n",
       "AR      1\n",
       "CT      1\n",
       "MO      1\n",
       "AL      1\n",
       "Name: STATE, dtype: int64"
      ]
     },
     "execution_count": 42,
     "metadata": {},
     "output_type": "execute_result"
    }
   ],
   "source": [
    "df_declines_47c['STATE'].value_counts()"
   ]
  },
  {
   "cell_type": "markdown",
   "metadata": {},
   "source": [
    "MP seems to mean Northern Mariana Islands territory. AS means American Samoa. VI means Virgin Islands. PR Puerto Rico"
   ]
  },
  {
   "cell_type": "code",
   "execution_count": 43,
   "metadata": {
    "scrolled": false
   },
   "outputs": [
    {
     "data": {
      "text/plain": [
       "4332    443\n",
       "4337    256\n",
       "4357    183\n",
       "4339     59\n",
       "4340     27\n",
       "4335     27\n",
       "4344     10\n",
       "4366      3\n",
       "4377      2\n",
       "nan       2\n",
       "4277      1\n",
       "4341      1\n",
       "4353      1\n",
       "4362      1\n",
       "Name: FEMA_DECL, dtype: int64"
      ]
     },
     "execution_count": 43,
     "metadata": {},
     "output_type": "execute_result"
    }
   ],
   "source": [
    "df_declines_47c[df_declines_47c['FY']==2018]['FEMA_DECL'].value_counts()"
   ]
  },
  {
   "cell_type": "markdown",
   "metadata": {},
   "source": [
    "Lots of these are Harvey and Irma"
   ]
  },
  {
   "cell_type": "code",
   "execution_count": 44,
   "metadata": {},
   "outputs": [
    {
     "data": {
      "text/plain": [
       "2018    28099\n",
       "2017    23414\n",
       "Name: FY, dtype: int64"
      ]
     },
     "execution_count": 44,
     "metadata": {},
     "output_type": "execute_result"
    }
   ],
   "source": [
    "df_declines[df_declines['FEMA_DECL']==\"4332\"]['FY'].value_counts()"
   ]
  },
  {
   "cell_type": "code",
   "execution_count": 45,
   "metadata": {},
   "outputs": [
    {
     "data": {
      "text/plain": [
       "2018    31034\n",
       "2017     7623\n",
       "Name: FY, dtype: int64"
      ]
     },
     "execution_count": 45,
     "metadata": {},
     "output_type": "execute_result"
    }
   ],
   "source": [
    "df_approvals[df_approvals['FEMA_DECL']==\"4332\"]['FY'].value_counts()"
   ]
  },
  {
   "cell_type": "markdown",
   "metadata": {},
   "source": [
    "Were there other reasons for denial that also increased / first appeared at around the same time? Maybe these could offer a clue to what's going on."
   ]
  },
  {
   "cell_type": "code",
   "execution_count": 46,
   "metadata": {},
   "outputs": [
    {
     "data": {
      "text/plain": [
       "2001     50351\n",
       "2002     17756\n",
       "2003     28871\n",
       "2004     38772\n",
       "2005     97975\n",
       "2006    191599\n",
       "2007     14386\n",
       "2008     28683\n",
       "2009     63534\n",
       "2010     19039\n",
       "2011     23490\n",
       "2012     22966\n",
       "2013     47133\n",
       "2014      5241\n",
       "2015     15690\n",
       "2016     26557\n",
       "2017     50978\n",
       "2018    116739\n",
       "Name: FY, dtype: int64"
      ]
     },
     "execution_count": 46,
     "metadata": {},
     "output_type": "execute_result"
    }
   ],
   "source": [
    "df_declines['FY'].value_counts().sort_index()"
   ]
  },
  {
   "cell_type": "code",
   "execution_count": 47,
   "metadata": {
    "scrolled": false
   },
   "outputs": [],
   "source": [
    "# Frequency of denial reasons over time\n",
    "\n",
    "# for code in sorted(df_declines['DECL_CODES'].unique()):\n",
    "#     print(code)\n",
    "#     description = w_d_codes[w_d_codes['Code']==code]['Description'].values\n",
    "#     print(description)\n",
    "#     subset = filter_any_code_col(code, df_declines)\n",
    "#     subset['FY'].value_counts().sort_index().plot()\n",
    "#     plt.xlim([2001,2018])\n",
    "#     plt.show()\n",
    "#     print(\"-------------\")"
   ]
  },
  {
   "cell_type": "markdown",
   "metadata": {},
   "source": [
    "## Approval rate analysis"
   ]
  },
  {
   "cell_type": "code",
   "execution_count": 48,
   "metadata": {},
   "outputs": [
    {
     "data": {
      "text/plain": [
       "0.41474425693636563"
      ]
     },
     "execution_count": 48,
     "metadata": {},
     "output_type": "execute_result"
    }
   ],
   "source": [
    "# Overall approval rate\n",
    "len(df_approvals) / (len(df_approvals) + len(df_declines))"
   ]
  },
  {
   "cell_type": "code",
   "execution_count": 49,
   "metadata": {},
   "outputs": [],
   "source": [
    "def approval_rate_by_var(col_name, output = \"Series\"):\n",
    "    approval_rates = dict()\n",
    "    df_approvals_local = df_approvals.copy()\n",
    "    df_declines_local = df_declines.copy()\n",
    "    df_approvals_local.dropna(subset = [col_name], inplace = True)\n",
    "    df_declines_local.dropna(subset = [col_name], inplace = True)\n",
    "    for x in list(set(df_declines_local[col_name].unique()).union(\n",
    "                                set(df_approvals_local[col_name].unique()))):\n",
    "        if x == \"nan\": continue\n",
    "        df_approvals_x = df_approvals_local[df_approvals_local[col_name]==x].copy()\n",
    "        df_declines_x = df_declines_local[df_declines_local[col_name]==x].copy()\n",
    "        approval_rate = len(df_approvals_x) / (len(df_approvals_x) + len(df_declines_x))\n",
    "        approval_rates[x] = approval_rate\n",
    "    approval_rates = pd.Series(approval_rates)\n",
    "    if output == \"Series\": return(approval_rates)\n",
    "    elif output == \"Line Plot\":\n",
    "        return approval_rates.plot(kind = \"line\")\n",
    "        "
   ]
  },
  {
   "cell_type": "markdown",
   "metadata": {},
   "source": [
    "Over time"
   ]
  },
  {
   "cell_type": "code",
   "execution_count": 50,
   "metadata": {},
   "outputs": [
    {
     "data": {
      "text/plain": [
       "2001    119882\n",
       "2002     48741\n",
       "2003     68808\n",
       "2004     82324\n",
       "2005    200715\n",
       "2006    377524\n",
       "2007     31375\n",
       "2008     46713\n",
       "2009     91268\n",
       "2010     35994\n",
       "2011     40126\n",
       "2012     42664\n",
       "2013    106586\n",
       "2014     13468\n",
       "2015     29014\n",
       "2016     56012\n",
       "2017     84931\n",
       "2018    276345\n",
       "Name: FY, dtype: int64"
      ]
     },
     "execution_count": 50,
     "metadata": {},
     "output_type": "execute_result"
    }
   ],
   "source": [
    "df_approvals['FY'].value_counts().sort_index() + df_declines['FY'].value_counts().sort_index() + df_withdrawals['FY'].value_counts().sort_index()"
   ]
  },
  {
   "cell_type": "code",
   "execution_count": 51,
   "metadata": {},
   "outputs": [
    {
     "data": {
      "image/png": "[encoded data removed]",
      "text/plain": [
       "<Figure size 432x288 with 1 Axes>"
      ]
     },
     "metadata": {
      "needs_background": "light"
     },
     "output_type": "display_data"
    }
   ],
   "source": [
    "#print(approval_rate_by_var(\"FY\"))\n",
    "approval_rate_by_var(\"FY\", output = \"Line Plot\")\n",
    "plt.title(\"SBA Disaster Loan Approval Rate by Year\")\n",
    "plt.ylim([0,1])\n",
    "plt.xlabel(\"Fiscal Year\")\n",
    "plt.ylabel(\"Approval rate\")\n",
    "plt.show()"
   ]
  },
  {
   "cell_type": "code",
   "execution_count": 52,
   "metadata": {
    "scrolled": false
   },
   "outputs": [],
   "source": [
    "# Old approach (before I made the function)\n",
    "\n",
    "# year_approval_rates = dict()\n",
    "# for year in range(min(df_approvals['FY']), max(df_approvals['FY'])+1):\n",
    "#     df_approvals_year = df_approvals[df_approvals['FY']==year].copy()\n",
    "#     df_declines_year = df_declines[df_declines['FY']==year].copy()\n",
    "#     year_approval_rate = len(df_approvals_year) / (len(df_approvals_year) + len(df_declines_year))\n",
    "#     year_approval_rates[year] = year_approval_rate\n",
    "# year_approval_rates = pd.Series(year_approval_rates)\n",
    "# print(year_approval_rates)\n",
    "# year_approval_rates.plot(kind = \"line\")\n",
    "# plt.show()"
   ]
  },
  {
   "cell_type": "markdown",
   "metadata": {},
   "source": [
    "By State"
   ]
  },
  {
   "cell_type": "code",
   "execution_count": 53,
   "metadata": {},
   "outputs": [
    {
     "data": {
      "text/plain": [
       "['AL', 'AK', 'AZ', 'AR', 'CA', 'CO', 'CT', 'DE', 'DC', 'FL']"
      ]
     },
     "execution_count": 53,
     "metadata": {},
     "output_type": "execute_result"
    }
   ],
   "source": [
    "states = [x.abbr for x in us.states.STATES]\n",
    "states[:10]"
   ]
  },
  {
   "cell_type": "code",
   "execution_count": 54,
   "metadata": {},
   "outputs": [
    {
     "name": "stdout",
     "output_type": "stream",
     "text": [
      "51\n"
     ]
    },
    {
     "data": {
      "text/plain": [
       "ID    0.268041\n",
       "IL    0.294574\n",
       "LA    0.343724\n",
       "AL    0.355930\n",
       "WI    0.373085\n",
       "TX    0.381543\n",
       "NC    0.386099\n",
       "AR    0.386452\n",
       "MS    0.394303\n",
       "MI    0.398376\n",
       "dtype: float64"
      ]
     },
     "execution_count": 54,
     "metadata": {},
     "output_type": "execute_result"
    }
   ],
   "source": [
    "state_approval_rates = approval_rate_by_var(\"STATE\")\n",
    "state_approval_rates = state_approval_rates[states]\n",
    "print(len(state_approval_rates))\n",
    "state_approval_rates.sort_values(ascending = True).head(10) "
   ]
  },
  {
   "cell_type": "code",
   "execution_count": 55,
   "metadata": {
    "scrolled": true
   },
   "outputs": [
    {
     "data": {
      "text/plain": [
       "ND    0.664230\n",
       "NH    0.639451\n",
       "MN    0.638875\n",
       "DE    0.627010\n",
       "MA    0.608063\n",
       "WA    0.593269\n",
       "HI    0.583824\n",
       "WY    0.582996\n",
       "CO    0.582815\n",
       "UT    0.579439\n",
       "dtype: float64"
      ]
     },
     "execution_count": 55,
     "metadata": {},
     "output_type": "execute_result"
    }
   ],
   "source": [
    "state_approval_rates.sort_values(ascending = False).head(10)"
   ]
  },
  {
   "cell_type": "markdown",
   "metadata": {},
   "source": [
    "By disaster"
   ]
  },
  {
   "cell_type": "code",
   "execution_count": 56,
   "metadata": {},
   "outputs": [],
   "source": [
    "major_disasters = df_approvals['FEMA_DECL'].value_counts().head(20).index"
   ]
  },
  {
   "cell_type": "code",
   "execution_count": 57,
   "metadata": {},
   "outputs": [
    {
     "data": {
      "text/plain": [
       "1791      0.200925\n",
       "1606      0.301435\n",
       "1603      0.332479\n",
       "1545DR    0.374780\n",
       "4337      0.375603\n",
       "1561DR    0.379914\n",
       "1604      0.390342\n",
       "4332      0.428712\n",
       "1609      0.458835\n",
       "4086      0.468462\n",
       "1346DR    0.473295\n",
       "4277      0.476232\n",
       "1539DR    0.481648\n",
       "1379DR    0.491781\n",
       "4085      0.497537\n",
       "4339      0.519985\n",
       "nan       0.529475\n",
       "1551DR    0.542154\n",
       "1391DR    0.548196\n",
       "          1.000000\n",
       "dtype: float64"
      ]
     },
     "execution_count": 57,
     "metadata": {},
     "output_type": "execute_result"
    }
   ],
   "source": [
    "major_disaster_rates = {}\n",
    "for disaster in major_disasters:\n",
    "    approvals = df_approvals[df_approvals['FEMA_DECL']==disaster]\n",
    "    declines = df_declines[df_declines['FEMA_DECL']==disaster]\n",
    "    major_disaster_rates[disaster] = len(approvals) / (len(approvals) + len(declines))\n",
    "pd.Series(major_disaster_rates).sort_values()"
   ]
  },
  {
   "cell_type": "markdown",
   "metadata": {},
   "source": [
    "By type of loan"
   ]
  },
  {
   "cell_type": "code",
   "execution_count": 58,
   "metadata": {},
   "outputs": [
    {
     "data": {
      "text/plain": [
       "H    0.407479\n",
       "B    0.454428\n",
       "dtype: float64"
      ]
     },
     "execution_count": 58,
     "metadata": {},
     "output_type": "execute_result"
    }
   ],
   "source": [
    "approval_rate_by_var(\"LOAN_TYPE\")[['H','B']]"
   ]
  },
  {
   "cell_type": "markdown",
   "metadata": {},
   "source": [
    "By demographics of zip (merge w/ ACS data)"
   ]
  },
  {
   "cell_type": "markdown",
   "metadata": {},
   "source": [
    "Options for geographies: City, Zip, County"
   ]
  },
  {
   "cell_type": "code",
   "execution_count": 59,
   "metadata": {},
   "outputs": [],
   "source": [
    "def read_or_save(name, func):\n",
    "    path = \"pickles/\" + name + \".pickle.gz\"\n",
    "    if os.path.isfile(path):\n",
    "        return pd.read_pickle(path)\n",
    "    else:\n",
    "        result = func()\n",
    "        os.makedirs(\"pickles\", exist_ok = True)\n",
    "        result.to_pickle(path)\n",
    "        return result"
   ]
  },
  {
   "cell_type": "code",
   "execution_count": 60,
   "metadata": {},
   "outputs": [],
   "source": [
    "key = open('census_api_key.txt','r').read()"
   ]
  },
  {
   "cell_type": "code",
   "execution_count": 61,
   "metadata": {},
   "outputs": [],
   "source": [
    "def get_stat_for_all_ZCTAs(stat, key = key, year = 2017):\n",
    "    base_url = \"https://api.census.gov/data/%d/acs/acs5?\" % (year)\n",
    "    end_url = \"get=NAME,%s&for=zip%%20code%%20tabulation%%20area:*&key=%s\" % (stat, key)\n",
    "    response = requests.get(base_url+end_url)\n",
    "    print(response)\n",
    "    response_json = response.json()\n",
    "    df_response = pd.DataFrame(response_json[1:],\n",
    "                                    columns = response_json[0])\n",
    "    return df_response"
   ]
  },
  {
   "cell_type": "code",
   "execution_count": 62,
   "metadata": {},
   "outputs": [
    {
     "name": "stdout",
     "output_type": "stream",
     "text": [
      "(33120, 3)\n"
     ]
    },
    {
     "data": {
      "text/html": [
       "<div>\n",
       "<style scoped>\n",
       "    .dataframe tbody tr th:only-of-type {\n",
       "        vertical-align: middle;\n",
       "    }\n",
       "\n",
       "    .dataframe tbody tr th {\n",
       "        vertical-align: top;\n",
       "    }\n",
       "\n",
       "    .dataframe thead th {\n",
       "        text-align: right;\n",
       "    }\n",
       "</style>\n",
       "<table border=\"1\" class=\"dataframe\">\n",
       "  <thead>\n",
       "    <tr style=\"text-align: right;\">\n",
       "      <th></th>\n",
       "      <th>NAME</th>\n",
       "      <th>B01001_001E</th>\n",
       "      <th>zip code tabulation area</th>\n",
       "    </tr>\n",
       "  </thead>\n",
       "  <tbody>\n",
       "    <tr>\n",
       "      <th>0</th>\n",
       "      <td>ZCTA5 84306</td>\n",
       "      <td>345</td>\n",
       "      <td>84306</td>\n",
       "    </tr>\n",
       "    <tr>\n",
       "      <th>1</th>\n",
       "      <td>ZCTA5 84775</td>\n",
       "      <td>421</td>\n",
       "      <td>84775</td>\n",
       "    </tr>\n",
       "    <tr>\n",
       "      <th>2</th>\n",
       "      <td>ZCTA5 84762</td>\n",
       "      <td>211</td>\n",
       "      <td>84762</td>\n",
       "    </tr>\n",
       "    <tr>\n",
       "      <th>3</th>\n",
       "      <td>ZCTA5 84772</td>\n",
       "      <td>203</td>\n",
       "      <td>84772</td>\n",
       "    </tr>\n",
       "    <tr>\n",
       "      <th>4</th>\n",
       "      <td>ZCTA5 84781</td>\n",
       "      <td>224</td>\n",
       "      <td>84781</td>\n",
       "    </tr>\n",
       "  </tbody>\n",
       "</table>\n",
       "</div>"
      ],
      "text/plain": [
       "          NAME  B01001_001E zip code tabulation area\n",
       "0  ZCTA5 84306          345                    84306\n",
       "1  ZCTA5 84775          421                    84775\n",
       "2  ZCTA5 84762          211                    84762\n",
       "3  ZCTA5 84772          203                    84772\n",
       "4  ZCTA5 84781          224                    84781"
      ]
     },
     "execution_count": 62,
     "metadata": {},
     "output_type": "execute_result"
    }
   ],
   "source": [
    "# Population\n",
    "# https://api.census.gov/data/2017/acs/acs5/groups/B00001.html\n",
    "population = \"B01001_001E\"\n",
    "df_population_17 = read_or_save(\"population_zctas_17\",\n",
    "        lambda: get_stat_for_all_ZCTAs(population, year = 2017))\n",
    "df_population_17[population] = df_population_17[population].apply(int)\n",
    "print(df_population_17.shape)\n",
    "df_population_17.head()"
   ]
  },
  {
   "cell_type": "code",
   "execution_count": 63,
   "metadata": {},
   "outputs": [
    {
     "name": "stdout",
     "output_type": "stream",
     "text": [
      "(33120, 3)\n"
     ]
    },
    {
     "data": {
      "text/html": [
       "<div>\n",
       "<style scoped>\n",
       "    .dataframe tbody tr th:only-of-type {\n",
       "        vertical-align: middle;\n",
       "    }\n",
       "\n",
       "    .dataframe tbody tr th {\n",
       "        vertical-align: top;\n",
       "    }\n",
       "\n",
       "    .dataframe thead th {\n",
       "        text-align: right;\n",
       "    }\n",
       "</style>\n",
       "<table border=\"1\" class=\"dataframe\">\n",
       "  <thead>\n",
       "    <tr style=\"text-align: right;\">\n",
       "      <th></th>\n",
       "      <th>NAME</th>\n",
       "      <th>B19013_001E</th>\n",
       "      <th>zip code tabulation area</th>\n",
       "    </tr>\n",
       "  </thead>\n",
       "  <tbody>\n",
       "    <tr>\n",
       "      <th>12511</th>\n",
       "      <td>ZCTA5 67455</td>\n",
       "      <td>52939</td>\n",
       "      <td>67455</td>\n",
       "    </tr>\n",
       "    <tr>\n",
       "      <th>1881</th>\n",
       "      <td>ZCTA5 79567</td>\n",
       "      <td>40680</td>\n",
       "      <td>79567</td>\n",
       "    </tr>\n",
       "    <tr>\n",
       "      <th>19638</th>\n",
       "      <td>ZCTA5 18067</td>\n",
       "      <td>64583</td>\n",
       "      <td>18067</td>\n",
       "    </tr>\n",
       "    <tr>\n",
       "      <th>17024</th>\n",
       "      <td>ZCTA5 95943</td>\n",
       "      <td>47383</td>\n",
       "      <td>95943</td>\n",
       "    </tr>\n",
       "    <tr>\n",
       "      <th>16936</th>\n",
       "      <td>ZCTA5 92155</td>\n",
       "      <td>-666666666</td>\n",
       "      <td>92155</td>\n",
       "    </tr>\n",
       "  </tbody>\n",
       "</table>\n",
       "</div>"
      ],
      "text/plain": [
       "              NAME  B19013_001E zip code tabulation area\n",
       "12511  ZCTA5 67455        52939                    67455\n",
       "1881   ZCTA5 79567        40680                    79567\n",
       "19638  ZCTA5 18067        64583                    18067\n",
       "17024  ZCTA5 95943        47383                    95943\n",
       "16936  ZCTA5 92155   -666666666                    92155"
      ]
     },
     "execution_count": 63,
     "metadata": {},
     "output_type": "execute_result"
    }
   ],
   "source": [
    "# Median Household Income\n",
    "# https://api.census.gov/data/2017/acs/acs5/groups/B19013.html\n",
    "med_household_income = \"B19013_001E\"\n",
    "df_med_household_income_17 = read_or_save(\"med_household_income_zctas_17\",\n",
    "        lambda: get_stat_for_all_ZCTAs(med_household_income, year = 2017))\n",
    "df_med_household_income_17[med_household_income] = df_med_household_income_17[med_household_income].apply(int)\n",
    "print(df_med_household_income_17.shape)\n",
    "df_med_household_income_17.sample(5)"
   ]
  },
  {
   "cell_type": "markdown",
   "metadata": {},
   "source": [
    "Add ZCTAs to SBA data"
   ]
  },
  {
   "cell_type": "code",
   "execution_count": 64,
   "metadata": {},
   "outputs": [
    {
     "name": "stdout",
     "output_type": "stream",
     "text": [
      "(41160, 2)\n"
     ]
    },
    {
     "data": {
      "text/html": [
       "<div>\n",
       "<style scoped>\n",
       "    .dataframe tbody tr th:only-of-type {\n",
       "        vertical-align: middle;\n",
       "    }\n",
       "\n",
       "    .dataframe tbody tr th {\n",
       "        vertical-align: top;\n",
       "    }\n",
       "\n",
       "    .dataframe thead th {\n",
       "        text-align: right;\n",
       "    }\n",
       "</style>\n",
       "<table border=\"1\" class=\"dataframe\">\n",
       "  <thead>\n",
       "    <tr style=\"text-align: right;\">\n",
       "      <th></th>\n",
       "      <th>ZIP_CODE</th>\n",
       "      <th>ZCTA</th>\n",
       "    </tr>\n",
       "  </thead>\n",
       "  <tbody>\n",
       "    <tr>\n",
       "      <th>0</th>\n",
       "      <td>501</td>\n",
       "      <td>11742</td>\n",
       "    </tr>\n",
       "    <tr>\n",
       "      <th>1</th>\n",
       "      <td>544</td>\n",
       "      <td>11742</td>\n",
       "    </tr>\n",
       "    <tr>\n",
       "      <th>2</th>\n",
       "      <td>601</td>\n",
       "      <td>601</td>\n",
       "    </tr>\n",
       "    <tr>\n",
       "      <th>3</th>\n",
       "      <td>602</td>\n",
       "      <td>602</td>\n",
       "    </tr>\n",
       "    <tr>\n",
       "      <th>4</th>\n",
       "      <td>603</td>\n",
       "      <td>603</td>\n",
       "    </tr>\n",
       "  </tbody>\n",
       "</table>\n",
       "</div>"
      ],
      "text/plain": [
       "   ZIP_CODE   ZCTA\n",
       "0       501  11742\n",
       "1       544  11742\n",
       "2       601    601\n",
       "3       602    602\n",
       "4       603    603"
      ]
     },
     "execution_count": 64,
     "metadata": {},
     "output_type": "execute_result"
    }
   ],
   "source": [
    "df_zip_converter = pd.read_excel(\"zip_to_zcta_2018.xlsx\")\n",
    "df_zip_converter = df_zip_converter[['ZIP_CODE','ZCTA']]\n",
    "print(df_zip_converter.shape)\n",
    "df_zip_converter.head()"
   ]
  },
  {
   "cell_type": "code",
   "execution_count": 65,
   "metadata": {},
   "outputs": [
    {
     "name": "stdout",
     "output_type": "stream",
     "text": [
      "(609273, 12)\n"
     ]
    },
    {
     "data": {
      "text/html": [
       "<div>\n",
       "<style scoped>\n",
       "    .dataframe tbody tr th:only-of-type {\n",
       "        vertical-align: middle;\n",
       "    }\n",
       "\n",
       "    .dataframe tbody tr th {\n",
       "        vertical-align: top;\n",
       "    }\n",
       "\n",
       "    .dataframe thead th {\n",
       "        text-align: right;\n",
       "    }\n",
       "</style>\n",
       "<table border=\"1\" class=\"dataframe\">\n",
       "  <thead>\n",
       "    <tr style=\"text-align: right;\">\n",
       "      <th></th>\n",
       "      <th>FY</th>\n",
       "      <th>SBA_PHYS_NBR</th>\n",
       "      <th>SBA_EIDL_NBR</th>\n",
       "      <th>FEMA_DECL</th>\n",
       "      <th>SBA_DECL</th>\n",
       "      <th>CITY</th>\n",
       "      <th>STATE</th>\n",
       "      <th>ZIP</th>\n",
       "      <th>COUNTY</th>\n",
       "      <th>LOAN_TYPE</th>\n",
       "      <th>ORIGINAL_APPROVAL_AMOUNT</th>\n",
       "      <th>ZCTA</th>\n",
       "    </tr>\n",
       "  </thead>\n",
       "  <tbody>\n",
       "    <tr>\n",
       "      <th>117410</th>\n",
       "      <td>2004</td>\n",
       "      <td>3562</td>\n",
       "      <td>9Z09</td>\n",
       "      <td>1505DR</td>\n",
       "      <td>3562</td>\n",
       "      <td>ATASCADERO</td>\n",
       "      <td>CA</td>\n",
       "      <td>93422</td>\n",
       "      <td>SAN LUIS OBISPO</td>\n",
       "      <td>H</td>\n",
       "      <td>75900</td>\n",
       "      <td>93422</td>\n",
       "    </tr>\n",
       "    <tr>\n",
       "      <th>320674</th>\n",
       "      <td>2010</td>\n",
       "      <td>11886</td>\n",
       "      <td>11887</td>\n",
       "      <td>1858</td>\n",
       "      <td>GA-00027</td>\n",
       "      <td>AUSTELL</td>\n",
       "      <td>GA</td>\n",
       "      <td>30106</td>\n",
       "      <td>COBB</td>\n",
       "      <td>H</td>\n",
       "      <td>92900</td>\n",
       "      <td>30106</td>\n",
       "    </tr>\n",
       "    <tr>\n",
       "      <th>51202</th>\n",
       "      <td>2001</td>\n",
       "      <td>3347</td>\n",
       "      <td>9L86</td>\n",
       "      <td>1379DR</td>\n",
       "      <td>3347</td>\n",
       "      <td>HOUSTON</td>\n",
       "      <td>TX</td>\n",
       "      <td>77076</td>\n",
       "      <td>HARRIS</td>\n",
       "      <td>H</td>\n",
       "      <td>56000</td>\n",
       "      <td>77076</td>\n",
       "    </tr>\n",
       "    <tr>\n",
       "      <th>162492</th>\n",
       "      <td>2005</td>\n",
       "      <td>3627</td>\n",
       "      <td>9ZX2</td>\n",
       "      <td>1551DR</td>\n",
       "      <td>3627</td>\n",
       "      <td>GULF BREEZE</td>\n",
       "      <td>FL</td>\n",
       "      <td>32561</td>\n",
       "      <td>SANTA ROSA</td>\n",
       "      <td>H</td>\n",
       "      <td>31700</td>\n",
       "      <td>32561</td>\n",
       "    </tr>\n",
       "    <tr>\n",
       "      <th>66710</th>\n",
       "      <td>2002</td>\n",
       "      <td>3390</td>\n",
       "      <td>9O15</td>\n",
       "      <td></td>\n",
       "      <td>3390</td>\n",
       "      <td>AUSTIN</td>\n",
       "      <td>TX</td>\n",
       "      <td>78745</td>\n",
       "      <td>TRAVIS</td>\n",
       "      <td>H</td>\n",
       "      <td>58500</td>\n",
       "      <td>78745</td>\n",
       "    </tr>\n",
       "  </tbody>\n",
       "</table>\n",
       "</div>"
      ],
      "text/plain": [
       "          FY SBA_PHYS_NBR SBA_EIDL_NBR FEMA_DECL  SBA_DECL             CITY  \\\n",
       "117410  2004         3562         9Z09    1505DR      3562  ATASCADERO        \n",
       "320674  2010        11886        11887      1858  GA-00027          AUSTELL   \n",
       "51202   2001         3347         9L86    1379DR      3347  HOUSTON           \n",
       "162492  2005         3627         9ZX2    1551DR      3627  GULF BREEZE       \n",
       "66710   2002         3390         9O15                3390  AUSTIN            \n",
       "\n",
       "       STATE    ZIP                COUNTY LOAN_TYPE ORIGINAL_APPROVAL_AMOUNT  \\\n",
       "117410    CA  93422  SAN LUIS OBISPO              H                    75900   \n",
       "320674    GA  30106                  COBB         H                    92900   \n",
       "51202     TX  77076  HARRIS                       H                    56000   \n",
       "162492    FL  32561  SANTA ROSA                   H                    31700   \n",
       "66710     TX  78745  TRAVIS                       H                    58500   \n",
       "\n",
       "         ZCTA  \n",
       "117410  93422  \n",
       "320674  30106  \n",
       "51202   77076  \n",
       "162492  32561  \n",
       "66710   78745  "
      ]
     },
     "execution_count": 65,
     "metadata": {},
     "output_type": "execute_result"
    }
   ],
   "source": [
    "df_zip_converter['ZIP_CODE'] = df_zip_converter['ZIP_CODE'].apply(lambda s: \"0\"*(5-len(str(s))) + str(s))\n",
    "df_zip_converter['ZCTA'] = df_zip_converter['ZCTA'].apply(lambda s: \"0\"*(5-len(str(s))) + str(s))\n",
    "df_approvals = pd.merge(df_approvals, df_zip_converter, how = \"left\", left_on = \"ZIP\", right_on = \"ZIP_CODE\")\n",
    "df_approvals.drop([\"ZIP_CODE\"], inplace = True, axis = 1)\n",
    "print(df_approvals.shape)\n",
    "df_approvals.sample(5)"
   ]
  },
  {
   "cell_type": "code",
   "execution_count": 66,
   "metadata": {},
   "outputs": [],
   "source": [
    "df_withdrawals = pd.merge(df_withdrawals, df_zip_converter, how = \"left\", left_on = \"ZIP\", right_on = \"ZIP_CODE\")\n",
    "df_withdrawals.drop([\"ZIP_CODE\"], inplace = True, axis = 1)\n",
    "df_declines = pd.merge(df_declines, df_zip_converter, how = \"left\", left_on = \"ZIP\", right_on = \"ZIP_CODE\")\n",
    "df_declines.drop([\"ZIP_CODE\"], inplace = True, axis = 1)"
   ]
  },
  {
   "cell_type": "code",
   "execution_count": 67,
   "metadata": {},
   "outputs": [
    {
     "name": "stdout",
     "output_type": "stream",
     "text": [
      "(134195, 12)\n",
      "(167717, 18)\n"
     ]
    }
   ],
   "source": [
    "df_approvals_17_18 = df_approvals[df_approvals['FY']>=2017].copy()\n",
    "print(df_approvals_17_18.shape)\n",
    "df_declines_17_18 = df_declines[df_declines['FY']>=2017].copy()\n",
    "print(df_declines_17_18.shape)"
   ]
  },
  {
   "cell_type": "code",
   "execution_count": 68,
   "metadata": {},
   "outputs": [
    {
     "name": "stdout",
     "output_type": "stream",
     "text": [
      "3187\n",
      "2946\n"
     ]
    }
   ],
   "source": [
    "df_approvals_17_18_by_zcta = df_approvals_17_18.groupby(by = \"ZCTA\").count().iloc[:,0]\n",
    "print(len(df_approvals_17_18_by_zcta))\n",
    "df_declines_17_18_by_zcta = df_declines_17_18.groupby(by = \"ZCTA\").count().iloc[:,0]\n",
    "print(len(df_declines_17_18_by_zcta))"
   ]
  },
  {
   "cell_type": "code",
   "execution_count": 69,
   "metadata": {},
   "outputs": [
    {
     "name": "stdout",
     "output_type": "stream",
     "text": [
      "(33120, 7)\n",
      "(33120, 8)\n"
     ]
    },
    {
     "data": {
      "text/html": [
       "<div>\n",
       "<style scoped>\n",
       "    .dataframe tbody tr th:only-of-type {\n",
       "        vertical-align: middle;\n",
       "    }\n",
       "\n",
       "    .dataframe tbody tr th {\n",
       "        vertical-align: top;\n",
       "    }\n",
       "\n",
       "    .dataframe thead th {\n",
       "        text-align: right;\n",
       "    }\n",
       "</style>\n",
       "<table border=\"1\" class=\"dataframe\">\n",
       "  <thead>\n",
       "    <tr style=\"text-align: right;\">\n",
       "      <th></th>\n",
       "      <th>NAME</th>\n",
       "      <th>B01001_001E</th>\n",
       "      <th>zip code tabulation area</th>\n",
       "      <th>2017-18 Approvals</th>\n",
       "      <th>2017-18 Declines</th>\n",
       "      <th>2017-18 Approvals_Declines</th>\n",
       "      <th>2017-18 Approval Rate</th>\n",
       "      <th>B19013_001E</th>\n",
       "    </tr>\n",
       "  </thead>\n",
       "  <tbody>\n",
       "    <tr>\n",
       "      <th>30492</th>\n",
       "      <td>ZCTA5 00601</td>\n",
       "      <td>17599</td>\n",
       "      <td>00601</td>\n",
       "      <td>192</td>\n",
       "      <td>114</td>\n",
       "      <td>306</td>\n",
       "      <td>0.627451</td>\n",
       "      <td>11757</td>\n",
       "    </tr>\n",
       "    <tr>\n",
       "      <th>30455</th>\n",
       "      <td>ZCTA5 00602</td>\n",
       "      <td>39209</td>\n",
       "      <td>00602</td>\n",
       "      <td>301</td>\n",
       "      <td>147</td>\n",
       "      <td>448</td>\n",
       "      <td>0.671875</td>\n",
       "      <td>16190</td>\n",
       "    </tr>\n",
       "    <tr>\n",
       "      <th>30426</th>\n",
       "      <td>ZCTA5 00603</td>\n",
       "      <td>50135</td>\n",
       "      <td>00603</td>\n",
       "      <td>343</td>\n",
       "      <td>180</td>\n",
       "      <td>523</td>\n",
       "      <td>0.655832</td>\n",
       "      <td>16645</td>\n",
       "    </tr>\n",
       "    <tr>\n",
       "      <th>30512</th>\n",
       "      <td>ZCTA5 00606</td>\n",
       "      <td>6304</td>\n",
       "      <td>00606</td>\n",
       "      <td>40</td>\n",
       "      <td>13</td>\n",
       "      <td>53</td>\n",
       "      <td>0.754717</td>\n",
       "      <td>13387</td>\n",
       "    </tr>\n",
       "    <tr>\n",
       "      <th>30513</th>\n",
       "      <td>ZCTA5 00610</td>\n",
       "      <td>27590</td>\n",
       "      <td>00610</td>\n",
       "      <td>237</td>\n",
       "      <td>134</td>\n",
       "      <td>371</td>\n",
       "      <td>0.638814</td>\n",
       "      <td>18741</td>\n",
       "    </tr>\n",
       "  </tbody>\n",
       "</table>\n",
       "</div>"
      ],
      "text/plain": [
       "              NAME  B01001_001E zip code tabulation area  2017-18 Approvals  \\\n",
       "30492  ZCTA5 00601        17599                    00601                192   \n",
       "30455  ZCTA5 00602        39209                    00602                301   \n",
       "30426  ZCTA5 00603        50135                    00603                343   \n",
       "30512  ZCTA5 00606         6304                    00606                 40   \n",
       "30513  ZCTA5 00610        27590                    00610                237   \n",
       "\n",
       "       2017-18 Declines  2017-18 Approvals_Declines  2017-18 Approval Rate  \\\n",
       "30492               114                         306               0.627451   \n",
       "30455               147                         448               0.671875   \n",
       "30426               180                         523               0.655832   \n",
       "30512                13                          53               0.754717   \n",
       "30513               134                         371               0.638814   \n",
       "\n",
       "       B19013_001E  \n",
       "30492        11757  \n",
       "30455        16190  \n",
       "30426        16645  \n",
       "30512        13387  \n",
       "30513        18741  "
      ]
     },
     "execution_count": 69,
     "metadata": {},
     "output_type": "execute_result"
    }
   ],
   "source": [
    "# Do ZCTAs with higher median income have higher approval rates?\n",
    "df_approval_rate_zcta_analysis = df_population_17.copy()\n",
    "zcta = \"zip code tabulation area\"\n",
    "df_approval_rate_zcta_analysis['2017-18 Approvals'] = df_approval_rate_zcta_analysis[zcta].apply(\n",
    "        lambda x: df_approvals_17_18_by_zcta[x] if x in df_approvals_17_18_by_zcta.index else 0)\n",
    "df_approval_rate_zcta_analysis['2017-18 Declines'] = df_approval_rate_zcta_analysis[zcta].apply(\n",
    "        lambda x: df_declines_17_18_by_zcta[x] if x in df_declines_17_18_by_zcta else 0)\n",
    "df_approval_rate_zcta_analysis['2017-18 Approvals_Declines'] = df_approval_rate_zcta_analysis['2017-18 Approvals']+df_approval_rate_zcta_analysis['2017-18 Declines']\n",
    "df_approval_rate_zcta_analysis['2017-18 Approval Rate'] = df_approval_rate_zcta_analysis['2017-18 Approvals'] / df_approval_rate_zcta_analysis['2017-18 Approvals_Declines']\n",
    "print(df_approval_rate_zcta_analysis.shape)\n",
    "df_approval_rate_zcta_analysis = pd.merge(df_approval_rate_zcta_analysis, df_med_household_income_17[[zcta,med_household_income]], on = zcta,\n",
    "                                 how = \"left\")\n",
    "print(df_approval_rate_zcta_analysis.shape)\n",
    "df_approval_rate_zcta_analysis.sort_values(by = \"zip code tabulation area\").head()"
   ]
  },
  {
   "cell_type": "code",
   "execution_count": 70,
   "metadata": {},
   "outputs": [
    {
     "name": "stdout",
     "output_type": "stream",
     "text": [
      "13\n",
      "12\n"
     ]
    }
   ],
   "source": [
    "# Checking that the merge went ok \n",
    "print(len(df_approvals_17_18_by_zcta) - len(df_approval_rate_zcta_analysis[df_approval_rate_zcta_analysis['2017-18 Approvals']>0]))\n",
    "print(len(df_declines_17_18_by_zcta) - len(df_approval_rate_zcta_analysis[df_approval_rate_zcta_analysis['2017-18 Declines']>0]))"
   ]
  },
  {
   "cell_type": "code",
   "execution_count": 71,
   "metadata": {},
   "outputs": [],
   "source": [
    "# for ZCTA in df_approvals_17_18_by_zcta.index:\n",
    "#     if df_approval_rate_zcta_analysis.loc[df_approval_rate_zcta_analysis[zcta]==ZCTA,\"2017-18 Approvals\"].sum() == 0:\n",
    "#         print(ZCTA)"
   ]
  },
  {
   "cell_type": "markdown",
   "metadata": {},
   "source": [
    "seems like the missing zip codes are from U.S. territories like USVI, Northern Mariana Islands, which is fine"
   ]
  },
  {
   "cell_type": "code",
   "execution_count": 72,
   "metadata": {},
   "outputs": [
    {
     "data": {
      "text/plain": [
       "count    33120.000000\n",
       "mean         7.258937\n",
       "std         54.351140\n",
       "min          0.000000\n",
       "25%          0.000000\n",
       "50%          0.000000\n",
       "75%          0.000000\n",
       "max       1636.000000\n",
       "Name: 2017-18 Approvals_Declines, dtype: float64"
      ]
     },
     "execution_count": 72,
     "metadata": {},
     "output_type": "execute_result"
    }
   ],
   "source": [
    "df_approval_rate_zcta_analysis['2017-18 Approvals_Declines'].describe()"
   ]
  },
  {
   "cell_type": "code",
   "execution_count": 73,
   "metadata": {},
   "outputs": [
    {
     "name": "stdout",
     "output_type": "stream",
     "text": [
      "33120 1739\n"
     ]
    },
    {
     "data": {
      "text/html": [
       "<div>\n",
       "<style scoped>\n",
       "    .dataframe tbody tr th:only-of-type {\n",
       "        vertical-align: middle;\n",
       "    }\n",
       "\n",
       "    .dataframe tbody tr th {\n",
       "        vertical-align: top;\n",
       "    }\n",
       "\n",
       "    .dataframe thead th {\n",
       "        text-align: right;\n",
       "    }\n",
       "</style>\n",
       "<table border=\"1\" class=\"dataframe\">\n",
       "  <thead>\n",
       "    <tr style=\"text-align: right;\">\n",
       "      <th></th>\n",
       "      <th>B01001_001E</th>\n",
       "      <th>2017-18 Approvals</th>\n",
       "      <th>2017-18 Declines</th>\n",
       "      <th>2017-18 Approvals_Declines</th>\n",
       "      <th>2017-18 Approval Rate</th>\n",
       "      <th>B19013_001E</th>\n",
       "    </tr>\n",
       "  </thead>\n",
       "  <tbody>\n",
       "    <tr>\n",
       "      <th>B01001_001E</th>\n",
       "      <td>1.000000</td>\n",
       "      <td>0.369813</td>\n",
       "      <td>0.474707</td>\n",
       "      <td>0.428258</td>\n",
       "      <td>-0.046907</td>\n",
       "      <td>0.108135</td>\n",
       "    </tr>\n",
       "    <tr>\n",
       "      <th>2017-18 Approvals</th>\n",
       "      <td>0.369813</td>\n",
       "      <td>1.000000</td>\n",
       "      <td>0.861957</td>\n",
       "      <td>0.975666</td>\n",
       "      <td>0.196142</td>\n",
       "      <td>-0.076680</td>\n",
       "    </tr>\n",
       "    <tr>\n",
       "      <th>2017-18 Declines</th>\n",
       "      <td>0.474707</td>\n",
       "      <td>0.861957</td>\n",
       "      <td>1.000000</td>\n",
       "      <td>0.952144</td>\n",
       "      <td>-0.099831</td>\n",
       "      <td>-0.128707</td>\n",
       "    </tr>\n",
       "    <tr>\n",
       "      <th>2017-18 Approvals_Declines</th>\n",
       "      <td>0.428258</td>\n",
       "      <td>0.975666</td>\n",
       "      <td>0.952144</td>\n",
       "      <td>1.000000</td>\n",
       "      <td>0.075074</td>\n",
       "      <td>-0.101893</td>\n",
       "    </tr>\n",
       "    <tr>\n",
       "      <th>2017-18 Approval Rate</th>\n",
       "      <td>-0.046907</td>\n",
       "      <td>0.196142</td>\n",
       "      <td>-0.099831</td>\n",
       "      <td>0.075074</td>\n",
       "      <td>1.000000</td>\n",
       "      <td>0.165531</td>\n",
       "    </tr>\n",
       "    <tr>\n",
       "      <th>B19013_001E</th>\n",
       "      <td>0.108135</td>\n",
       "      <td>-0.076680</td>\n",
       "      <td>-0.128707</td>\n",
       "      <td>-0.101893</td>\n",
       "      <td>0.165531</td>\n",
       "      <td>1.000000</td>\n",
       "    </tr>\n",
       "  </tbody>\n",
       "</table>\n",
       "</div>"
      ],
      "text/plain": [
       "                            B01001_001E  2017-18 Approvals  2017-18 Declines  \\\n",
       "B01001_001E                    1.000000           0.369813          0.474707   \n",
       "2017-18 Approvals              0.369813           1.000000          0.861957   \n",
       "2017-18 Declines               0.474707           0.861957          1.000000   \n",
       "2017-18 Approvals_Declines     0.428258           0.975666          0.952144   \n",
       "2017-18 Approval Rate         -0.046907           0.196142         -0.099831   \n",
       "B19013_001E                    0.108135          -0.076680         -0.128707   \n",
       "\n",
       "                            2017-18 Approvals_Declines  2017-18 Approval Rate  \\\n",
       "B01001_001E                                   0.428258              -0.046907   \n",
       "2017-18 Approvals                             0.975666               0.196142   \n",
       "2017-18 Declines                              0.952144              -0.099831   \n",
       "2017-18 Approvals_Declines                    1.000000               0.075074   \n",
       "2017-18 Approval Rate                         0.075074               1.000000   \n",
       "B19013_001E                                  -0.101893               0.165531   \n",
       "\n",
       "                            B19013_001E  \n",
       "B01001_001E                    0.108135  \n",
       "2017-18 Approvals             -0.076680  \n",
       "2017-18 Declines              -0.128707  \n",
       "2017-18 Approvals_Declines    -0.101893  \n",
       "2017-18 Approval Rate          0.165531  \n",
       "B19013_001E                    1.000000  "
      ]
     },
     "execution_count": 73,
     "metadata": {},
     "output_type": "execute_result"
    }
   ],
   "source": [
    "# Filter to only include ZCTAs with at least thresh approvals or declines\n",
    "thresh = 10\n",
    "df_approval_rate_zcta_analysis_2 = df_approval_rate_zcta_analysis[df_approval_rate_zcta_analysis['2017-18 Approvals_Declines']>=thresh].copy()\n",
    "print(len(df_approval_rate_zcta_analysis),len(df_approval_rate_zcta_analysis_2))\n",
    "\n",
    "# Remove negative median incomes (indicating an error)\n",
    "df_approval_rate_zcta_analysis_2 = df_approval_rate_zcta_analysis_2[df_approval_rate_zcta_analysis_2[med_household_income]>0].copy()\n",
    "df_approval_rate_zcta_analysis_2.corr()"
   ]
  },
  {
   "cell_type": "code",
   "execution_count": 74,
   "metadata": {},
   "outputs": [
    {
     "data": {
      "text/plain": [
       "count      1724.000000\n",
       "mean      51269.285383\n",
       "std       21080.048484\n",
       "min        5902.000000\n",
       "25%       37812.250000\n",
       "50%       47963.500000\n",
       "75%       62093.500000\n",
       "max      180758.000000\n",
       "Name: B19013_001E, dtype: float64"
      ]
     },
     "execution_count": 74,
     "metadata": {},
     "output_type": "execute_result"
    }
   ],
   "source": [
    "df_approval_rate_zcta_analysis_2[med_household_income].describe()"
   ]
  },
  {
   "cell_type": "code",
   "execution_count": 75,
   "metadata": {},
   "outputs": [
    {
     "data": {
      "image/png": "[encoded data removed]",
      "text/plain": [
       "<Figure size 432x288 with 1 Axes>"
      ]
     },
     "metadata": {
      "needs_background": "light"
     },
     "output_type": "display_data"
    }
   ],
   "source": [
    "df_approval_rate_zcta_analysis_2.plot(x = med_household_income, y = \"2017-18 Approval Rate\", kind = \"scatter\")\n",
    "plt.xlabel(\"Median Household Income 2017\")\n",
    "plt.show()"
   ]
  },
  {
   "cell_type": "markdown",
   "metadata": {},
   "source": [
    "Business vs. home loans"
   ]
  },
  {
   "cell_type": "code",
   "execution_count": 76,
   "metadata": {},
   "outputs": [],
   "source": [
    "df_approvals_17_18_business = df_approvals_17_18[df_approvals_17_18['LOAN_TYPE']==\"B\"].copy()\n",
    "df_declines_17_18_business = df_declines_17_18[df_declines_17_18['LOAN_TYPE']==\"B\"].copy()\n",
    "df_approvals_17_18_home = df_approvals_17_18[df_approvals_17_18['LOAN_TYPE']==\"H\"].copy()\n",
    "df_declines_17_18_home = df_declines_17_18[df_declines_17_18['LOAN_TYPE']==\"H\"].copy()"
   ]
  },
  {
   "cell_type": "code",
   "execution_count": 77,
   "metadata": {},
   "outputs": [],
   "source": [
    "df_approvals_17_18_business_by_zcta = df_approvals_17_18_business.groupby(by = \"ZCTA\").count().iloc[:,0]\n",
    "df_declines_17_18_business_by_zcta = df_declines_17_18_business.groupby(by = \"ZCTA\").count().iloc[:,0]\n",
    "df_approvals_17_18_home_by_zcta = df_approvals_17_18_home.groupby(by = \"ZCTA\").count().iloc[:,0]\n",
    "df_declines_17_18_home_by_zcta = df_declines_17_18_home.groupby(by = \"ZCTA\").count().iloc[:,0]"
   ]
  },
  {
   "cell_type": "code",
   "execution_count": 78,
   "metadata": {},
   "outputs": [],
   "source": [
    "# Do ZCTAs with higher median income have higher approval rates?\n",
    "df_approval_rate_zcta_analysis_business = df_population_17.copy()\n",
    "df_approval_rate_zcta_analysis_business['2017-18 Approvals'] = df_approval_rate_zcta_analysis_business[zcta].apply(\n",
    "        lambda x: df_approvals_17_18_business_by_zcta[x] if x in df_approvals_17_18_business_by_zcta.index else 0)\n",
    "df_approval_rate_zcta_analysis_business['2017-18 Declines'] = df_approval_rate_zcta_analysis_business[zcta].apply(\n",
    "        lambda x: df_declines_17_18_business_by_zcta[x] if x in df_declines_17_18_business_by_zcta else 0)\n",
    "df_approval_rate_zcta_analysis_business['2017-18 Approvals_Declines'] = df_approval_rate_zcta_analysis_business['2017-18 Approvals']+df_approval_rate_zcta_analysis_business['2017-18 Declines']\n",
    "df_approval_rate_zcta_analysis_business['2017-18 Approval Rate'] = df_approval_rate_zcta_analysis_business['2017-18 Approvals'] / df_approval_rate_zcta_analysis_business['2017-18 Approvals_Declines']\n",
    "df_approval_rate_zcta_analysis_business = pd.merge(df_approval_rate_zcta_analysis_business, df_med_household_income_17[[zcta,med_household_income]], on = zcta,\n",
    "                                 how = \"left\")"
   ]
  },
  {
   "cell_type": "code",
   "execution_count": 79,
   "metadata": {},
   "outputs": [],
   "source": [
    "# Do ZCTAs with higher median income have higher approval rates?\n",
    "df_approval_rate_zcta_analysis_home = df_population_17.copy()\n",
    "df_approval_rate_zcta_analysis_home['2017-18 Approvals'] = df_approval_rate_zcta_analysis_home[zcta].apply(\n",
    "        lambda x: df_approvals_17_18_home_by_zcta[x] if x in df_approvals_17_18_home_by_zcta.index else 0)\n",
    "df_approval_rate_zcta_analysis_home['2017-18 Declines'] = df_approval_rate_zcta_analysis_home[zcta].apply(\n",
    "        lambda x: df_declines_17_18_home_by_zcta[x] if x in df_declines_17_18_home_by_zcta else 0)\n",
    "df_approval_rate_zcta_analysis_home['2017-18 Approvals_Declines'] = df_approval_rate_zcta_analysis_home['2017-18 Approvals']+df_approval_rate_zcta_analysis_home['2017-18 Declines']\n",
    "df_approval_rate_zcta_analysis_home['2017-18 Approval Rate'] = df_approval_rate_zcta_analysis_home['2017-18 Approvals'] / df_approval_rate_zcta_analysis_home['2017-18 Approvals_Declines']\n",
    "df_approval_rate_zcta_analysis_home = pd.merge(df_approval_rate_zcta_analysis_home, df_med_household_income_17[[zcta,med_household_income]], on = zcta,\n",
    "                                 how = \"left\")"
   ]
  },
  {
   "cell_type": "code",
   "execution_count": 80,
   "metadata": {},
   "outputs": [
    {
     "name": "stdout",
     "output_type": "stream",
     "text": [
      "33120 759\n"
     ]
    },
    {
     "data": {
      "text/html": [
       "<div>\n",
       "<style scoped>\n",
       "    .dataframe tbody tr th:only-of-type {\n",
       "        vertical-align: middle;\n",
       "    }\n",
       "\n",
       "    .dataframe tbody tr th {\n",
       "        vertical-align: top;\n",
       "    }\n",
       "\n",
       "    .dataframe thead th {\n",
       "        text-align: right;\n",
       "    }\n",
       "</style>\n",
       "<table border=\"1\" class=\"dataframe\">\n",
       "  <thead>\n",
       "    <tr style=\"text-align: right;\">\n",
       "      <th></th>\n",
       "      <th>B01001_001E</th>\n",
       "      <th>2017-18 Approvals</th>\n",
       "      <th>2017-18 Declines</th>\n",
       "      <th>2017-18 Approvals_Declines</th>\n",
       "      <th>2017-18 Approval Rate</th>\n",
       "      <th>B19013_001E</th>\n",
       "    </tr>\n",
       "  </thead>\n",
       "  <tbody>\n",
       "    <tr>\n",
       "      <th>B01001_001E</th>\n",
       "      <td>1.000000</td>\n",
       "      <td>0.095842</td>\n",
       "      <td>0.317329</td>\n",
       "      <td>0.205682</td>\n",
       "      <td>-0.232550</td>\n",
       "      <td>0.125323</td>\n",
       "    </tr>\n",
       "    <tr>\n",
       "      <th>2017-18 Approvals</th>\n",
       "      <td>0.095842</td>\n",
       "      <td>1.000000</td>\n",
       "      <td>0.761496</td>\n",
       "      <td>0.952880</td>\n",
       "      <td>0.375475</td>\n",
       "      <td>-0.020010</td>\n",
       "    </tr>\n",
       "    <tr>\n",
       "      <th>2017-18 Declines</th>\n",
       "      <td>0.317329</td>\n",
       "      <td>0.761496</td>\n",
       "      <td>1.000000</td>\n",
       "      <td>0.922236</td>\n",
       "      <td>-0.131801</td>\n",
       "      <td>-0.150802</td>\n",
       "    </tr>\n",
       "    <tr>\n",
       "      <th>2017-18 Approvals_Declines</th>\n",
       "      <td>0.205682</td>\n",
       "      <td>0.952880</td>\n",
       "      <td>0.922236</td>\n",
       "      <td>1.000000</td>\n",
       "      <td>0.162284</td>\n",
       "      <td>-0.082512</td>\n",
       "    </tr>\n",
       "    <tr>\n",
       "      <th>2017-18 Approval Rate</th>\n",
       "      <td>-0.232550</td>\n",
       "      <td>0.375475</td>\n",
       "      <td>-0.131801</td>\n",
       "      <td>0.162284</td>\n",
       "      <td>1.000000</td>\n",
       "      <td>0.124101</td>\n",
       "    </tr>\n",
       "    <tr>\n",
       "      <th>B19013_001E</th>\n",
       "      <td>0.125323</td>\n",
       "      <td>-0.020010</td>\n",
       "      <td>-0.150802</td>\n",
       "      <td>-0.082512</td>\n",
       "      <td>0.124101</td>\n",
       "      <td>1.000000</td>\n",
       "    </tr>\n",
       "  </tbody>\n",
       "</table>\n",
       "</div>"
      ],
      "text/plain": [
       "                            B01001_001E  2017-18 Approvals  2017-18 Declines  \\\n",
       "B01001_001E                    1.000000           0.095842          0.317329   \n",
       "2017-18 Approvals              0.095842           1.000000          0.761496   \n",
       "2017-18 Declines               0.317329           0.761496          1.000000   \n",
       "2017-18 Approvals_Declines     0.205682           0.952880          0.922236   \n",
       "2017-18 Approval Rate         -0.232550           0.375475         -0.131801   \n",
       "B19013_001E                    0.125323          -0.020010         -0.150802   \n",
       "\n",
       "                            2017-18 Approvals_Declines  2017-18 Approval Rate  \\\n",
       "B01001_001E                                   0.205682              -0.232550   \n",
       "2017-18 Approvals                             0.952880               0.375475   \n",
       "2017-18 Declines                              0.922236              -0.131801   \n",
       "2017-18 Approvals_Declines                    1.000000               0.162284   \n",
       "2017-18 Approval Rate                         0.162284               1.000000   \n",
       "B19013_001E                                  -0.082512               0.124101   \n",
       "\n",
       "                            B19013_001E  \n",
       "B01001_001E                    0.125323  \n",
       "2017-18 Approvals             -0.020010  \n",
       "2017-18 Declines              -0.150802  \n",
       "2017-18 Approvals_Declines    -0.082512  \n",
       "2017-18 Approval Rate          0.124101  \n",
       "B19013_001E                    1.000000  "
      ]
     },
     "execution_count": 80,
     "metadata": {},
     "output_type": "execute_result"
    }
   ],
   "source": [
    "# Filter to only include ZCTAs with at least thresh approvals or declines\n",
    "thresh = 10\n",
    "df_approval_rate_zcta_analysis_business_2 = df_approval_rate_zcta_analysis_business[df_approval_rate_zcta_analysis_business['2017-18 Approvals_Declines']>=thresh].copy()\n",
    "print(len(df_approval_rate_zcta_analysis_business),len(df_approval_rate_zcta_analysis_business_2))\n",
    "\n",
    "# Remove negative median incomes (indicating an error)\n",
    "df_approval_rate_zcta_analysis_business_2 = df_approval_rate_zcta_analysis_business_2[df_approval_rate_zcta_analysis_business_2[med_household_income]>0].copy()\n",
    "df_approval_rate_zcta_analysis_business_2.corr()"
   ]
  },
  {
   "cell_type": "code",
   "execution_count": 81,
   "metadata": {},
   "outputs": [
    {
     "name": "stdout",
     "output_type": "stream",
     "text": [
      "33120 1666\n"
     ]
    },
    {
     "data": {
      "text/html": [
       "<div>\n",
       "<style scoped>\n",
       "    .dataframe tbody tr th:only-of-type {\n",
       "        vertical-align: middle;\n",
       "    }\n",
       "\n",
       "    .dataframe tbody tr th {\n",
       "        vertical-align: top;\n",
       "    }\n",
       "\n",
       "    .dataframe thead th {\n",
       "        text-align: right;\n",
       "    }\n",
       "</style>\n",
       "<table border=\"1\" class=\"dataframe\">\n",
       "  <thead>\n",
       "    <tr style=\"text-align: right;\">\n",
       "      <th></th>\n",
       "      <th>B01001_001E</th>\n",
       "      <th>2017-18 Approvals</th>\n",
       "      <th>2017-18 Declines</th>\n",
       "      <th>2017-18 Approvals_Declines</th>\n",
       "      <th>2017-18 Approval Rate</th>\n",
       "      <th>B19013_001E</th>\n",
       "    </tr>\n",
       "  </thead>\n",
       "  <tbody>\n",
       "    <tr>\n",
       "      <th>B01001_001E</th>\n",
       "      <td>1.000000</td>\n",
       "      <td>0.369157</td>\n",
       "      <td>0.470067</td>\n",
       "      <td>0.426304</td>\n",
       "      <td>-0.036761</td>\n",
       "      <td>0.110745</td>\n",
       "    </tr>\n",
       "    <tr>\n",
       "      <th>2017-18 Approvals</th>\n",
       "      <td>0.369157</td>\n",
       "      <td>1.000000</td>\n",
       "      <td>0.849304</td>\n",
       "      <td>0.974475</td>\n",
       "      <td>0.232019</td>\n",
       "      <td>-0.075594</td>\n",
       "    </tr>\n",
       "    <tr>\n",
       "      <th>2017-18 Declines</th>\n",
       "      <td>0.470067</td>\n",
       "      <td>0.849304</td>\n",
       "      <td>1.000000</td>\n",
       "      <td>0.946138</td>\n",
       "      <td>-0.082086</td>\n",
       "      <td>-0.123489</td>\n",
       "    </tr>\n",
       "    <tr>\n",
       "      <th>2017-18 Approvals_Declines</th>\n",
       "      <td>0.426304</td>\n",
       "      <td>0.974475</td>\n",
       "      <td>0.946138</td>\n",
       "      <td>1.000000</td>\n",
       "      <td>0.107390</td>\n",
       "      <td>-0.098877</td>\n",
       "    </tr>\n",
       "    <tr>\n",
       "      <th>2017-18 Approval Rate</th>\n",
       "      <td>-0.036761</td>\n",
       "      <td>0.232019</td>\n",
       "      <td>-0.082086</td>\n",
       "      <td>0.107390</td>\n",
       "      <td>1.000000</td>\n",
       "      <td>0.169382</td>\n",
       "    </tr>\n",
       "    <tr>\n",
       "      <th>B19013_001E</th>\n",
       "      <td>0.110745</td>\n",
       "      <td>-0.075594</td>\n",
       "      <td>-0.123489</td>\n",
       "      <td>-0.098877</td>\n",
       "      <td>0.169382</td>\n",
       "      <td>1.000000</td>\n",
       "    </tr>\n",
       "  </tbody>\n",
       "</table>\n",
       "</div>"
      ],
      "text/plain": [
       "                            B01001_001E  2017-18 Approvals  2017-18 Declines  \\\n",
       "B01001_001E                    1.000000           0.369157          0.470067   \n",
       "2017-18 Approvals              0.369157           1.000000          0.849304   \n",
       "2017-18 Declines               0.470067           0.849304          1.000000   \n",
       "2017-18 Approvals_Declines     0.426304           0.974475          0.946138   \n",
       "2017-18 Approval Rate         -0.036761           0.232019         -0.082086   \n",
       "B19013_001E                    0.110745          -0.075594         -0.123489   \n",
       "\n",
       "                            2017-18 Approvals_Declines  2017-18 Approval Rate  \\\n",
       "B01001_001E                                   0.426304              -0.036761   \n",
       "2017-18 Approvals                             0.974475               0.232019   \n",
       "2017-18 Declines                              0.946138              -0.082086   \n",
       "2017-18 Approvals_Declines                    1.000000               0.107390   \n",
       "2017-18 Approval Rate                         0.107390               1.000000   \n",
       "B19013_001E                                  -0.098877               0.169382   \n",
       "\n",
       "                            B19013_001E  \n",
       "B01001_001E                    0.110745  \n",
       "2017-18 Approvals             -0.075594  \n",
       "2017-18 Declines              -0.123489  \n",
       "2017-18 Approvals_Declines    -0.098877  \n",
       "2017-18 Approval Rate          0.169382  \n",
       "B19013_001E                    1.000000  "
      ]
     },
     "execution_count": 81,
     "metadata": {},
     "output_type": "execute_result"
    }
   ],
   "source": [
    "# Filter to only include ZCTAs with at least thresh approvals or declines\n",
    "thresh = 10\n",
    "df_approval_rate_zcta_analysis_home_2 = df_approval_rate_zcta_analysis_home[df_approval_rate_zcta_analysis_home['2017-18 Approvals_Declines']>=thresh].copy()\n",
    "print(len(df_approval_rate_zcta_analysis_home),len(df_approval_rate_zcta_analysis_home_2))\n",
    "\n",
    "# Remove negative median incomes (indicating an error)\n",
    "df_approval_rate_zcta_analysis_home_2 = df_approval_rate_zcta_analysis_home_2[df_approval_rate_zcta_analysis_home_2[med_household_income]>0].copy()\n",
    "df_approval_rate_zcta_analysis_home_2.corr()"
   ]
  },
  {
   "cell_type": "code",
   "execution_count": 82,
   "metadata": {},
   "outputs": [
    {
     "data": {
      "image/png": "[encoded data removed]",
      "text/plain": [
       "<Figure size 432x288 with 1 Axes>"
      ]
     },
     "metadata": {
      "needs_background": "light"
     },
     "output_type": "display_data"
    }
   ],
   "source": [
    "df_approval_rate_zcta_analysis_business_2.plot(x = med_household_income, y = \"2017-18 Approval Rate\", kind = \"scatter\")\n",
    "plt.xlabel(\"Median Household Income 2017\")\n",
    "plt.show()"
   ]
  },
  {
   "cell_type": "code",
   "execution_count": 83,
   "metadata": {},
   "outputs": [
    {
     "data": {
      "image/png": "[encoded data removed]",
      "text/plain": [
       "<Figure size 432x288 with 1 Axes>"
      ]
     },
     "metadata": {
      "needs_background": "light"
     },
     "output_type": "display_data"
    }
   ],
   "source": [
    "df_approval_rate_zcta_analysis_home_2.plot(x = med_household_income, y = \"2017-18 Approval Rate\", kind = \"scatter\")\n",
    "plt.xlabel(\"Median Household Income 2017\")\n",
    "plt.show()"
   ]
  },
  {
   "cell_type": "markdown",
   "metadata": {},
   "source": [
    "By reason for rejection"
   ]
  },
  {
   "cell_type": "markdown",
   "metadata": {},
   "source": [
    "By disaster declaration"
   ]
  },
  {
   "cell_type": "markdown",
   "metadata": {},
   "source": [
    "By other census / ACS data"
   ]
  },
  {
   "cell_type": "markdown",
   "metadata": {},
   "source": [
    "By other columns in the SBA dataset"
   ]
  },
  {
   "cell_type": "markdown",
   "metadata": {},
   "source": [
    "## Approval amount analysis"
   ]
  },
  {
   "cell_type": "code",
   "execution_count": 84,
   "metadata": {},
   "outputs": [],
   "source": [
    "# can the amount be $0? what's going on with those cases?\n",
    "# learn about how amount is supposed to be determined.\n",
    "#  Look at amount of loan instead of just binary approved/rejected."
   ]
  },
  {
   "cell_type": "code",
   "execution_count": 85,
   "metadata": {},
   "outputs": [
    {
     "data": {
      "text/plain": [
       "52        57687\n",
       "59        53571\n",
       "51        34591\n",
       "56        27301\n",
       "53        26696\n",
       "54        23745\n",
       "56A       19497\n",
       "55        14665\n",
       "56B       12013\n",
       "57         4760\n",
       "60W        2688\n",
       "58         2291\n",
       "60A        1463\n",
       "61          886\n",
       "60          449\n",
       "21          364\n",
       "28          260\n",
       "27          180\n",
       "36           68\n",
       "42C          34\n",
       "60D          31\n",
       "31A          25\n",
       "37           21\n",
       "44R          20\n",
       "30           17\n",
       "43           15\n",
       "nan          14\n",
       "34           13\n",
       "45           12\n",
       "38           10\n",
       "26           10\n",
       "46D           8\n",
       "39B           8\n",
       "41            7\n",
       "40A           4\n",
       "20            3\n",
       "39A           3\n",
       "42E           3\n",
       "42            3\n",
       "33            2\n",
       "39C           2\n",
       "40B           2\n",
       "31C           2\n",
       "28350         1\n",
       "`51           1\n",
       "`54           1\n",
       "EXP-05        1\n",
       "46A           1\n",
       "-59           1\n",
       "42A           1\n",
       "EXP-02        1\n",
       "0             1\n",
       "3125          1\n",
       "W-51          1\n",
       "32            1\n",
       "35250         1\n",
       "Name: WD_CODES, dtype: int64"
      ]
     },
     "execution_count": 85,
     "metadata": {},
     "output_type": "execute_result"
    }
   ],
   "source": [
    "df_withdrawals['WD_CODES'].value_counts()"
   ]
  },
  {
   "cell_type": "markdown",
   "metadata": {},
   "source": [
    "## Withdrawals analysis"
   ]
  },
  {
   "cell_type": "code",
   "execution_count": 86,
   "metadata": {},
   "outputs": [
    {
     "data": {
      "text/html": [
       "<div>\n",
       "<style scoped>\n",
       "    .dataframe tbody tr th:only-of-type {\n",
       "        vertical-align: middle;\n",
       "    }\n",
       "\n",
       "    .dataframe tbody tr th {\n",
       "        vertical-align: top;\n",
       "    }\n",
       "\n",
       "    .dataframe thead th {\n",
       "        text-align: right;\n",
       "    }\n",
       "</style>\n",
       "<table border=\"1\" class=\"dataframe\">\n",
       "  <thead>\n",
       "    <tr style=\"text-align: right;\">\n",
       "      <th></th>\n",
       "      <th>FY</th>\n",
       "      <th>SBA_PHYS_NBR</th>\n",
       "      <th>SBA_EIDL_NBR</th>\n",
       "      <th>FEMA_DECL</th>\n",
       "      <th>SBA_DECL</th>\n",
       "      <th>CITY</th>\n",
       "      <th>STATE</th>\n",
       "      <th>ZIP</th>\n",
       "      <th>COUNTY</th>\n",
       "      <th>LOAN_TYPE</th>\n",
       "      <th>TOT_ORIG_VER_LOSS</th>\n",
       "      <th>TOT_ORIG_VER_LOSS_RE</th>\n",
       "      <th>TOT_ORIG_VER_LOSS_CONTENT</th>\n",
       "      <th>WD_CODES</th>\n",
       "      <th>WD_CODES2</th>\n",
       "      <th>Unnamed: 15</th>\n",
       "      <th>ZCTA</th>\n",
       "    </tr>\n",
       "  </thead>\n",
       "  <tbody>\n",
       "    <tr>\n",
       "      <th>0</th>\n",
       "      <td>2001</td>\n",
       "      <td></td>\n",
       "      <td>9K98</td>\n",
       "      <td></td>\n",
       "      <td>9K98</td>\n",
       "      <td>CHARLESTON</td>\n",
       "      <td>SC</td>\n",
       "      <td>29412</td>\n",
       "      <td>CHARLESTON</td>\n",
       "      <td>EIDL</td>\n",
       "      <td>0</td>\n",
       "      <td>0.0</td>\n",
       "      <td>0.0</td>\n",
       "      <td>51</td>\n",
       "      <td>nan</td>\n",
       "      <td>NaN</td>\n",
       "      <td>NaN</td>\n",
       "    </tr>\n",
       "    <tr>\n",
       "      <th>1</th>\n",
       "      <td>2001</td>\n",
       "      <td></td>\n",
       "      <td>9K98</td>\n",
       "      <td></td>\n",
       "      <td>9K98</td>\n",
       "      <td>EDISTO BEACH</td>\n",
       "      <td>SC</td>\n",
       "      <td>29438</td>\n",
       "      <td>COLLETON</td>\n",
       "      <td>EIDL</td>\n",
       "      <td>0</td>\n",
       "      <td>0.0</td>\n",
       "      <td>0.0</td>\n",
       "      <td>56</td>\n",
       "      <td>nan</td>\n",
       "      <td>NaN</td>\n",
       "      <td>NaN</td>\n",
       "    </tr>\n",
       "    <tr>\n",
       "      <th>2</th>\n",
       "      <td>2003</td>\n",
       "      <td></td>\n",
       "      <td>9R32</td>\n",
       "      <td></td>\n",
       "      <td>9R32</td>\n",
       "      <td>KERNVILLE</td>\n",
       "      <td>CA</td>\n",
       "      <td>93238</td>\n",
       "      <td>TULARE</td>\n",
       "      <td>EIDL</td>\n",
       "      <td>0</td>\n",
       "      <td>0.0</td>\n",
       "      <td>0.0</td>\n",
       "      <td>59</td>\n",
       "      <td>nan</td>\n",
       "      <td>NaN</td>\n",
       "      <td>NaN</td>\n",
       "    </tr>\n",
       "    <tr>\n",
       "      <th>3</th>\n",
       "      <td>2003</td>\n",
       "      <td></td>\n",
       "      <td>9R57</td>\n",
       "      <td></td>\n",
       "      <td>9R57</td>\n",
       "      <td>JEAN LA FITTE</td>\n",
       "      <td>LA</td>\n",
       "      <td>70067</td>\n",
       "      <td>JEFFERSON</td>\n",
       "      <td>EIDL</td>\n",
       "      <td>0</td>\n",
       "      <td>0.0</td>\n",
       "      <td>0.0</td>\n",
       "      <td>60</td>\n",
       "      <td>nan</td>\n",
       "      <td>NaN</td>\n",
       "      <td>NaN</td>\n",
       "    </tr>\n",
       "    <tr>\n",
       "      <th>4</th>\n",
       "      <td>2003</td>\n",
       "      <td></td>\n",
       "      <td>9R57</td>\n",
       "      <td></td>\n",
       "      <td>9R57</td>\n",
       "      <td>THERIOT</td>\n",
       "      <td>LA</td>\n",
       "      <td>70397</td>\n",
       "      <td>TERREBONNE</td>\n",
       "      <td>EIDL</td>\n",
       "      <td>0</td>\n",
       "      <td>0.0</td>\n",
       "      <td>0.0</td>\n",
       "      <td>59</td>\n",
       "      <td>nan</td>\n",
       "      <td>NaN</td>\n",
       "      <td>NaN</td>\n",
       "    </tr>\n",
       "  </tbody>\n",
       "</table>\n",
       "</div>"
      ],
      "text/plain": [
       "     FY SBA_PHYS_NBR SBA_EIDL_NBR FEMA_DECL SBA_DECL             CITY STATE  \\\n",
       "0  2001                      9K98               9K98  CHARLESTON         SC   \n",
       "1  2001                      9K98               9K98  EDISTO BEACH       SC   \n",
       "2  2003                      9R32               9R32  KERNVILLE          CA   \n",
       "3  2003                      9R57               9R57  JEAN LA FITTE      LA   \n",
       "4  2003                      9R57               9R57  THERIOT            LA   \n",
       "\n",
       "     ZIP                COUNTY LOAN_TYPE TOT_ORIG_VER_LOSS  \\\n",
       "0  29412  CHARLESTON                EIDL                 0   \n",
       "1  29438  COLLETON                  EIDL                 0   \n",
       "2  93238  TULARE                    EIDL                 0   \n",
       "3  70067  JEFFERSON                 EIDL                 0   \n",
       "4  70397  TERREBONNE                EIDL                 0   \n",
       "\n",
       "   TOT_ORIG_VER_LOSS_RE  TOT_ORIG_VER_LOSS_CONTENT WD_CODES WD_CODES2  \\\n",
       "0                   0.0                        0.0       51       nan   \n",
       "1                   0.0                        0.0       56       nan   \n",
       "2                   0.0                        0.0       59       nan   \n",
       "3                   0.0                        0.0       60       nan   \n",
       "4                   0.0                        0.0       59       nan   \n",
       "\n",
       "  Unnamed: 15 ZCTA  \n",
       "0         NaN  NaN  \n",
       "1         NaN  NaN  \n",
       "2         NaN  NaN  \n",
       "3         NaN  NaN  \n",
       "4         NaN  NaN  "
      ]
     },
     "execution_count": 86,
     "metadata": {},
     "output_type": "execute_result"
    }
   ],
   "source": [
    "df_withdrawals.head()"
   ]
  },
  {
   "cell_type": "code",
   "execution_count": 87,
   "metadata": {},
   "outputs": [
    {
     "data": {
      "text/plain": [
       "52    57687\n",
       "59    53571\n",
       "51    34591\n",
       "56    27301\n",
       "53    26696\n",
       "Name: WD_CODES, dtype: int64"
      ]
     },
     "execution_count": 87,
     "metadata": {},
     "output_type": "execute_result"
    }
   ],
   "source": [
    "df_withdrawals['WD_CODES'].value_counts().head()"
   ]
  },
  {
   "cell_type": "code",
   "execution_count": 88,
   "metadata": {},
   "outputs": [
    {
     "data": {
      "text/plain": [
       "nan     246962\n",
       "         32897\n",
       " 60W      1216\n",
       " 59        725\n",
       " 60A       231\n",
       "Name: WD_CODES2, dtype: int64"
      ]
     },
     "execution_count": 88,
     "metadata": {},
     "output_type": "execute_result"
    }
   ],
   "source": [
    "df_withdrawals['WD_CODES2'].value_counts().head()"
   ]
  },
  {
   "cell_type": "code",
   "execution_count": 89,
   "metadata": {},
   "outputs": [
    {
     "name": "stdout",
     "output_type": "stream",
     "text": [
      "(34750, 17)\n"
     ]
    },
    {
     "data": {
      "text/html": [
       "<div>\n",
       "<style scoped>\n",
       "    .dataframe tbody tr th:only-of-type {\n",
       "        vertical-align: middle;\n",
       "    }\n",
       "\n",
       "    .dataframe tbody tr th {\n",
       "        vertical-align: top;\n",
       "    }\n",
       "\n",
       "    .dataframe thead th {\n",
       "        text-align: right;\n",
       "    }\n",
       "</style>\n",
       "<table border=\"1\" class=\"dataframe\">\n",
       "  <thead>\n",
       "    <tr style=\"text-align: right;\">\n",
       "      <th></th>\n",
       "      <th>FY</th>\n",
       "      <th>SBA_PHYS_NBR</th>\n",
       "      <th>SBA_EIDL_NBR</th>\n",
       "      <th>FEMA_DECL</th>\n",
       "      <th>SBA_DECL</th>\n",
       "      <th>CITY</th>\n",
       "      <th>STATE</th>\n",
       "      <th>ZIP</th>\n",
       "      <th>COUNTY</th>\n",
       "      <th>LOAN_TYPE</th>\n",
       "      <th>TOT_ORIG_VER_LOSS</th>\n",
       "      <th>TOT_ORIG_VER_LOSS_RE</th>\n",
       "      <th>TOT_ORIG_VER_LOSS_CONTENT</th>\n",
       "      <th>WD_CODES</th>\n",
       "      <th>WD_CODES2</th>\n",
       "      <th>Unnamed: 15</th>\n",
       "      <th>ZCTA</th>\n",
       "    </tr>\n",
       "  </thead>\n",
       "  <tbody>\n",
       "    <tr>\n",
       "      <th>0</th>\n",
       "      <td>2001</td>\n",
       "      <td></td>\n",
       "      <td>9K98</td>\n",
       "      <td></td>\n",
       "      <td>9K98</td>\n",
       "      <td>CHARLESTON</td>\n",
       "      <td>SC</td>\n",
       "      <td>29412</td>\n",
       "      <td>CHARLESTON</td>\n",
       "      <td>EIDL</td>\n",
       "      <td>0</td>\n",
       "      <td>0.0</td>\n",
       "      <td>0.0</td>\n",
       "      <td>51</td>\n",
       "      <td>nan</td>\n",
       "      <td>NaN</td>\n",
       "      <td>NaN</td>\n",
       "    </tr>\n",
       "    <tr>\n",
       "      <th>12</th>\n",
       "      <td>2003</td>\n",
       "      <td></td>\n",
       "      <td>9R57</td>\n",
       "      <td></td>\n",
       "      <td>9R57</td>\n",
       "      <td>DES ALLEMANDS</td>\n",
       "      <td>LA</td>\n",
       "      <td>70030</td>\n",
       "      <td>ST. CHARLES</td>\n",
       "      <td>EIDL</td>\n",
       "      <td>0</td>\n",
       "      <td>0.0</td>\n",
       "      <td>0.0</td>\n",
       "      <td>51</td>\n",
       "      <td>nan</td>\n",
       "      <td>NaN</td>\n",
       "      <td>NaN</td>\n",
       "    </tr>\n",
       "    <tr>\n",
       "      <th>21</th>\n",
       "      <td>2003</td>\n",
       "      <td></td>\n",
       "      <td>9R57</td>\n",
       "      <td></td>\n",
       "      <td>9R57</td>\n",
       "      <td>MONTEGUT</td>\n",
       "      <td>LA</td>\n",
       "      <td>70377</td>\n",
       "      <td>LAFOURCHE</td>\n",
       "      <td>EIDL</td>\n",
       "      <td>0</td>\n",
       "      <td>0.0</td>\n",
       "      <td>0.0</td>\n",
       "      <td>51</td>\n",
       "      <td>nan</td>\n",
       "      <td>NaN</td>\n",
       "      <td>NaN</td>\n",
       "    </tr>\n",
       "    <tr>\n",
       "      <th>25</th>\n",
       "      <td>2003</td>\n",
       "      <td></td>\n",
       "      <td>9R57</td>\n",
       "      <td></td>\n",
       "      <td>9R57</td>\n",
       "      <td>RACELAND</td>\n",
       "      <td>LA</td>\n",
       "      <td>70394</td>\n",
       "      <td>LAFOURCHE</td>\n",
       "      <td>EIDL</td>\n",
       "      <td>0</td>\n",
       "      <td>0.0</td>\n",
       "      <td>0.0</td>\n",
       "      <td>51</td>\n",
       "      <td>nan</td>\n",
       "      <td>NaN</td>\n",
       "      <td>NaN</td>\n",
       "    </tr>\n",
       "    <tr>\n",
       "      <th>33</th>\n",
       "      <td>2003</td>\n",
       "      <td></td>\n",
       "      <td>9R57</td>\n",
       "      <td></td>\n",
       "      <td>9R57</td>\n",
       "      <td>DULAC</td>\n",
       "      <td>LA</td>\n",
       "      <td>70353</td>\n",
       "      <td>TERREBONNE</td>\n",
       "      <td>EIDL</td>\n",
       "      <td>0</td>\n",
       "      <td>0.0</td>\n",
       "      <td>0.0</td>\n",
       "      <td>51</td>\n",
       "      <td>nan</td>\n",
       "      <td>NaN</td>\n",
       "      <td>NaN</td>\n",
       "    </tr>\n",
       "  </tbody>\n",
       "</table>\n",
       "</div>"
      ],
      "text/plain": [
       "      FY SBA_PHYS_NBR SBA_EIDL_NBR FEMA_DECL SBA_DECL             CITY STATE  \\\n",
       "0   2001                      9K98               9K98  CHARLESTON         SC   \n",
       "12  2003                      9R57               9R57  DES ALLEMANDS      LA   \n",
       "21  2003                      9R57               9R57  MONTEGUT           LA   \n",
       "25  2003                      9R57               9R57  RACELAND           LA   \n",
       "33  2003                      9R57               9R57  DULAC              LA   \n",
       "\n",
       "      ZIP                COUNTY LOAN_TYPE TOT_ORIG_VER_LOSS  \\\n",
       "0   29412  CHARLESTON                EIDL                 0   \n",
       "12  70030  ST. CHARLES               EIDL                 0   \n",
       "21  70377  LAFOURCHE                 EIDL                 0   \n",
       "25  70394  LAFOURCHE                 EIDL                 0   \n",
       "33  70353  TERREBONNE                EIDL                 0   \n",
       "\n",
       "    TOT_ORIG_VER_LOSS_RE  TOT_ORIG_VER_LOSS_CONTENT WD_CODES WD_CODES2  \\\n",
       "0                    0.0                        0.0       51       nan   \n",
       "12                   0.0                        0.0       51       nan   \n",
       "21                   0.0                        0.0       51       nan   \n",
       "25                   0.0                        0.0       51       nan   \n",
       "33                   0.0                        0.0       51       nan   \n",
       "\n",
       "   Unnamed: 15 ZCTA  \n",
       "0          NaN  NaN  \n",
       "12         NaN  NaN  \n",
       "21         NaN  NaN  \n",
       "25         NaN  NaN  \n",
       "33         NaN  NaN  "
      ]
     },
     "execution_count": 89,
     "metadata": {},
     "output_type": "execute_result"
    }
   ],
   "source": [
    "df_withdrawals_51 = df_withdrawals[(df_withdrawals['WD_CODES']==\"51\")|(df_withdrawals['WD_CODES2']==\"51\")].copy()\n",
    "print(df_withdrawals_51.shape)\n",
    "df_withdrawals_51.head()"
   ]
  },
  {
   "cell_type": "code",
   "execution_count": 90,
   "metadata": {},
   "outputs": [
    {
     "data": {
      "text/plain": [
       "<matplotlib.axes._subplots.AxesSubplot at 0x2a5814f00f0>"
      ]
     },
     "execution_count": 90,
     "metadata": {},
     "output_type": "execute_result"
    },
    {
     "data": {
      "image/png": "[encoded data removed]",
      "text/plain": [
       "<Figure size 432x288 with 1 Axes>"
      ]
     },
     "metadata": {
      "needs_background": "light"
     },
     "output_type": "display_data"
    }
   ],
   "source": [
    "df_withdrawals_51['FY'].value_counts().sort_index().plot()"
   ]
  },
  {
   "cell_type": "code",
   "execution_count": 91,
   "metadata": {},
   "outputs": [
    {
     "data": {
      "text/plain": [
       "<matplotlib.axes._subplots.AxesSubplot at 0x2a598a204e0>"
      ]
     },
     "execution_count": 91,
     "metadata": {},
     "output_type": "execute_result"
    },
    {
     "data": {
      "image/png": "[encoded data removed]",
      "text/plain": [
       "<Figure size 432x288 with 1 Axes>"
      ]
     },
     "metadata": {
      "needs_background": "light"
     },
     "output_type": "display_data"
    }
   ],
   "source": [
    "df_withdrawals['FY'].value_counts().sort_index().plot()"
   ]
  },
  {
   "cell_type": "code",
   "execution_count": 92,
   "metadata": {},
   "outputs": [
    {
     "data": {
      "text/plain": [
       "2001    1786\n",
       "2002    1105\n",
       "2003    1159\n",
       "2004    1096\n",
       "2005    3961\n",
       "2006    6379\n",
       "2007     543\n",
       "2008     585\n",
       "2009    1462\n",
       "2010     606\n",
       "2011     722\n",
       "2012     673\n",
       "2013    3401\n",
       "2014     396\n",
       "2015     572\n",
       "2016    1346\n",
       "2017    1119\n",
       "2018    7839\n",
       "Name: FY, dtype: int64"
      ]
     },
     "execution_count": 92,
     "metadata": {},
     "output_type": "execute_result"
    }
   ],
   "source": [
    "df_withdrawals_51['FY'].value_counts().sort_index()"
   ]
  },
  {
   "cell_type": "code",
   "execution_count": 93,
   "metadata": {},
   "outputs": [],
   "source": [
    "apps_by_year = df_withdrawals['FY'].value_counts().sort_index() + df_approvals['FY'].value_counts().sort_index() + df_declines['FY'].value_counts().sort_index()"
   ]
  },
  {
   "cell_type": "code",
   "execution_count": 94,
   "metadata": {},
   "outputs": [
    {
     "data": {
      "text/plain": [
       "<matplotlib.axes._subplots.AxesSubplot at 0x2a5817836a0>"
      ]
     },
     "execution_count": 94,
     "metadata": {},
     "output_type": "execute_result"
    },
    {
     "data": {
      "image/png": "[encoded data removed]",
      "text/plain": [
       "<Figure size 432x288 with 1 Axes>"
      ]
     },
     "metadata": {
      "needs_background": "light"
     },
     "output_type": "display_data"
    }
   ],
   "source": [
    "withdraw_51_rates_by_year = df_withdrawals_51['FY'].value_counts().sort_index() / apps_by_year\n",
    "withdraw_51_rates_by_year.plot(kind = \"line\")"
   ]
  },
  {
   "cell_type": "code",
   "execution_count": 95,
   "metadata": {},
   "outputs": [
    {
     "data": {
      "text/plain": [
       "1603.0    3354\n",
       "4339.0    2748\n",
       "4337.0    2288\n",
       "4332.0    1868\n",
       "4085.0    1816\n",
       "Name: FEMA_DECL, dtype: int64"
      ]
     },
     "execution_count": 95,
     "metadata": {},
     "output_type": "execute_result"
    }
   ],
   "source": [
    "df_withdrawals_51['FEMA_DECL'].value_counts().head()"
   ]
  },
  {
   "cell_type": "code",
   "execution_count": 96,
   "metadata": {},
   "outputs": [
    {
     "data": {
      "text/plain": [
       "1603    51252\n",
       "4332    38657\n",
       "4339    34566\n",
       "4337    33660\n",
       "1604    24695\n",
       "Name: FEMA_DECL, dtype: int64"
      ]
     },
     "execution_count": 96,
     "metadata": {},
     "output_type": "execute_result"
    }
   ],
   "source": [
    "df_approvals['FEMA_DECL'].value_counts().head()"
   ]
  },
  {
   "cell_type": "code",
   "execution_count": 97,
   "metadata": {},
   "outputs": [
    {
     "data": {
      "text/plain": [
       "Index(['FY', 'SBA_PHYS_NBR', 'SBA_EIDL_NBR', 'FEMA_DECL', 'SBA_DECL', 'CITY',\n",
       "       'STATE', 'ZIP', 'COUNTY', 'LOAN_TYPE', 'TOT_ORIG_VER_LOSS',\n",
       "       'TOT_ORIG_VER_LOSS_RE', 'TOT_ORIG_VER_LOSS_CONTENT', 'DECL_CODES',\n",
       "       'DECL_CODES2', 'DECL_CODES3', 'DECL_CODES4', 'ZCTA'],\n",
       "      dtype='object')"
      ]
     },
     "execution_count": 97,
     "metadata": {},
     "output_type": "execute_result"
    }
   ],
   "source": [
    "df_declines.columns"
   ]
  },
  {
   "cell_type": "code",
   "execution_count": 98,
   "metadata": {},
   "outputs": [
    {
     "data": {
      "text/html": [
       "<div>\n",
       "<style scoped>\n",
       "    .dataframe tbody tr th:only-of-type {\n",
       "        vertical-align: middle;\n",
       "    }\n",
       "\n",
       "    .dataframe tbody tr th {\n",
       "        vertical-align: top;\n",
       "    }\n",
       "\n",
       "    .dataframe thead th {\n",
       "        text-align: right;\n",
       "    }\n",
       "</style>\n",
       "<table border=\"1\" class=\"dataframe\">\n",
       "  <thead>\n",
       "    <tr style=\"text-align: right;\">\n",
       "      <th></th>\n",
       "      <th>FY</th>\n",
       "      <th>SBA_PHYS_NBR</th>\n",
       "      <th>SBA_EIDL_NBR</th>\n",
       "      <th>FEMA_DECL</th>\n",
       "      <th>SBA_DECL</th>\n",
       "      <th>CITY</th>\n",
       "      <th>STATE</th>\n",
       "      <th>ZIP</th>\n",
       "      <th>COUNTY</th>\n",
       "      <th>LOAN_TYPE</th>\n",
       "      <th>TOT_ORIG_VER_LOSS</th>\n",
       "      <th>TOT_ORIG_VER_LOSS_RE</th>\n",
       "      <th>TOT_ORIG_VER_LOSS_CONTENT</th>\n",
       "      <th>WD_CODES</th>\n",
       "      <th>WD_CODES2</th>\n",
       "      <th>Unnamed: 15</th>\n",
       "      <th>ZCTA</th>\n",
       "    </tr>\n",
       "  </thead>\n",
       "  <tbody>\n",
       "    <tr>\n",
       "      <th>0</th>\n",
       "      <td>2001</td>\n",
       "      <td></td>\n",
       "      <td>9K98</td>\n",
       "      <td></td>\n",
       "      <td>9K98</td>\n",
       "      <td>CHARLESTON</td>\n",
       "      <td>SC</td>\n",
       "      <td>29412</td>\n",
       "      <td>CHARLESTON</td>\n",
       "      <td>EIDL</td>\n",
       "      <td>0</td>\n",
       "      <td>0.0</td>\n",
       "      <td>0.0</td>\n",
       "      <td>51</td>\n",
       "      <td>nan</td>\n",
       "      <td>NaN</td>\n",
       "      <td>NaN</td>\n",
       "    </tr>\n",
       "    <tr>\n",
       "      <th>1</th>\n",
       "      <td>2001</td>\n",
       "      <td></td>\n",
       "      <td>9K98</td>\n",
       "      <td></td>\n",
       "      <td>9K98</td>\n",
       "      <td>EDISTO BEACH</td>\n",
       "      <td>SC</td>\n",
       "      <td>29438</td>\n",
       "      <td>COLLETON</td>\n",
       "      <td>EIDL</td>\n",
       "      <td>0</td>\n",
       "      <td>0.0</td>\n",
       "      <td>0.0</td>\n",
       "      <td>56</td>\n",
       "      <td>nan</td>\n",
       "      <td>NaN</td>\n",
       "      <td>NaN</td>\n",
       "    </tr>\n",
       "    <tr>\n",
       "      <th>2</th>\n",
       "      <td>2003</td>\n",
       "      <td></td>\n",
       "      <td>9R32</td>\n",
       "      <td></td>\n",
       "      <td>9R32</td>\n",
       "      <td>KERNVILLE</td>\n",
       "      <td>CA</td>\n",
       "      <td>93238</td>\n",
       "      <td>TULARE</td>\n",
       "      <td>EIDL</td>\n",
       "      <td>0</td>\n",
       "      <td>0.0</td>\n",
       "      <td>0.0</td>\n",
       "      <td>59</td>\n",
       "      <td>nan</td>\n",
       "      <td>NaN</td>\n",
       "      <td>NaN</td>\n",
       "    </tr>\n",
       "    <tr>\n",
       "      <th>3</th>\n",
       "      <td>2003</td>\n",
       "      <td></td>\n",
       "      <td>9R57</td>\n",
       "      <td></td>\n",
       "      <td>9R57</td>\n",
       "      <td>JEAN LA FITTE</td>\n",
       "      <td>LA</td>\n",
       "      <td>70067</td>\n",
       "      <td>JEFFERSON</td>\n",
       "      <td>EIDL</td>\n",
       "      <td>0</td>\n",
       "      <td>0.0</td>\n",
       "      <td>0.0</td>\n",
       "      <td>60</td>\n",
       "      <td>nan</td>\n",
       "      <td>NaN</td>\n",
       "      <td>NaN</td>\n",
       "    </tr>\n",
       "    <tr>\n",
       "      <th>4</th>\n",
       "      <td>2003</td>\n",
       "      <td></td>\n",
       "      <td>9R57</td>\n",
       "      <td></td>\n",
       "      <td>9R57</td>\n",
       "      <td>THERIOT</td>\n",
       "      <td>LA</td>\n",
       "      <td>70397</td>\n",
       "      <td>TERREBONNE</td>\n",
       "      <td>EIDL</td>\n",
       "      <td>0</td>\n",
       "      <td>0.0</td>\n",
       "      <td>0.0</td>\n",
       "      <td>59</td>\n",
       "      <td>nan</td>\n",
       "      <td>NaN</td>\n",
       "      <td>NaN</td>\n",
       "    </tr>\n",
       "  </tbody>\n",
       "</table>\n",
       "</div>"
      ],
      "text/plain": [
       "     FY SBA_PHYS_NBR SBA_EIDL_NBR FEMA_DECL SBA_DECL             CITY STATE  \\\n",
       "0  2001                      9K98               9K98  CHARLESTON         SC   \n",
       "1  2001                      9K98               9K98  EDISTO BEACH       SC   \n",
       "2  2003                      9R32               9R32  KERNVILLE          CA   \n",
       "3  2003                      9R57               9R57  JEAN LA FITTE      LA   \n",
       "4  2003                      9R57               9R57  THERIOT            LA   \n",
       "\n",
       "     ZIP                COUNTY LOAN_TYPE TOT_ORIG_VER_LOSS  \\\n",
       "0  29412  CHARLESTON                EIDL                 0   \n",
       "1  29438  COLLETON                  EIDL                 0   \n",
       "2  93238  TULARE                    EIDL                 0   \n",
       "3  70067  JEFFERSON                 EIDL                 0   \n",
       "4  70397  TERREBONNE                EIDL                 0   \n",
       "\n",
       "   TOT_ORIG_VER_LOSS_RE  TOT_ORIG_VER_LOSS_CONTENT WD_CODES WD_CODES2  \\\n",
       "0                   0.0                        0.0       51       nan   \n",
       "1                   0.0                        0.0       56       nan   \n",
       "2                   0.0                        0.0       59       nan   \n",
       "3                   0.0                        0.0       60       nan   \n",
       "4                   0.0                        0.0       59       nan   \n",
       "\n",
       "  Unnamed: 15 ZCTA  \n",
       "0         NaN  NaN  \n",
       "1         NaN  NaN  \n",
       "2         NaN  NaN  \n",
       "3         NaN  NaN  \n",
       "4         NaN  NaN  "
      ]
     },
     "execution_count": 98,
     "metadata": {},
     "output_type": "execute_result"
    }
   ],
   "source": [
    "df_withdrawals.head()"
   ]
  },
  {
   "cell_type": "code",
   "execution_count": 99,
   "metadata": {},
   "outputs": [
    {
     "data": {
      "text/plain": [
       "H                       151978\n",
       "B                        42770\n",
       "Home                     41842\n",
       "EIDL                     33542\n",
       "Business                  9032\n",
       "Rental                    3177\n",
       "Non-Profit                1115\n",
       "DUVAL                        1\n",
       "Name: LOAN_TYPE, dtype: int64"
      ]
     },
     "execution_count": 99,
     "metadata": {},
     "output_type": "execute_result"
    }
   ],
   "source": [
    "df_withdrawals['LOAN_TYPE'].value_counts()"
   ]
  },
  {
   "cell_type": "markdown",
   "metadata": {},
   "source": [
    "## Most common decline / withdrawal reasons"
   ]
  },
  {
   "cell_type": "code",
   "execution_count": 100,
   "metadata": {},
   "outputs": [
    {
     "data": {
      "text/html": [
       "<div>\n",
       "<style scoped>\n",
       "    .dataframe tbody tr th:only-of-type {\n",
       "        vertical-align: middle;\n",
       "    }\n",
       "\n",
       "    .dataframe tbody tr th {\n",
       "        vertical-align: top;\n",
       "    }\n",
       "\n",
       "    .dataframe thead th {\n",
       "        text-align: right;\n",
       "    }\n",
       "</style>\n",
       "<table border=\"1\" class=\"dataframe\">\n",
       "  <thead>\n",
       "    <tr style=\"text-align: right;\">\n",
       "      <th></th>\n",
       "      <th>DECL_CODES</th>\n",
       "      <th>DECL_CODES2</th>\n",
       "      <th>DECL_CODES3</th>\n",
       "      <th>DECL_CODES4</th>\n",
       "      <th>Total</th>\n",
       "    </tr>\n",
       "  </thead>\n",
       "  <tbody>\n",
       "    <tr>\n",
       "      <th>28</th>\n",
       "      <td>428320.0</td>\n",
       "      <td>138893.0</td>\n",
       "      <td>5854.0</td>\n",
       "      <td>95.0</td>\n",
       "      <td>573162.0</td>\n",
       "    </tr>\n",
       "    <tr>\n",
       "      <th>21</th>\n",
       "      <td>294858.0</td>\n",
       "      <td>33637.0</td>\n",
       "      <td>4976.0</td>\n",
       "      <td>0.0</td>\n",
       "      <td>333471.0</td>\n",
       "    </tr>\n",
       "    <tr>\n",
       "      <th>27</th>\n",
       "      <td>30064.0</td>\n",
       "      <td>16375.0</td>\n",
       "      <td>1039.0</td>\n",
       "      <td>1.0</td>\n",
       "      <td>47479.0</td>\n",
       "    </tr>\n",
       "    <tr>\n",
       "      <th>20</th>\n",
       "      <td>28764.0</td>\n",
       "      <td>1.0</td>\n",
       "      <td>0.0</td>\n",
       "      <td>0.0</td>\n",
       "      <td>28765.0</td>\n",
       "    </tr>\n",
       "    <tr>\n",
       "      <th>36</th>\n",
       "      <td>15909.0</td>\n",
       "      <td>2939.0</td>\n",
       "      <td>581.0</td>\n",
       "      <td>66.0</td>\n",
       "      <td>19495.0</td>\n",
       "    </tr>\n",
       "    <tr>\n",
       "      <th>42</th>\n",
       "      <td>9893.0</td>\n",
       "      <td>2445.0</td>\n",
       "      <td>642.0</td>\n",
       "      <td>58.0</td>\n",
       "      <td>13038.0</td>\n",
       "    </tr>\n",
       "    <tr>\n",
       "      <th>26</th>\n",
       "      <td>6328.0</td>\n",
       "      <td>3416.0</td>\n",
       "      <td>243.0</td>\n",
       "      <td>0.0</td>\n",
       "      <td>9987.0</td>\n",
       "    </tr>\n",
       "    <tr>\n",
       "      <th>38</th>\n",
       "      <td>6705.0</td>\n",
       "      <td>409.0</td>\n",
       "      <td>81.0</td>\n",
       "      <td>4.0</td>\n",
       "      <td>7199.0</td>\n",
       "    </tr>\n",
       "    <tr>\n",
       "      <th>44R</th>\n",
       "      <td>5234.0</td>\n",
       "      <td>1360.0</td>\n",
       "      <td>163.0</td>\n",
       "      <td>16.0</td>\n",
       "      <td>6773.0</td>\n",
       "    </tr>\n",
       "    <tr>\n",
       "      <th>30</th>\n",
       "      <td>6020.0</td>\n",
       "      <td>498.0</td>\n",
       "      <td>139.0</td>\n",
       "      <td>14.0</td>\n",
       "      <td>6671.0</td>\n",
       "    </tr>\n",
       "  </tbody>\n",
       "</table>\n",
       "</div>"
      ],
      "text/plain": [
       "     DECL_CODES  DECL_CODES2  DECL_CODES3  DECL_CODES4     Total\n",
       "28     428320.0     138893.0       5854.0         95.0  573162.0\n",
       "21     294858.0      33637.0       4976.0          0.0  333471.0\n",
       "27      30064.0      16375.0       1039.0          1.0   47479.0\n",
       "20      28764.0          1.0          0.0          0.0   28765.0\n",
       "36      15909.0       2939.0        581.0         66.0   19495.0\n",
       "42       9893.0       2445.0        642.0         58.0   13038.0\n",
       "26       6328.0       3416.0        243.0          0.0    9987.0\n",
       "38       6705.0        409.0         81.0          4.0    7199.0\n",
       "44R      5234.0       1360.0        163.0         16.0    6773.0\n",
       "30       6020.0        498.0        139.0         14.0    6671.0"
      ]
     },
     "execution_count": 100,
     "metadata": {},
     "output_type": "execute_result"
    }
   ],
   "source": [
    "df_decline_codes_1_2 = pd.merge(df_declines['DECL_CODES'].value_counts(),df_declines['DECL_CODES2'].value_counts(),\n",
    "                                left_index = True, right_index = True, how = \"outer\")\n",
    "df_decline_codes_1_2_3 = pd.merge(df_decline_codes_1_2, df_declines['DECL_CODES3'].value_counts(),\n",
    "                                  left_index = True, right_index = True, how = \"outer\")\n",
    "df_decline_codes = pd.merge(df_decline_codes_1_2_3, df_declines['DECL_CODES4'].value_counts(), left_index = True,\n",
    "                            right_index = True, how = \"outer\")\n",
    "df_decline_codes.fillna(value = 0, inplace = True)\n",
    "df_decline_codes['Total'] = df_decline_codes.sum(axis = 1)\n",
    "df_decline_codes.sort_values(by = \"Total\", ascending = False, inplace = True)\n",
    "df_decline_codes.drop([\"nan\",\"\"], inplace = True, axis = 0) # remove missing values\n",
    "df_decline_codes.head(10)"
   ]
  },
  {
   "cell_type": "code",
   "execution_count": 101,
   "metadata": {},
   "outputs": [
    {
     "data": {
      "text/html": [
       "<div>\n",
       "<style scoped>\n",
       "    .dataframe tbody tr th:only-of-type {\n",
       "        vertical-align: middle;\n",
       "    }\n",
       "\n",
       "    .dataframe tbody tr th {\n",
       "        vertical-align: top;\n",
       "    }\n",
       "\n",
       "    .dataframe thead th {\n",
       "        text-align: right;\n",
       "    }\n",
       "</style>\n",
       "<table border=\"1\" class=\"dataframe\">\n",
       "  <thead>\n",
       "    <tr style=\"text-align: right;\">\n",
       "      <th></th>\n",
       "      <th>WD_CODES</th>\n",
       "      <th>WD_CODES2</th>\n",
       "      <th>Total</th>\n",
       "    </tr>\n",
       "  </thead>\n",
       "  <tbody>\n",
       "    <tr>\n",
       "      <th>52</th>\n",
       "      <td>57687.0</td>\n",
       "      <td>15.0</td>\n",
       "      <td>57702.0</td>\n",
       "    </tr>\n",
       "    <tr>\n",
       "      <th>59</th>\n",
       "      <td>53571.0</td>\n",
       "      <td>148.0</td>\n",
       "      <td>53719.0</td>\n",
       "    </tr>\n",
       "    <tr>\n",
       "      <th>51</th>\n",
       "      <td>34591.0</td>\n",
       "      <td>159.0</td>\n",
       "      <td>34750.0</td>\n",
       "    </tr>\n",
       "    <tr>\n",
       "      <th>56</th>\n",
       "      <td>27301.0</td>\n",
       "      <td>90.0</td>\n",
       "      <td>27391.0</td>\n",
       "    </tr>\n",
       "    <tr>\n",
       "      <th>53</th>\n",
       "      <td>26696.0</td>\n",
       "      <td>11.0</td>\n",
       "      <td>26707.0</td>\n",
       "    </tr>\n",
       "    <tr>\n",
       "      <th>54</th>\n",
       "      <td>23745.0</td>\n",
       "      <td>6.0</td>\n",
       "      <td>23751.0</td>\n",
       "    </tr>\n",
       "    <tr>\n",
       "      <th>56A</th>\n",
       "      <td>19497.0</td>\n",
       "      <td>2.0</td>\n",
       "      <td>19499.0</td>\n",
       "    </tr>\n",
       "    <tr>\n",
       "      <th>55</th>\n",
       "      <td>14665.0</td>\n",
       "      <td>4.0</td>\n",
       "      <td>14669.0</td>\n",
       "    </tr>\n",
       "    <tr>\n",
       "      <th>56B</th>\n",
       "      <td>12013.0</td>\n",
       "      <td>1.0</td>\n",
       "      <td>12014.0</td>\n",
       "    </tr>\n",
       "    <tr>\n",
       "      <th>57</th>\n",
       "      <td>4760.0</td>\n",
       "      <td>2.0</td>\n",
       "      <td>4762.0</td>\n",
       "    </tr>\n",
       "  </tbody>\n",
       "</table>\n",
       "</div>"
      ],
      "text/plain": [
       "     WD_CODES  WD_CODES2    Total\n",
       "52    57687.0       15.0  57702.0\n",
       "59    53571.0      148.0  53719.0\n",
       "51    34591.0      159.0  34750.0\n",
       "56    27301.0       90.0  27391.0\n",
       "53    26696.0       11.0  26707.0\n",
       "54    23745.0        6.0  23751.0\n",
       "56A   19497.0        2.0  19499.0\n",
       "55    14665.0        4.0  14669.0\n",
       "56B   12013.0        1.0  12014.0\n",
       "57     4760.0        2.0   4762.0"
      ]
     },
     "execution_count": 101,
     "metadata": {},
     "output_type": "execute_result"
    }
   ],
   "source": [
    "df_withdrawal_codes = pd.merge(df_withdrawals['WD_CODES'].value_counts(), df_withdrawals['WD_CODES2'].value_counts(),\n",
    "                                left_index = True, right_index = True, how = \"outer\")\n",
    "df_withdrawal_codes['Total'] = df_withdrawal_codes.sum(axis = 1)\n",
    "df_withdrawal_codes.sort_values(by = \"Total\", ascending = False, inplace = True)\n",
    "df_withdrawal_codes.drop(['nan','  '], inplace = True, axis = 0) # remove missing values\n",
    "df_withdrawal_codes.head(10)"
   ]
  },
  {
   "cell_type": "code",
   "execution_count": 102,
   "metadata": {},
   "outputs": [
    {
     "data": {
      "text/plain": [
       "2001     50636\n",
       "2002     22880\n",
       "2003     27062\n",
       "2004     30067\n",
       "2005     66415\n",
       "2006    116966\n",
       "2007     12442\n",
       "2008     13503\n",
       "2009     19518\n",
       "2010     12896\n",
       "2011     12131\n",
       "2012     14397\n",
       "2013     39452\n",
       "2014      5671\n",
       "2015      9396\n",
       "2016     21646\n",
       "2017     24639\n",
       "2018    109556\n",
       "Name: FY, dtype: int64"
      ]
     },
     "execution_count": 102,
     "metadata": {},
     "output_type": "execute_result"
    }
   ],
   "source": [
    "df_approvals['FY'].value_counts().sort_index()"
   ]
  },
  {
   "cell_type": "code",
   "execution_count": 103,
   "metadata": {},
   "outputs": [
    {
     "data": {
      "text/plain": [
       "2001     50351\n",
       "2002     17756\n",
       "2003     28871\n",
       "2004     38772\n",
       "2005     97975\n",
       "2006    191599\n",
       "2007     14386\n",
       "2008     28683\n",
       "2009     63534\n",
       "2010     19039\n",
       "2011     23490\n",
       "2012     22966\n",
       "2013     47133\n",
       "2014      5241\n",
       "2015     15690\n",
       "2016     26557\n",
       "2017     50978\n",
       "2018    116739\n",
       "Name: FY, dtype: int64"
      ]
     },
     "execution_count": 103,
     "metadata": {},
     "output_type": "execute_result"
    }
   ],
   "source": [
    "df_declines['FY'].value_counts().sort_index()"
   ]
  },
  {
   "cell_type": "markdown",
   "metadata": {},
   "source": [
    "### Total approved amount"
   ]
  },
  {
   "cell_type": "code",
   "execution_count": 105,
   "metadata": {},
   "outputs": [
    {
     "data": {
      "text/plain": [
       "30483525880"
      ]
     },
     "execution_count": 105,
     "metadata": {},
     "output_type": "execute_result"
    }
   ],
   "source": [
    "df_approvals_amounts = df_approvals.dropna(subset = ['ORIGINAL_APPROVAL_AMOUNT'])\n",
    "df_approvals_amounts['ORIGINAL_APPROVAL_AMOUNT'] = df_approvals_amounts['ORIGINAL_APPROVAL_AMOUNT'].apply(str)\n",
    "df_approvals_amounts = df_approvals_amounts[df_approvals_amounts['ORIGINAL_APPROVAL_AMOUNT'].str.isnumeric()]\n",
    "df_approvals_amounts['ORIGINAL_APPROVAL_AMOUNT'] = df_approvals_amounts['ORIGINAL_APPROVAL_AMOUNT'].apply(int)\n",
    "df_approvals_amounts['ORIGINAL_APPROVAL_AMOUNT'].apply(int).sum()"
   ]
  },
  {
   "cell_type": "code",
   "execution_count": 106,
   "metadata": {},
   "outputs": [
    {
     "data": {
      "text/plain": [
       "12901700"
      ]
     },
     "execution_count": 106,
     "metadata": {},
     "output_type": "execute_result"
    }
   ],
   "source": [
    "df_approvals_amounts['ORIGINAL_APPROVAL_AMOUNT'].max()"
   ]
  },
  {
   "cell_type": "code",
   "execution_count": 107,
   "metadata": {},
   "outputs": [
    {
     "data": {
      "text/plain": [
       "FY\n",
       "2001     946035600\n",
       "2002    1306076800\n",
       "2003     817835000\n",
       "2004     862540800\n",
       "2005    2247332100\n",
       "2006    8252253080\n",
       "2007     723995300\n",
       "2008     723269700\n",
       "2009    1035887200\n",
       "2010     481624900\n",
       "2011     671524400\n",
       "2012     655727400\n",
       "2013    2460026100\n",
       "2014     308048600\n",
       "2015     313943700\n",
       "2016    1219808100\n",
       "2017    1532572700\n",
       "2018    5925024400\n",
       "Name: ORIGINAL_APPROVAL_AMOUNT, dtype: int64"
      ]
     },
     "execution_count": 107,
     "metadata": {},
     "output_type": "execute_result"
    }
   ],
   "source": [
    "df_approvals_amounts.groupby(by = \"FY\")['ORIGINAL_APPROVAL_AMOUNT'].sum()"
   ]
  },
  {
   "cell_type": "code",
   "execution_count": null,
   "metadata": {},
   "outputs": [],
   "source": []
  }
 ],
 "metadata": {
  "kernelspec": {
   "display_name": "Python 3",
   "language": "python",
   "name": "python3"
  },
  "language_info": {
   "codemirror_mode": {
    "name": "ipython",
    "version": 3
   },
   "file_extension": ".py",
   "mimetype": "text/x-python",
   "name": "python",
   "nbconvert_exporter": "python",
   "pygments_lexer": "ipython3",
   "version": "3.7.3"
  }
 },
 "nbformat": 4,
 "nbformat_minor": 2
}
